{
 "cells": [
  {
   "cell_type": "markdown",
   "metadata": {},
   "source": [
    "# Interactive Voltage and Current Display"
   ]
  },
  {
   "cell_type": "code",
   "execution_count": 1,
   "metadata": {},
   "outputs": [],
   "source": [
    "%matplotlib inline\n",
    "%load_ext autoreload\n",
    "%autoreload 2"
   ]
  },
  {
   "cell_type": "code",
   "execution_count": 2,
   "metadata": {},
   "outputs": [],
   "source": [
    "import numpy as np\n",
    "import matplotlib.pyplot as plt\n",
    "from ipywidgets import interact, interactive, fixed, interact_manual\n",
    "import tresonator as T\n",
    "import skrf as rf"
   ]
  },
  {
   "cell_type": "code",
   "execution_count": 3,
   "metadata": {},
   "outputs": [],
   "source": [
    "# matched resonator measurement for SSA84\n",
    "tres_exp = rf.Network('data/SSA84_TaskB_resonator_matched_3.s1p')\n",
    "tres_exp.frequency.unit = 'MHz'"
   ]
  },
  {
   "cell_type": "code",
   "execution_count": 38,
   "metadata": {},
   "outputs": [],
   "source": [
    "# SSA84 optimized parameters to match the measurement above (done in another notebook)\n",
    "P_in=120 # kW\n",
    "L_DUT_opt=0.023  # m\n",
    "L_CEA_opt=0.1473  # m\n",
    "Z_DUT_opt=4.7e-06  # Ohm\n",
    "Z_CEA_opt=0.023  # Ohm\n",
    "add_loss_opt=0.9  # Multiplicative coefficient to total conductivity"
   ]
  },
  {
   "cell_type": "code",
   "execution_count": 46,
   "metadata": {},
   "outputs": [
    {
     "data": {
      "application/vnd.jupyter.widget-view+json": {
       "model_id": "961e0bf00b084a8cb95b6542890fb4ba",
       "version_major": 2,
       "version_minor": 0
      },
      "text/plain": [
       "interactive(children=(FloatSlider(value=61.71, description='freq', max=65.0, min=60.0, step=0.01), IntSlider(v…"
      ]
     },
     "metadata": {},
     "output_type": "display_data"
    }
   ],
   "source": [
    "@interact(freq=(60,65,0.01), P_in=(10, 200,1), \n",
    "         L_DUT=(1, 200, 0.1), L_CEA=(1, 200, 0.1), \n",
    "         Z_DUT=(1e-6, 0.1, 1e-6), Z_CEA=(1e-6, 0.1, 1e-6))\n",
    "def plot_voltage_current_vs_frequency(freq=61.71, P_in=P_in, \n",
    "                                      L_DUT=L_DUT_opt*1e3, L_CEA=L_CEA_opt*1e3, \n",
    "                                      Z_DUT=Z_DUT_opt, Z_CEA=Z_CEA_opt, \n",
    "                                      additional_losses=add_loss_opt):\n",
    "    cfg_opt = T.Configuration(freq*1e6, P_in*1e3, L_DUT*1e-3, L_CEA*1e-3, \n",
    "                               Z_short_DUT=Z_DUT, Z_short_CEA=Z_CEA, \n",
    "                               additional_losses=additional_losses)\n",
    "\n",
    "    # Calculates the voltage and current along the transmission lines\n",
    "    L_CEA, L_DUT, V_CEA, V_DUT, I_CEA, I_DUT = cfg_opt.voltage_current()\n",
    "\n",
    "    # Plotting V,I\n",
    "    fig, ax = plt.subplots(3,1, sharex=False, figsize=(10,5))\n",
    "    ax[0].plot(L_CEA, np.abs(V_CEA)/1e3,-L_DUT, np.abs(V_DUT)/1e3,  lw=2)\n",
    "    ax[0].set_ylim(0, 60)\n",
    "    ax[0].grid(True)\n",
    "    ax[0].set_xlim(min(-L_DUT), max(L_CEA))\n",
    "    ax[0].axvline(x=cfg_opt.L_Vprobe_CEA_fromT, ls='--', color='gray', lw=3)\n",
    "    ax[0].axvline(x=-cfg_opt.L_Vprobe_DUT_fromT, ls='--', color='gray', lw=3)\n",
    "    ax[0].set_ylabel('|V| [kV]', fontsize=14)\n",
    "    ax[0].tick_params(labelsize=14)\n",
    "\n",
    "    ax[1].plot(L_CEA, np.abs(I_CEA),-L_DUT, np.abs(I_DUT),  lw=2)\n",
    "    ax[1].set_ylim(0, 3000)\n",
    "    ax[1].grid(True)\n",
    "    ax[1].axvline(x=cfg_opt.L_Vprobe_CEA_fromT, ls='--', color='gray', lw=3)\n",
    "    ax[1].axvline(x=-cfg_opt.L_Vprobe_DUT_fromT, ls='--', color='gray', lw=3)\n",
    "    ax[1].set_xlabel('L [m]', fontsize=14)\n",
    "    ax[1].set_ylabel('|I| [A]', fontsize=14)\n",
    "    ax[1].tick_params(labelsize=14)\n",
    "    ax[1].set_xlim(min(-L_DUT), max(L_CEA))\n",
    "    \n",
    "    cfg_opt.circuit(rf.Frequency(61, 62, 1001, unit='MHz')).network.plot_s_db(ax=ax[2])\n",
    "    tres_exp.plot_s_db(ax=ax[2], color='darkgray', ls='--')\n",
    "    ax[2].set_xlim(61e6, 62e6)\n",
    "    ax[2].set_ylim(-50, 0)\n",
    "\n",
    "    \n"
   ]
  },
  {
   "cell_type": "markdown",
   "metadata": {},
   "source": [
    "# Deducing the current at the short from the voltage at the probes"
   ]
  },
  {
   "cell_type": "code",
   "execution_count": 24,
   "metadata": {},
   "outputs": [],
   "source": [
    "freq = 61.70\n",
    "cfg_opt = T.Configuration(freq*1e6, P_in, L_DUT_opt, L_CEA_opt, \n",
    "                            Z_short_DUT=Z_DUT_opt, Z_short_CEA=Z_CEA_opt, \n",
    "                               additional_losses=add_loss_opt)\n",
    "\n",
    "# varying the probe position to determine the sensibility \n",
    "cfg_opt.L_Vprobe_CEA_fromT = 1.236  # +/- 3 mm\n",
    "cfg_opt.L_Vprobe_DUT_fromT = 0.660  # +/- 3 mm?\n",
    "\n",
    "L_CEA, L_DUT, V_CEA, V_DUT, I_CEA, I_DUT = cfg_opt.voltage_current()\n",
    "\n",
    "I_max_CEA = np.abs(I_CEA[-1])\n",
    "I_max_DUT = np.abs(I_DUT[-1])\n",
    "V_max_CEA = np.max(np.abs(V_CEA))\n",
    "V_max_DUT = np.max(np.abs(V_DUT))\n",
    "V_probeCEA = np.abs(V_CEA[np.argmin(np.abs(L_CEA - cfg_opt.L_Vprobe_CEA_fromT))])\n",
    "V_probeDUT = np.abs(V_DUT[np.argmin(np.abs(L_DUT - cfg_opt.L_Vprobe_DUT_fromT))])"
   ]
  },
  {
   "cell_type": "code",
   "execution_count": 25,
   "metadata": {},
   "outputs": [
    {
     "name": "stdout",
     "output_type": "stream",
     "text": [
      "VprobeCEA -> V max CEA: 1.0004090849277916\n",
      "VprobeDUT -> V max DUT: 1.2037921987423104\n",
      "VprobeCEA -> I short CEA: 0.033727575551000435\n",
      "VprobeDUT -> I short DUT: 0.0637854526843531\n"
     ]
    }
   ],
   "source": [
    "coeffVprobeCEA_2_Vmax = V_max_CEA/V_probeCEA\n",
    "print('VprobeCEA -> V max CEA:', coeffVprobeCEA_2_Vmax)\n",
    "\n",
    "coeffVprobeDUT_2_Vmax = V_max_DUT/V_probeDUT\n",
    "print('VprobeDUT -> V max DUT:',coeffVprobeDUT_2_Vmax)\n",
    "\n",
    "coeffVprobeCEA_2_Imax = I_max_CEA/V_probeCEA\n",
    "print('VprobeCEA -> I short CEA:', coeffVprobeCEA_2_Imax)\n",
    "\n",
    "coeffVprobeDUT_2_Imax = I_max_DUT/V_probeDUT\n",
    "print('VprobeDUT -> I short DUT:',coeffVprobeDUT_2_Imax)"
   ]
  },
  {
   "cell_type": "code",
   "execution_count": null,
   "metadata": {},
   "outputs": [],
   "source": [
    "# Plotting V,I\n",
    "fig, ax = plt.subplots(3,1, sharex=False, figsize=(10,5))\n",
    "\n",
    "ax[0].plot(L_CEA, np.abs(V_CEA)/1e3,-L_DUT, np.abs(V_DUT)/1e3,  lw=2)\n",
    "ax[0].set_ylim(0, 60)\n",
    "ax[0].grid(True)\n",
    "ax[0].set_xlim(min(-L_DUT), max(L_CEA))\n",
    "ax[0].axvline(x=cfg_opt.L_Vprobe_CEA_fromT, ls='--', color='gray', lw=3)\n",
    "ax[0].axvline(x=-cfg_opt.L_Vprobe_DUT_fromT, ls='--', color='gray', lw=3)\n",
    "ax[0].set_ylabel('|V| [kV]', fontsize=14)\n",
    "ax[0].tick_params(labelsize=14)\n",
    "\n",
    "ax[1].plot(L_CEA, np.abs(I_CEA),-L_DUT, np.abs(I_DUT),  lw=2)\n",
    "ax[1].set_ylim(0, 3000)\n",
    "ax[1].grid(True)\n",
    "ax[1].axvline(x=cfg_opt.L_Vprobe_CEA_fromT, ls='--', color='gray', lw=3)\n",
    "ax[1].axvline(x=-cfg_opt.L_Vprobe_DUT_fromT, ls='--', color='gray', lw=3)\n",
    "ax[1].set_xlabel('L [m]', fontsize=14)\n",
    "ax[1].set_ylabel('|I| [A]', fontsize=14)\n",
    "ax[1].tick_params(labelsize=14)\n",
    "ax[1].set_xlim(min(-L_DUT), max(L_CEA))\n",
    "\n",
    "cfg_opt.circuit(rf.Frequency(61, 62, 1001, unit='MHz')).network.plot_s_db(ax=ax[2])\n",
    "ax[2].set_xlim(61e6, 62e6)"
   ]
  },
  {
   "cell_type": "code",
   "execution_count": null,
   "metadata": {},
   "outputs": [],
   "source": []
  }
 ],
 "metadata": {
  "kernelspec": {
   "display_name": "Python 3 (ipykernel)",
   "language": "python",
   "name": "python3"
  },
  "language_info": {
   "codemirror_mode": {
    "name": "ipython",
    "version": 3
   },
   "file_extension": ".py",
   "mimetype": "text/x-python",
   "name": "python",
   "nbconvert_exporter": "python",
   "pygments_lexer": "ipython3",
   "version": "3.9.7"
  }
 },
 "nbformat": 4,
 "nbformat_minor": 4
}
