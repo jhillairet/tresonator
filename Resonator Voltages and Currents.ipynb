{
 "cells": [
  {
   "cell_type": "markdown",
   "metadata": {},
   "source": [
    "# Interactive Voltage and Current Display"
   ]
  },
  {
   "cell_type": "code",
   "execution_count": 1,
   "metadata": {},
   "outputs": [],
   "source": [
    "%matplotlib inline\n",
    "%load_ext autoreload\n",
    "%autoreload 2"
   ]
  },
  {
   "cell_type": "code",
   "execution_count": 2,
   "metadata": {},
   "outputs": [],
   "source": [
    "import numpy as np\n",
    "import matplotlib.pyplot as plt\n",
    "from ipywidgets import interact, interactive, fixed, interact_manual\n",
    "import tresonator as T"
   ]
  },
  {
   "cell_type": "code",
   "execution_count": 3,
   "metadata": {},
   "outputs": [],
   "source": [
    "# results below obtained from previous optimization vs experimental data (62.640625 MHz)\n",
    "P_in=60e3 # W\n",
    "L_DUT_opt=0.0331  # m\n",
    "Z_DUT_opt=0.00345  # Ohm\n",
    "L_CEA_opt=0.0324  # m\n",
    "Z_CEA_opt=0.0068  # Ohm\n",
    "add_loss_opt=0.954  # Multiplicative coefficient to total conductivity"
   ]
  },
  {
   "cell_type": "code",
   "execution_count": 8,
   "metadata": {},
   "outputs": [
    {
     "data": {
      "application/vnd.jupyter.widget-view+json": {
       "model_id": "06d139ccb71d4884b361f25b0ae5d47c",
       "version_major": 2,
       "version_minor": 0
      },
      "text/plain": [
       "interactive(children=(FloatSlider(value=62.640625, description='freq', max=65.0, min=60.0), Output()), _dom_cl…"
      ]
     },
     "metadata": {},
     "output_type": "display_data"
    }
   ],
   "source": [
    "@interact(freq=(60,65,0.1))\n",
    "def plot_voltage_current_vs_frequency(freq=62.640625):\n",
    "    cfg_opt = T.Configuration(freq*1e6, P_in, L_DUT_opt, L_CEA_opt, \n",
    "                               Z_short_DUT = Z_DUT_opt, Z_short_CEA = Z_CEA_opt, \n",
    "                               additional_losses=add_loss_opt)\n",
    "\n",
    "    # Calculates the voltage and current along the transmission lines\n",
    "    L_CEA, L_DUT, V_CEA, V_DUT, I_CEA, I_DUT = cfg_opt.voltage_current()\n",
    "\n",
    "    # Plotting V,I\n",
    "    fig, ax = plt.subplots(2,1, sharex=True, figsize=(10,5))\n",
    "    ax[0].plot(L_CEA, np.abs(V_CEA)/1e3,-L_DUT, np.abs(V_DUT)/1e3,  lw=2)\n",
    "    ax[0].set_ylim(0, 45)\n",
    "    ax[0].grid(True)\n",
    "    ax[0].set_xlim(min(-L_DUT), max(L_CEA))\n",
    "    ax[0].axvline(x=cfg_opt.L_Vprobe_CEA_fromT, ls='--', color='gray', lw=3)\n",
    "    ax[0].axvline(x=-cfg_opt.L_Vprobe_DUT_fromT, ls='--', color='gray', lw=3)\n",
    "    ax[0].set_ylabel('|V| [kV]', fontsize=14)\n",
    "    ax[0].tick_params(labelsize=14)\n",
    "\n",
    "    ax[1].plot(L_CEA, np.abs(I_CEA),-L_DUT, np.abs(I_DUT),  lw=2)\n",
    "    ax[1].set_ylim(0, 2500)\n",
    "    ax[1].grid(True)\n",
    "    ax[1].axvline(x=cfg_opt.L_Vprobe_CEA_fromT, ls='--', color='gray', lw=3)\n",
    "    ax[1].axvline(x=-cfg_opt.L_Vprobe_DUT_fromT, ls='--', color='gray', lw=3)\n",
    "    ax[1].set_xlabel('L [m]', fontsize=14)\n",
    "    ax[1].set_ylabel('|I| [A]', fontsize=14)\n",
    "    ax[1].tick_params(labelsize=14)"
   ]
  },
  {
   "cell_type": "code",
   "execution_count": null,
   "metadata": {},
   "outputs": [],
   "source": []
  }
 ],
 "metadata": {
  "kernelspec": {
   "display_name": "Python 3",
   "language": "python",
   "name": "python3"
  },
  "language_info": {
   "codemirror_mode": {
    "name": "ipython",
    "version": 3
   },
   "file_extension": ".py",
   "mimetype": "text/x-python",
   "name": "python",
   "nbconvert_exporter": "python",
   "pygments_lexer": "ipython3",
   "version": "3.7.8"
  }
 },
 "nbformat": 4,
 "nbformat_minor": 4
}
