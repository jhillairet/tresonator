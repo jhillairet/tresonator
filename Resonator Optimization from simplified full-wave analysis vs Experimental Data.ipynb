{
 "cells": [
  {
   "cell_type": "code",
   "execution_count": 1,
   "metadata": {
    "collapsed": true
   },
   "outputs": [],
   "source": [
    "import numpy as np\n",
    "import matplotlib.pyplot as plt\n",
    "%matplotlib inline\n",
    "\n",
    "import skrf as rf\n",
    "rf.stylely()"
   ]
  },
  {
   "cell_type": "code",
   "execution_count": 2,
   "metadata": {
    "collapsed": true
   },
   "outputs": [],
   "source": [
    "from scipy.optimize import minimize"
   ]
  },
  {
   "cell_type": "markdown",
   "metadata": {},
   "source": [
    "In this notebook, we determine the short-circuit lengths and impedances in order to match low-power measurements. "
   ]
  },
  {
   "cell_type": "markdown",
   "metadata": {},
   "source": [
    "# Low power measurements"
   ]
  },
  {
   "cell_type": "code",
   "execution_count": 3,
   "metadata": {
    "collapsed": true
   },
   "outputs": [],
   "source": [
    "filename = 'data/RES2.ASC'"
   ]
  },
  {
   "cell_type": "code",
   "execution_count": 4,
   "metadata": {
    "collapsed": false
   },
   "outputs": [],
   "source": [
    "exp_freq,reS11,imS11 = np.loadtxt(filename, skiprows=14, delimiter=';', unpack=True)"
   ]
  },
  {
   "cell_type": "code",
   "execution_count": 5,
   "metadata": {
    "collapsed": false
   },
   "outputs": [
    {
     "name": "stdout",
     "output_type": "stream",
     "text": [
      "Match frequency : 62.640625 MHz\n"
     ]
    }
   ],
   "source": [
    "exp_mag = np.sqrt(reS11**2 + imS11**2)\n",
    "exp_mag_dB = 20*np.log10(exp_mag)\n",
    "# find the match frequency \n",
    "exp_frequency = rf.frequency.f_2_frequency(exp_freq) # -> into a skrf Frequency \n",
    "exp_freq_match = exp_freq[np.argmin(exp_mag)]\n",
    "print('Match frequency : {} MHz'.format(exp_freq_match/1e6))"
   ]
  },
  {
   "cell_type": "code",
   "execution_count": 6,
   "metadata": {
    "collapsed": false,
    "scrolled": true
   },
   "outputs": [
    {
     "data": {
      "text/plain": [
       "<matplotlib.text.Text at 0x9ffd828>"
      ]
     },
     "execution_count": 6,
     "metadata": {},
     "output_type": "execute_result"
    },
    {
     "data": {
      "image/png": "[encoded data removed]",
      "text/plain": [
       "<matplotlib.figure.Figure at 0x9ff2160>"
      ]
     },
     "metadata": {},
     "output_type": "display_data"
    }
   ],
   "source": [
    "fig,ax = plt.subplots()\n",
    "ax.plot(exp_freq/1e6, exp_mag_dB, lw=2)\n",
    "ax.grid(True)\n",
    "ax.set_ylabel('S11 [dB]')\n",
    "ax.set_xlabel('f [MHz]')"
   ]
  },
  {
   "cell_type": "markdown",
   "metadata": {},
   "source": [
    "# Electromagnetic Model"
   ]
  },
  {
   "cell_type": "code",
   "execution_count": 40,
   "metadata": {
    "collapsed": false
   },
   "outputs": [],
   "source": [
    "# Importing T-resonator S-parameters from HFSS \n",
    "resonator_base = rf.Network('data/SSA50_resonator_RFModels_Resonator_Base_SimplifiedInput.s3p', f_unit='MHz')\n",
    "# The experimental frequency band does not match the HFSS simulated one.  \n",
    "# So before making any operations between Networks, need to interpolate them. \n",
    "# It also speedup very much the Network connecting calculations.\n",
    "resonator_base = resonator_base.interpolate_from_f(exp_frequency)"
   ]
  },
  {
   "cell_type": "code",
   "execution_count": 41,
   "metadata": {
    "collapsed": false
   },
   "outputs": [
    {
     "data": {
      "text/plain": [
       "3-Port Network: 'SSA50_resonator_RFModels_Resonator_Base_SimplifiedInput',  61000000-64000000 Hz, 1601 pts, z0=[ 50.+0.j  50.+0.j  50.+0.j]"
      ]
     },
     "execution_count": 41,
     "metadata": {},
     "output_type": "execute_result"
    }
   ],
   "source": [
    "# Importation of scattering matrix from HFSS does not import the characteristic impedances ! So must be defined here :\n",
    "# resonator_base.z0 = [29.7, 29.7, 26.8] \n",
    "\n",
    "#resonator_base.renormalize(np.array([29.7,29.7,26.8]))\n",
    "resonator_base"
   ]
  },
  {
   "cell_type": "code",
   "execution_count": 42,
   "metadata": {
    "collapsed": false
   },
   "outputs": [],
   "source": [
    "# Coaxial media associated to transmission line for service stub and short circuits\n",
    "sc_DUT_media = rf.media.Coaxial(frequency=resonator_base.frequency, Dint=127.92e-3, Dout=216e-3, epsilon_r=1)\n",
    "sc_CEA_media = rf.media.Coaxial(frequency=resonator_base.frequency, Dint=140e-3, Dout=219e-3, epsilon_r=1)"
   ]
  },
  {
   "cell_type": "code",
   "execution_count": 43,
   "metadata": {
    "collapsed": false
   },
   "outputs": [],
   "source": [
    "# Creating networks for service stubs and shorts\n",
    "def resonator_network(d_sc_CEA = 69e-3, Z_sc_CEA = 10e-3, \n",
    "                      d_sc_DUT = 27e-3, Z_sc_DUT = 10e-3):\n",
    "    '''\n",
    "    Create and return the resonator Network from specified short-circuit lengths and resistances\n",
    "    '''\n",
    "    # Creating transmission line medias \n",
    "    sc_CEA = sc_CEA_media.line(d_sc_CEA, unit='m')**sc_CEA_media.resistor(Z_sc_CEA)**sc_CEA_media.short()\n",
    "    sc_DUT = sc_DUT_media.line(d_sc_DUT, unit='m')**sc_DUT_media.resistor(Z_sc_DUT)**sc_DUT_media.short()\n",
    "    # Connecting the resonator with its ports. \n",
    "    # Port 1 : resonator input\n",
    "    # Port 2 : DUT\n",
    "    # Port 3 : CEA\n",
    "    # Port 4: service stub\n",
    "    _res = rf.connect(resonator_base, 2, sc_CEA, 0) # resonator to CEA\n",
    "    res = rf.connect(_res, 1, sc_DUT, 0) # resonator to DUT    \n",
    "\n",
    "    return res"
   ]
  },
  {
   "cell_type": "code",
   "execution_count": 44,
   "metadata": {
    "collapsed": false
   },
   "outputs": [],
   "source": [
    "def f_match(resonator_network):\n",
    "    'Return the resonator match frequency'\n",
    "    return resonator_network.frequency[resonator_network.s_mag.argmin()].f[0]"
   ]
  },
  {
   "cell_type": "code",
   "execution_count": 45,
   "metadata": {
    "collapsed": false
   },
   "outputs": [
    {
     "data": {
      "text/plain": [
       "<matplotlib.lines.Line2D at 0x9fde978>"
      ]
     },
     "execution_count": 45,
     "metadata": {},
     "output_type": "execute_result"
    },
    {
     "data": {
      "image/png": "[encoded data removed]",
      "text/plain": [
       "<matplotlib.figure.Figure at 0xada67f0>"
      ]
     },
     "metadata": {},
     "output_type": "display_data"
    }
   ],
   "source": [
    "# Plot the default values resonator Network\n",
    "res=resonator_network()\n",
    "res.plot_s_db()\n",
    "plt.axvline(f_match(res), ls='--', color='k' )"
   ]
  },
  {
   "cell_type": "markdown",
   "metadata": {},
   "source": [
    "# Optimized Parameters (length and impedance)"
   ]
  },
  {
   "cell_type": "markdown",
   "metadata": {},
   "source": [
    "Now that we now the optimized short lengths in order to get the match frequency, let's optimize the short impedance in order to fit the resonator experimental Q quality factor.   "
   ]
  },
  {
   "cell_type": "code",
   "execution_count": 17,
   "metadata": {
    "collapsed": false
   },
   "outputs": [],
   "source": [
    "def optim_fun_impedance(short_properties):\n",
    "    'Generates a resonator network from short impedance (Z_DUT,Z_CEA) and returns t'\n",
    "    \n",
    "    d_DUT, Z_DUT, d_CEA, Z_CEA = short_properties\n",
    "    # calculates the resonator Network\n",
    "    res = resonator_network(d_sc_CEA=d_CEA, d_sc_DUT=d_DUT, \n",
    "                            Z_sc_CEA=Z_CEA, Z_sc_DUT=Z_DUT)\n",
    "\n",
    "    crit = np.sum( (res.s_db.squeeze() - exp_mag_dB)**2) #least square \n",
    "    print(short_properties, crit)\n",
    "    return crit    "
   ]
  },
  {
   "cell_type": "code",
   "execution_count": 80,
   "metadata": {
    "collapsed": false
   },
   "outputs": [],
   "source": [
    "d_DUT_0 = 0.030 # m  \n",
    "d_CEA_0 = 0.070 # m\n",
    "Z_DUT_0 = 0.003 # Ohm\n",
    "Z_CEA_0 = 0.006 # Ohm\n",
    "\n",
    "bounds_pties = ((10e-3, 70e-3), (1e-4, 1), # d,Z DUT\n",
    "                (5e-3, 200e-3), (1e-4, 1)) # d,Z CEA\n"
   ]
  },
  {
   "cell_type": "code",
   "execution_count": 81,
   "metadata": {
    "collapsed": false
   },
   "outputs": [
    {
     "name": "stdout",
     "output_type": "stream",
     "text": [
      "[ 0.03   0.003  0.07   0.006] 1437.1848756\n",
      "[ 0.03000001  0.003       0.07        0.006     ] 1437.23104862\n",
      "[ 0.03        0.00300001  0.07        0.006     ] 1437.18419805\n",
      "[ 0.03        0.003       0.07000001  0.006     ] 1437.19983044\n",
      "[ 0.03        0.003       0.07        0.00600001] 1437.1845596\n",
      "[ 0.01   1.     0.005  1.   ] 6534.08789253\n",
      "[ 0.01000001  1.          0.005       1.        ] 6534.08794087\n",
      "[ 0.01        1.00000001  0.005       1.        ] 6534.08789042\n",
      "[ 0.01        1.          0.00500001  1.        ] 6534.08785027\n",
      "[ 0.01        1.          0.005       1.00000001] 6534.08789256\n",
      "[ 0.02356117  0.32397579  0.0490738   0.32600996] 6474.48845832\n",
      "[ 0.02356118  0.32397579  0.0490738   0.32600996] 6474.48795845\n",
      "[ 0.02356117  0.3239758   0.0490738   0.32600996] 6474.48843917\n",
      "[ 0.02356117  0.32397579  0.04907381  0.32600996] 6474.48823715\n",
      "[ 0.02356117  0.32397579  0.0490738   0.32600997] 6474.48845759\n",
      "[ 0.02806229  0.09959473  0.06370245  0.10230407] 5988.24134842\n",
      "[ 0.0280623   0.09959473  0.06370245  0.10230407] 5988.23689892\n",
      "[ 0.02806229  0.09959474  0.06370245  0.10230407] 5988.24125538\n",
      "[ 0.02806229  0.09959473  0.06370246  0.10230407] 5988.23972496\n",
      "[ 0.02806229  0.09959473  0.06370245  0.10230408] 5988.24133104\n",
      "[ 0.02950673  0.02758937  0.06839688  0.03051538] 3788.53941749\n",
      "[ 0.02950674  0.02758937  0.06839688  0.03051538] 3788.51013586\n",
      "[ 0.02950673  0.02758938  0.06839688  0.03051538] 3788.53916838\n",
      "[ 0.02950673  0.02758937  0.06839689  0.03051538] 3788.52933409\n",
      "[ 0.02950673  0.02758937  0.06839688  0.03051539] 3788.53936336\n",
      "[ 0.02988857  0.00855467  0.06963786  0.01153796] 1372.71085237\n",
      "[ 0.02988858  0.00855467  0.06963786  0.01153796] 1373.8734669\n",
      "[ 0.02988857  0.00855468  0.06963786  0.01153796] 1372.66404718\n",
      "[ 0.02988857  0.00855467  0.06963787  0.01153796] 1373.03635196\n",
      "[ 0.02988857  0.00855467  0.06963786  0.01153797] 1372.69151177\n",
      "[ 0.02976362  0.01478341  0.06923177  0.01774795] 2046.48960782\n",
      "[ 0.02976363  0.01478341  0.06923177  0.01774795] 2046.43594936\n",
      "[ 0.02976362  0.01478342  0.06923177  0.01774795] 2046.48930866\n",
      "[ 0.02976362  0.01478341  0.06923178  0.01774795] 2046.47117029\n",
      "[ 0.02976362  0.01478341  0.06923177  0.01774796] 2046.48954911\n",
      "[ 0.02984737  0.01060867  0.06950395  0.01358578] 1144.94074555\n",
      "[ 0.02984738  0.01060867  0.06950395  0.01358578] 1144.86801196\n",
      "[ 0.02984737  0.01060868  0.06950395  0.01358578] 1144.94015481\n",
      "[ 0.02984737  0.01060867  0.06950396  0.01358578] 1144.9154153\n",
      "[ 0.02984737  0.01060867  0.06950395  0.01358579] 1144.94058613\n",
      "[ 0.02993987  0.00844088  0.06966372  0.0114235 ] 337.807937437\n",
      "[ 0.02993988  0.00844088  0.06966372  0.0114235 ] 338.014769027\n",
      "[ 0.02993987  0.00844089  0.06966372  0.0114235 ] 337.816889388\n",
      "[ 0.02993987  0.00844088  0.06966373  0.0114235 ] 337.888400355\n",
      "[ 0.02993987  0.00844088  0.06966372  0.01142351] 337.811246365\n",
      "[ 0.03003831  0.00310019  0.07000857  0.00609907] 1629.61477482\n",
      "[ 0.03003832  0.00310019  0.07000857  0.00609907] 1629.6659112\n",
      "[ 0.03003831  0.0031002   0.07000857  0.00609907] 1629.61433815\n",
      "[ 0.03003831  0.00310019  0.07000858  0.00609907] 1629.63167159\n",
      "[ 0.03003831  0.00310019  0.07000857  0.00609908] 1629.61454727\n",
      "[ 0.02995634  0.00754763  0.0697214   0.01053297] 442.862323957\n",
      "[ 0.02995635  0.00754763  0.0697214   0.01053297] 442.936899457\n",
      "[ 0.02995634  0.00754764  0.0697214   0.01053297] 442.862271329\n",
      "[ 0.02995634  0.00754763  0.06972141  0.01053297] 442.886871098\n",
      "[ 0.02995634  0.00754763  0.0697214   0.01053298] 442.86223325\n",
      "[ 0.02994441  0.00819459  0.06967963  0.01117795] 252.94938804\n",
      "[ 0.02994442  0.00819459  0.06967963  0.01117795] 252.979664366\n",
      "[ 0.02994441  0.0081946   0.06967963  0.01117795] 252.949422884\n",
      "[ 0.02994441  0.00819459  0.06967964  0.01117795] 252.95916151\n",
      "[ 0.02994441  0.00819459  0.06967963  0.01117796] 252.94937322\n",
      "[ 0.02990949  0.00909965  0.06961432  0.01208064] 523.522020121\n",
      "[ 0.0299095   0.00909965  0.06961432  0.01208064] 523.42071339\n",
      "[ 0.02990949  0.00909966  0.06961432  0.01208064] 523.520895439\n",
      "[ 0.02990949  0.00909965  0.06961433  0.01208064] 523.486368879\n",
      "[ 0.02990949  0.00909965  0.06961432  0.01208065] 523.521674122\n",
      "[ 0.02993986  0.00831252  0.06967112  0.01129558] 260.309733325\n",
      "[ 0.02993987  0.00831252  0.06967112  0.01129558] 260.31580795\n",
      "[ 0.02993986  0.00831253  0.06967112  0.01129558] 260.31228042\n",
      "[ 0.02993986  0.00831252  0.06967113  0.01129558] 260.314743167\n",
      "[ 0.02993986  0.00831252  0.06967112  0.01129559] 260.310723512\n",
      "[ 0.02994276  0.00823742  0.06967654  0.01122067] 248.434405565\n",
      "[ 0.02994277  0.00823742  0.06967654  0.01122067] 248.448161105\n",
      "[ 0.02994276  0.00823743  0.06967654  0.01122067] 248.434933667\n",
      "[ 0.02994276  0.00823742  0.06967655  0.01122067] 248.439309728\n",
      "[ 0.02994276  0.00823742  0.06967654  0.01122068] 248.43459858\n",
      "[ 0.02994238  0.00823791  0.06967646  0.01122117] 247.938996266\n",
      "[ 0.02994239  0.00823791  0.06967646  0.01122117] 247.951378878\n",
      "[ 0.02994238  0.00823792  0.06967646  0.01122117] 247.939584337\n",
      "[ 0.02994238  0.00823791  0.06967647  0.01122117] 247.943521748\n",
      "[ 0.02994238  0.00823791  0.06967646  0.01122118] 247.939213883\n",
      "[ 0.02993683  0.00820931  0.06967785  0.01119274] 239.448286643\n",
      "[ 0.02993684  0.00820931  0.06967785  0.01119274] 239.460629706\n",
      "[ 0.02993683  0.00820932  0.06967785  0.01119274] 239.448979674\n",
      "[ 0.02993683  0.00820931  0.06967786  0.01119274] 239.452943978\n",
      "[ 0.02993683  0.00820931  0.06967785  0.01119275] 239.448545405\n",
      "[ 0.02991467  0.0080949   0.06968339  0.01107899] 275.450969006\n",
      "[ 0.02991468  0.0080949   0.06968339  0.01107899] 275.398585597\n",
      "[ 0.02991467  0.00809491  0.06968339  0.01107899] 275.450635986\n",
      "[ 0.02991467  0.0080949   0.0696834   0.01107899] 275.432723803\n",
      "[ 0.02991467  0.0080949   0.06968339  0.011079  ] 275.45088694\n",
      "[ 0.02993125  0.00818046  0.06967924  0.01116405] 232.778380351\n",
      "[ 0.02993126  0.00818046  0.06967924  0.01116405] 232.782006625\n",
      "[ 0.02993125  0.00818047  0.06967924  0.01116405] 232.778519483\n",
      "[ 0.02993125  0.00818046  0.06967925  0.01116405] 232.779404869\n",
      "[ 0.02993125  0.00818046  0.06967924  0.01116406] 232.778431163\n",
      "[ 0.02992668  0.00815782  0.06968081  0.01114153] 234.67331849\n",
      "[ 0.02992669  0.00815782  0.06968081  0.01114153] 234.660215194\n",
      "[ 0.02992668  0.00815783  0.06968081  0.01114153] 234.67312305\n",
      "[ 0.02992668  0.00815782  0.06968082  0.01114153] 234.668329928\n",
      "[ 0.02992668  0.00815782  0.06968081  0.01114154] 234.673253955\n",
      "[ 0.02993009  0.00817472  0.06967964  0.01115835] 232.527032173\n",
      "[ 0.0299301   0.00817472  0.06967964  0.01115835] 232.526765149\n",
      "[ 0.02993009  0.00817473  0.06967964  0.01115835] 232.52706656\n",
      "[ 0.02993009  0.00817472  0.06967965  0.01115835] 232.526621461\n",
      "[ 0.02993009  0.00817472  0.06967964  0.01115836] 232.527045592\n",
      "[ 0.02993004  0.0081732   0.06967985  0.01115683] 232.513284482\n",
      "[ 0.02993005  0.0081732   0.06967985  0.01115683] 232.512947072\n",
      "[ 0.02993004  0.00817321  0.06967985  0.01115683] 232.513313307\n",
      "[ 0.02993004  0.0081732   0.06967986  0.01115683] 232.512843319\n",
      "[ 0.02993004  0.0081732   0.06967985  0.01115684] 232.513295832\n",
      "[ 0.02992983  0.00816712  0.06968066  0.01115075] 232.467241073\n",
      "[ 0.02992984  0.00816712  0.06968066  0.01115075] 232.466637528\n",
      "[ 0.02992983  0.00816713  0.06968066  0.01115075] 232.467248243\n",
      "[ 0.02992983  0.00816712  0.06968067  0.01115075] 232.466683394\n",
      "[ 0.02992983  0.00816712  0.06968066  0.01115076] 232.467244179\n",
      "[ 0.02992923  0.00814562  0.0696842   0.01112927] 232.363585625\n",
      "[ 0.02992924  0.00814562  0.0696842   0.01112927] 232.363444893\n",
      "[ 0.02992923  0.00814563  0.0696842   0.01112927] 232.3635399\n",
      "[ 0.02992923  0.00814562  0.06968421  0.01112927] 232.363115617\n",
      "[ 0.02992923  0.00814562  0.0696842   0.01112928] 232.363567685\n",
      "[ 0.02992831  0.00814078  0.06968735  0.01112438] 232.262344464\n",
      "[ 0.02992832  0.00814078  0.06968735  0.01112438] 232.262481257\n",
      "[ 0.02992831  0.00814079  0.06968735  0.01112438] 232.262296533\n",
      "[ 0.02992831  0.00814078  0.06968736  0.01112438] 232.261964557\n",
      "[ 0.02992831  0.00814078  0.06968735  0.01112439] 232.262325342\n",
      "[ 0.02992462  0.00812141  0.06969996  0.0111048 ] 231.902181934\n",
      "[ 0.02992463  0.00812141  0.06969996  0.0111048 ] 231.903402218\n",
      "[ 0.02992462  0.00812142  0.06969996  0.0111048 ] 231.90212283\n",
      "[ 0.02992462  0.00812141  0.06969997  0.0111048 ] 231.902150738\n",
      "[ 0.02992462  0.00812141  0.06969996  0.01110481] 231.902157427\n",
      "[ 0.02988865  0.00799112  0.06981488  0.01097237] 229.071017649\n",
      "[ 0.02988866  0.00799112  0.06981488  0.01097237] 229.077592154\n",
      "[ 0.02988865  0.00799113  0.06981488  0.01097237] 229.070922222\n",
      "[ 0.02988865  0.00799112  0.06981489  0.01097237] 229.072738032\n",
      "[ 0.02988865  0.00799112  0.06981488  0.01097238] 229.070973835\n",
      "[ 0.02979963  0.00772855  0.07009032  0.01070444] 223.170576995\n",
      "[ 0.02979964  0.00772855  0.07009032  0.01070444] 223.184223871\n",
      "[ 0.02979963  0.00772856  0.07009032  0.01070444] 223.1704564\n",
      "[ 0.02979963  0.00772855  0.07009033  0.01070444] 223.174652219\n",
      "[ 0.02979963  0.00772855  0.07009032  0.01070445] 223.17051682\n",
      "[ 0.02957519  0.00713777  0.07077279  0.01010013] 210.064077435\n",
      "[ 0.0295752   0.00713777  0.07077279  0.01010013] 210.086279255\n",
      "[ 0.02957519  0.00713778  0.07077279  0.01010013] 210.064009721\n",
      "[ 0.02957519  0.00713777  0.0707728   0.01010013] 210.071142018\n",
      "[ 0.02957519  0.00713777  0.07077279  0.01010014] 210.064030258\n",
      "[ 0.02921344  0.00623752  0.07185909  0.00917819] 192.195917953\n",
      "[ 0.02921345  0.00623752  0.07185909  0.00917819] 192.215985495\n",
      "[ 0.02921344  0.00623753  0.07185909  0.00917819] 192.196093107\n",
      "[ 0.02921344  0.00623752  0.0718591   0.00917819] 192.202674554\n",
      "[ 0.02921344  0.00623752  0.07185909  0.0091782 ] 192.195967892\n",
      "[ 0.02883029  0.00523845  0.07300308  0.00815518] 180.609538337\n",
      "[ 0.0288303   0.00523845  0.07300308  0.00815518] 180.630507105\n",
      "[ 0.02883029  0.00523846  0.07300308  0.00815518] 180.609630892\n",
      "[ 0.02883029  0.00523845  0.07300309  0.00815518] 180.61660379\n",
      "[ 0.02883029  0.00523845  0.07300308  0.00815519] 180.609555392\n",
      "[ 0.02862819  0.0047044   0.07359018  0.00760516] 171.55724135\n",
      "[ 0.0286282   0.0047044   0.07359018  0.00760516] 171.566015962\n",
      "[ 0.02862819  0.00470441  0.07359018  0.00760516] 171.557890179\n",
      "[ 0.02862819  0.0047044   0.07359019  0.00760516] 171.560966478\n",
      "[ 0.02862819  0.0047044   0.07359018  0.00760517] 171.557487564\n",
      "[ 0.02811057  0.0031137   0.07508233  0.00597037] 232.613440933\n",
      "[ 0.02811058  0.0031137   0.07508233  0.00597037] 232.577841805\n",
      "[ 0.02811057  0.00311371  0.07508233  0.00597037] 232.612233192\n",
      "[ 0.02811057  0.0031137   0.07508234  0.00597037] 232.60027936\n",
      "[ 0.02811057  0.0031137   0.07508233  0.00597038] 232.612995246\n",
      "[ 0.02853622  0.00442175  0.07385532  0.00731467] 166.184521236\n",
      "[ 0.02853623  0.00442175  0.07385532  0.00731467] 166.195541479\n",
      "[ 0.02853622  0.00442176  0.07385532  0.00731467] 166.184495567\n",
      "[ 0.02853622  0.00442175  0.07385533  0.00731467] 166.188210662\n",
      "[ 0.02853622  0.00442175  0.07385532  0.00731468] 166.184500908\n",
      "[ 0.0285254   0.00437457  0.07385767  0.00725923] 175.281906843\n",
      "[ 0.02852541  0.00437457  0.07385767  0.00725923] 175.254436108\n",
      "[ 0.0285254   0.00437458  0.07385767  0.00725923] 175.281160842\n",
      "[ 0.0285254   0.00437457  0.07385768  0.00725923] 175.271846711\n",
      "[ 0.0285254   0.00437457  0.07385767  0.00725924] 175.281636711\n",
      "[ 0.02853313  0.00440828  0.07385599  0.00729885] 164.244209383\n",
      "[ 0.02853314  0.00440828  0.07385599  0.00729885] 164.247942891\n",
      "[ 0.02853313  0.00440829  0.07385599  0.00729885] 164.243910286\n",
      "[ 0.02853313  0.00440828  0.073856    0.00729885] 164.245129444\n",
      "[ 0.02853313  0.00440828  0.07385599  0.00729886] 164.244088296\n",
      "[ 0.02861976  0.00464877  0.07359359  0.00754392] 162.860805289\n",
      "[ 0.02861977  0.00464877  0.07359359  0.00754392] 162.861002519\n",
      "[ 0.02861976  0.00464878  0.07359359  0.00754392] 162.860526065\n",
      "[ 0.02861976  0.00464877  0.0735936   0.00754392] 162.860534199\n",
      "[ 0.02861976  0.00464877  0.07359359  0.00754393] 162.860694389\n",
      "[ 0.02866173  0.00478033  0.0734672   0.00767776] 162.156859506\n",
      "[ 0.02866174  0.00478033  0.0734672   0.00767776] 162.15806956\n",
      "[ 0.02866173  0.00478034  0.0734672   0.00767776] 162.156699043\n",
      "[ 0.02866173  0.00478033  0.07346721  0.00767776] 162.15705743\n",
      "[ 0.02866173  0.00478033  0.0734672   0.00767777] 162.156794858\n",
      "[ 0.02865979  0.00481361  0.0734684   0.00770895] 161.505079003\n",
      "[ 0.0286598   0.00481361  0.0734684   0.00770895] 161.503721441\n",
      "[ 0.02865979  0.00481362  0.0734684   0.00770895] 161.504954165\n",
      "[ 0.02865979  0.00481361  0.07346841  0.00770895] 161.504455581\n",
      "[ 0.02865979  0.00481361  0.0734684   0.00770896] 161.505030566\n",
      "[ 0.02861791  0.00475068  0.07359066  0.00764157] 161.036018472\n",
      "[ 0.02861792  0.00475068  0.07359066  0.00764157] 161.036533197\n",
      "[ 0.02861791  0.00475069  0.07359066  0.00764157] 161.035990477\n",
      "[ 0.02861791  0.00475068  0.07359067  0.00764157] 161.036144887\n",
      "[ 0.02861791  0.00475068  0.07359066  0.00764158] 161.03600641\n",
      "[ 0.02856227  0.0046486   0.07375271  0.00753376] 161.032751757\n",
      "[ 0.02856228  0.0046486   0.07375271  0.00753376] 161.028894801\n",
      "[ 0.02856227  0.00464861  0.07375271  0.00753376] 161.032681783\n",
      "[ 0.02856227  0.0046486   0.07375272  0.00753376] 161.031374306\n",
      "[ 0.02856227  0.0046486   0.07375271  0.00753377] 161.032726957\n",
      "[ 0.02854407  0.00461144  0.07380777  0.00749535] 160.999030851\n",
      "[ 0.02854408  0.00461144  0.07380777  0.00749535] 160.999876735\n",
      "[ 0.02854407  0.00461145  0.07380777  0.00749535] 160.999027944\n",
      "[ 0.02854407  0.00461144  0.07380778  0.00749535] 160.999312326\n",
      "[ 0.02854407  0.00461144  0.07380777  0.00749536] 160.999028415\n",
      "[ 0.02854104  0.00461373  0.07381607  0.00749702] 160.991629665\n",
      "[ 0.02854105  0.00461373  0.07381607  0.00749702] 160.991550393\n",
      "[ 0.02854104  0.00461374  0.07381607  0.00749702] 160.99161798\n",
      "[ 0.02854104  0.00461373  0.07381608  0.00749702] 160.991590409\n",
      "[ 0.02854104  0.00461373  0.07381607  0.00749703] 160.991624566\n",
      "[ 0.02853612  0.00462109  0.07382962  0.00750334] 160.994908391\n",
      "[ 0.02853613  0.00462109  0.07382962  0.00750334] 160.993943208\n",
      "[ 0.02853612  0.0046211   0.07382962  0.00750334] 160.994892843\n",
      "[ 0.02853612  0.00462109  0.07382963  0.00750334] 160.994566872\n",
      "[ 0.02853612  0.00462109  0.07382962  0.00750335] 160.994902541\n",
      "[ 0.0285398   0.00461558  0.07381948  0.00749861] 160.99027215\n",
      "[ 0.02853981  0.00461558  0.07381948  0.00749861] 160.990026932\n",
      "[ 0.0285398   0.00461559  0.07381948  0.00749861] 160.990260142\n",
      "[ 0.0285398   0.00461558  0.07381949  0.00749861] 160.990176671\n",
      "[ 0.0285398   0.00461558  0.07381948  0.00749862] 160.990267063\n",
      "[ 0.02853456  0.0046261   0.07383397  0.00750797] 160.994827747\n",
      "[ 0.02853457  0.0046261   0.07383397  0.00750797] 160.993997479\n",
      "[ 0.02853456  0.00462611  0.07383397  0.00750797] 160.994816103\n",
      "[ 0.02853456  0.0046261   0.07383398  0.00750797] 160.994535493\n",
      "[ 0.02853456  0.0046261   0.07383397  0.00750798] 160.99482334\n",
      "[ 0.02853858  0.00461804  0.07382286  0.0075008 ] 160.989173937\n",
      "[ 0.02853859  0.00461804  0.07382286  0.0075008 ] 160.988864037\n",
      "[ 0.02853858  0.00461805  0.07382286  0.0075008 ] 160.989162984\n",
      "[ 0.02853858  0.00461804  0.07382287  0.0075008 ] 160.98905771\n",
      "[ 0.02853858  0.00461804  0.07382286  0.00750081] 160.989169319\n",
      "[ 0.02853271  0.00462667  0.07383932  0.00750825] 160.998846937\n",
      "[ 0.02853272  0.00462667  0.07383932  0.00750825] 160.998197284\n",
      "[ 0.02853271  0.00462668  0.07383932  0.00750825] 160.998838166\n",
      "[ 0.02853271  0.00462667  0.07383933  0.00750825] 160.998618459\n",
      "[ 0.02853271  0.00462667  0.07383932  0.00750826] 160.9988435\n",
      "[ 0.0285376   0.00461948  0.07382561  0.00750204] 160.989435171\n",
      "[ 0.02853761  0.00461948  0.07382561  0.00750204] 160.989121145\n",
      "[ 0.0285376   0.00461949  0.07382561  0.00750204] 160.989425303\n",
      "[ 0.0285376   0.00461948  0.07382562  0.00750204] 160.989318676\n",
      "[ 0.0285376   0.00461948  0.07382561  0.00750205] 160.989431\n",
      "[ 0.02853838  0.00461833  0.07382342  0.00750105] 160.98917811\n",
      "[ 0.02853839  0.00461833  0.07382342  0.00750105] 160.988868982\n",
      "[ 0.02853838  0.00461834  0.07382342  0.00750105] 160.989167377\n",
      "[ 0.02853838  0.00461833  0.07382343  0.00750105] 160.9890624\n",
      "[ 0.02853838  0.00461833  0.07382342  0.00750106] 160.989173598\n",
      "[ 0.02853854  0.0046181   0.07382298  0.00750085] 160.989172676\n",
      "[ 0.02853855  0.0046181   0.07382298  0.00750085] 160.988863007\n",
      "[ 0.02853854  0.00461811  0.07382298  0.00750085] 160.989161736\n",
      "[ 0.02853854  0.0046181   0.07382299  0.00750085] 160.989056582\n",
      "[ 0.02853854  0.0046181   0.07382298  0.00750086] 160.989168082\n",
      "[ 0.02853843  0.00461826  0.07382327  0.00750099] 160.989174455\n",
      "[ 0.02853844  0.00461826  0.07382327  0.00750099] 160.988865203\n",
      "[ 0.02853843  0.00461827  0.07382327  0.00750099] 160.989163672\n",
      "[ 0.02853843  0.00461826  0.07382328  0.00750099] 160.989058636\n",
      "[ 0.02853843  0.00461826  0.07382327  0.007501  ] 160.989169915\n",
      "[ 0.02853851  0.00461814  0.07382304  0.00750088] 160.989172463\n",
      "[ 0.02853852  0.00461814  0.07382304  0.00750088] 160.988862902\n",
      "[ 0.02853851  0.00461815  0.07382304  0.00750088] 160.989161577\n",
      "[ 0.02853851  0.00461814  0.07382305  0.00750088] 160.989056435\n",
      "[ 0.02853851  0.00461814  0.07382304  0.00750089] 160.989167884\n",
      "[ 0.02853846  0.00461821  0.0738232   0.00750095] 160.989173316\n",
      "[ 0.02853847  0.00461821  0.0738232   0.00750095] 160.988863971\n",
      "[ 0.02853846  0.00461822  0.0738232   0.00750095] 160.989162467\n",
      "[ 0.02853846  0.00461821  0.07382321  0.00750095] 160.98905743\n",
      "[ 0.02853846  0.00461821  0.0738232   0.00750096] 160.989168758\n",
      "[ 0.0285385   0.00461815  0.07382308  0.0075009 ] 160.989172483\n",
      "[ 0.02853851  0.00461815  0.07382308  0.0075009 ] 160.988862973\n",
      "[ 0.0285385   0.00461816  0.07382308  0.0075009 ] 160.989161583\n",
      "[ 0.0285385   0.00461815  0.07382309  0.0075009 ] 160.989056486\n",
      "[ 0.0285385   0.00461815  0.07382308  0.00750091] 160.989167909\n",
      "[ 0.02853851  0.00461814  0.07382305  0.00750089] 160.989172454\n",
      "[ 0.02853852  0.00461814  0.07382305  0.00750089] 160.988862904\n",
      "[ 0.02853851  0.00461815  0.07382305  0.00750089] 160.989161588\n",
      "[ 0.02853851  0.00461814  0.07382306  0.00750089] 160.989056433\n",
      "[ 0.02853851  0.00461814  0.07382305  0.0075009 ] 160.989167878\n",
      "[ 0.02853851  0.00461815  0.07382307  0.00750089] 160.989172482\n",
      "[ 0.02853852  0.00461815  0.07382307  0.00750089] 160.988862957\n",
      "[ 0.02853851  0.00461816  0.07382307  0.00750089] 160.989161603\n",
      "[ 0.02853851  0.00461815  0.07382308  0.00750089] 160.989056477\n",
      "[ 0.02853851  0.00461815  0.07382307  0.0075009 ] 160.989167899\n",
      "[ 0.02853851  0.00461814  0.07382305  0.00750089] 160.989172454\n",
      "[ 0.02853852  0.00461814  0.07382305  0.00750089] 160.988862904\n",
      "[ 0.02853851  0.00461815  0.07382305  0.00750089] 160.989161588\n",
      "[ 0.02853851  0.00461814  0.07382306  0.00750089] 160.989056433\n",
      "[ 0.02853851  0.00461814  0.07382305  0.0075009 ] 160.989167878\n",
      "[ 0.02852875  0.00462028  0.07385109  0.00750035] 161.012458163\n",
      "[ 0.02852876  0.00462028  0.07385109  0.00750035] 161.012178476\n",
      "[ 0.02852875  0.00462029  0.07385109  0.00750035] 161.012453057\n",
      "[ 0.02852875  0.00462028  0.0738511   0.00750035] 161.012358593\n",
      "[ 0.02852875  0.00462028  0.07385109  0.00750036] 161.012455842\n",
      "[ 0.02853744  0.00461838  0.07382614  0.00750083] 160.990587409\n",
      "[ 0.02853745  0.00461838  0.07382614  0.00750083] 160.990325807\n",
      "[ 0.02853744  0.00461839  0.07382614  0.00750083] 160.990577878\n",
      "[ 0.02853744  0.00461838  0.07382615  0.00750083] 160.990489005\n",
      "[ 0.02853744  0.00461838  0.07382614  0.00750084] 160.990583325\n",
      "[ 0.02853837  0.00461817  0.07382345  0.00750088] 160.989335395\n",
      "[ 0.02853838  0.00461817  0.07382345  0.00750088] 160.989032644\n",
      "[ 0.02853837  0.00461818  0.07382345  0.00750088] 160.9893247\n",
      "[ 0.02853837  0.00461817  0.07382346  0.00750088] 160.989221866\n",
      "[ 0.02853837  0.00461817  0.07382345  0.00750089] 160.989330888\n",
      "[ 0.02853849  0.00461814  0.0738231   0.00750088] 160.989193739\n",
      "[ 0.0285385   0.00461814  0.0738231   0.00750088] 160.988885098\n",
      "[ 0.02853849  0.00461815  0.0738231   0.00750088] 160.989182865\n",
      "[ 0.02853849  0.00461814  0.07382311  0.00750088] 160.98907805\n",
      "[ 0.02853849  0.00461814  0.0738231   0.00750089] 160.989189167\n",
      "[ 0.02853851  0.00461814  0.07382306  0.00750088] 160.989175293\n",
      "[ 0.02853852  0.00461814  0.07382306  0.00750088] 160.988865862\n",
      "[ 0.02853851  0.00461815  0.07382306  0.00750088] 160.989164405\n",
      "[ 0.02853851  0.00461814  0.07382307  0.00750088] 160.989059315\n",
      "[ 0.02853851  0.00461814  0.07382306  0.00750089] 160.989170723\n",
      "[ 0.02853851  0.00461814  0.07382305  0.00750089] 160.989172845\n",
      "[ 0.02853852  0.00461814  0.07382305  0.00750089] 160.988863309\n",
      "[ 0.02853851  0.00461815  0.07382305  0.00750089] 160.989161933\n",
      "[ 0.02853851  0.00461814  0.07382306  0.00750089] 160.989056828\n",
      "[ 0.02853851  0.00461814  0.07382305  0.0075009 ] 160.989168268\n",
      "[ 0.02853851  0.00461814  0.07382305  0.00750089] 160.989172534\n",
      "[ 0.02853852  0.00461814  0.07382305  0.00750089] 160.988862982\n",
      "[ 0.02853851  0.00461815  0.07382305  0.00750089] 160.989161622\n",
      "[ 0.02853851  0.00461814  0.07382306  0.00750089] 160.989056512\n",
      "[ 0.02853851  0.00461814  0.07382305  0.0075009 ] 160.989167951\n",
      "[ 0.02853851  0.00461814  0.07382305  0.00750089] 160.989172477\n",
      "[ 0.02853852  0.00461814  0.07382305  0.00750089] 160.988862925\n",
      "[ 0.02853851  0.00461815  0.07382305  0.00750089] 160.989161589\n",
      "[ 0.02853851  0.00461814  0.07382306  0.00750089] 160.989056455\n",
      "[ 0.02853851  0.00461814  0.07382305  0.0075009 ] 160.989167903\n",
      "[ 0.02853851  0.00461814  0.07382305  0.00750089] 160.989172486\n",
      "[ 0.02853852  0.00461814  0.07382305  0.00750089] 160.988862932\n",
      "[ 0.02853851  0.00461815  0.07382305  0.00750089] 160.98916157\n",
      "[ 0.02853851  0.00461814  0.07382306  0.00750089] 160.989056463\n",
      "[ 0.02853851  0.00461814  0.07382305  0.0075009 ] 160.989167902\n",
      "[ 0.02853851  0.00461814  0.07382305  0.00750089] 160.989172473\n",
      "[ 0.02853852  0.00461814  0.07382305  0.00750089] 160.988862921\n",
      "[ 0.02853851  0.00461815  0.07382305  0.00750089] 160.989161586\n",
      "[ 0.02853851  0.00461814  0.07382306  0.00750089] 160.98905645\n",
      "[ 0.02853851  0.00461814  0.07382305  0.0075009 ] 160.98916789\n",
      "[ 0.02853851  0.00461814  0.07382305  0.00750089] 160.989172454\n",
      "[ 0.02853852  0.00461814  0.07382305  0.00750089] 160.988862904\n",
      "[ 0.02853851  0.00461815  0.07382305  0.00750089] 160.989161588\n",
      "[ 0.02853851  0.00461814  0.07382306  0.00750089] 160.989056433\n",
      "[ 0.02853851  0.00461814  0.07382305  0.0075009 ] 160.989167878\n",
      "[ 0.02853851  0.00461814  0.07382305  0.00750089] 160.989172454\n",
      "[ 0.02853852  0.00461814  0.07382305  0.00750089] 160.988862904\n",
      "[ 0.02853851  0.00461815  0.07382305  0.00750089] 160.989161588\n",
      "[ 0.02853851  0.00461814  0.07382306  0.00750089] 160.989056433\n",
      "[ 0.02853851  0.00461814  0.07382305  0.0075009 ] 160.989167878\n",
      "[ 0.02853851  0.00461814  0.07382305  0.00750089] 160.989172469\n",
      "[ 0.02853852  0.00461814  0.07382305  0.00750089] 160.988862917\n",
      "[ 0.02853851  0.00461815  0.07382305  0.00750089] 160.98916158\n",
      "[ 0.02853851  0.00461814  0.07382306  0.00750089] 160.989056447\n",
      "[ 0.02853851  0.00461814  0.07382305  0.0075009 ] 160.989167898\n",
      "[ 0.02853851  0.00461814  0.07382305  0.00750089] 160.989172454\n",
      "[ 0.02853852  0.00461814  0.07382305  0.00750089] 160.988862904\n",
      "[ 0.02853851  0.00461815  0.07382305  0.00750089] 160.989161588\n",
      "[ 0.02853851  0.00461814  0.07382306  0.00750089] 160.989056433\n",
      "[ 0.02853851  0.00461814  0.07382305  0.0075009 ] 160.989167878\n",
      "[ 0.02853851  0.00461814  0.07382305  0.00750089] 160.989172454\n",
      "[ 0.02853852  0.00461814  0.07382305  0.00750089] 160.988862904\n",
      "[ 0.02853851  0.00461815  0.07382305  0.00750089] 160.989161588\n",
      "[ 0.02853851  0.00461814  0.07382306  0.00750089] 160.989056433\n",
      "[ 0.02853851  0.00461814  0.07382305  0.0075009 ] 160.989167878\n",
      "[ 0.02853851  0.00461814  0.07382305  0.00750089] 160.989172494\n",
      "[ 0.02853852  0.00461814  0.07382305  0.00750089] 160.988862939\n",
      "[ 0.02853851  0.00461815  0.07382305  0.00750089] 160.989161591\n",
      "[ 0.02853851  0.00461814  0.07382306  0.00750089] 160.989056471\n",
      "[ 0.02853851  0.00461814  0.07382305  0.0075009 ] 160.989167917\n",
      "[ 0.02853851  0.00461814  0.07382305  0.00750089] 160.989172454\n",
      "[ 0.02853852  0.00461814  0.07382305  0.00750089] 160.988862904\n",
      "[ 0.02853851  0.00461815  0.07382305  0.00750089] 160.989161588\n",
      "[ 0.02853851  0.00461814  0.07382306  0.00750089] 160.989056433\n",
      "[ 0.02853851  0.00461814  0.07382305  0.0075009 ] 160.989167878\n",
      "[ 0.02853851  0.00461814  0.07382305  0.00750089] 160.989172454\n",
      "[ 0.02853852  0.00461814  0.07382305  0.00750089] 160.988862904\n",
      "[ 0.02853851  0.00461815  0.07382305  0.00750089] 160.989161588\n",
      "[ 0.02853851  0.00461814  0.07382306  0.00750089] 160.989056433\n",
      "[ 0.02853851  0.00461814  0.07382305  0.0075009 ] 160.989167878\n",
      "[ 0.02853851  0.00461814  0.07382305  0.00750089] 160.989172462\n",
      "[ 0.02853852  0.00461814  0.07382305  0.00750089] 160.988862912\n",
      "[ 0.02853851  0.00461815  0.07382305  0.00750089] 160.989161578\n",
      "[ 0.02853851  0.00461814  0.07382306  0.00750089] 160.989056441\n",
      "[ 0.02853851  0.00461814  0.07382305  0.0075009 ] 160.989167889\n",
      "[ 0.02853851  0.00461814  0.07382305  0.00750089] 160.989172454\n",
      "[ 0.02853852  0.00461814  0.07382305  0.00750089] 160.988862904\n",
      "[ 0.02853851  0.00461815  0.07382305  0.00750089] 160.989161588\n",
      "[ 0.02853851  0.00461814  0.07382306  0.00750089] 160.989056433\n",
      "[ 0.02853851  0.00461814  0.07382305  0.0075009 ] 160.989167878\n",
      "[ 0.07  1.    0.2   1.  ] 6637.3203704\n",
      "[ 0.07000001  1.          0.2         1.        ] 6637.32037411\n",
      "[ 0.07        1.00000001  0.2         1.        ] 6637.32036903\n",
      "[ 0.07        1.          0.20000001  1.        ] 6637.32036425\n",
      "[ 0.07        1.          0.2         1.00000001] 6637.32036815\n",
      "[ 0.03192019  0.08580338  0.08411428  0.088451  ] 7024.55941346\n",
      "[ 0.0319202   0.08580338  0.08411428  0.088451  ] 7024.56145954\n",
      "[ 0.03192019  0.08580339  0.08411428  0.088451  ] 7024.55934319\n",
      "[ 0.03192019  0.08580338  0.08411429  0.088451  ] 7024.55976429\n",
      "[ 0.03192019  0.08580338  0.08411428  0.08845101] 7024.55936658\n",
      "[ 0.02856662  0.00529301  0.0739086   0.0081738 ] 564.651852061\n",
      "[ 0.02856663  0.00529301  0.0739086   0.0081738 ] 564.782009237\n",
      "[ 0.02856662  0.00529302  0.0739086   0.0081738 ] 564.6507806\n",
      "[ 0.02856662  0.00529301  0.07390861  0.0081738 ] 564.694179946\n",
      "[ 0.02856662  0.00529301  0.0739086   0.00817381] 564.651319125\n",
      "[ 0.02853858  0.00461978  0.07382326  0.00750252] 160.997683757\n",
      "[ 0.02853859  0.00461978  0.07382326  0.00750252] 160.999315549\n",
      "[ 0.02853858  0.00461979  0.07382326  0.00750252] 160.997696203\n",
      "[ 0.02853858  0.00461978  0.07382327  0.00750252] 160.998245397\n",
      "[ 0.02853858  0.00461978  0.07382326  0.00750253] 160.997686712\n",
      "[ 0.02853853  0.00461852  0.0738231   0.00750127] 160.988264811\n",
      "[ 0.02853854  0.00461852  0.0738231   0.00750127] 160.988401868\n",
      "[ 0.02853853  0.00461853  0.0738231   0.00750127] 160.98825927\n",
      "[ 0.02853853  0.00461852  0.07382311  0.00750127] 160.988304663\n",
      "[ 0.02853853  0.00461852  0.0738231   0.00750128] 160.988261956\n",
      "[ 0.02853852  0.0046186   0.07382311  0.00750134] 160.988181749\n",
      "[ 0.02853853  0.0046186   0.07382311  0.00750134] 160.988295047\n",
      "[ 0.02853852  0.00461861  0.07382311  0.00750134] 160.988175963\n",
      "[ 0.02853852  0.0046186   0.07382312  0.00750134] 160.988213335\n",
      "[ 0.02853852  0.0046186   0.07382311  0.00750135] 160.988178816\n",
      "[ 0.0285385   0.0046189   0.07382314  0.00750164] 160.98790156\n",
      "[ 0.02853851  0.0046189   0.07382314  0.00750164] 160.987919638\n",
      "[ 0.0285385   0.00461891  0.07382314  0.00750164] 160.987894743\n",
      "[ 0.0285385   0.0046189   0.07382315  0.00750164] 160.987900024\n",
      "[ 0.0285385   0.0046189   0.07382314  0.00750165] 160.987898309\n",
      "[ 0.02853831  0.00462215  0.07382345  0.00750488] 160.986029742\n",
      "[ 0.02853832  0.00462215  0.07382345  0.00750488] 160.985664755\n",
      "[ 0.02853831  0.00462216  0.07382345  0.00750488] 160.986019672\n",
      "[ 0.02853831  0.00462215  0.07382346  0.00750488] 160.985895676\n",
      "[ 0.02853831  0.00462215  0.07382345  0.00750489] 160.986025539\n",
      "[ 0.02853797  0.00462839  0.07382408  0.00751108] 160.983780962\n",
      "[ 0.02853798  0.00462839  0.07382408  0.00751108] 160.983115873\n",
      "[ 0.02853797  0.0046284   0.07382408  0.00751108] 160.983769772\n",
      "[ 0.02853797  0.00462839  0.07382409  0.00751108] 160.983544312\n",
      "[ 0.02853797  0.00462839  0.07382408  0.00751109] 160.983776583\n",
      "[ 0.02853758  0.00463639  0.07382489  0.00751904] 160.981296985\n",
      "[ 0.02853759  0.00463639  0.07382489  0.00751904] 160.980622786\n",
      "[ 0.02853758  0.0046364   0.07382489  0.00751904] 160.981288124\n",
      "[ 0.02853758  0.00463639  0.0738249   0.00751904] 160.981059131\n",
      "[ 0.02853758  0.00463639  0.07382489  0.00751905] 160.981293526\n",
      "[ 0.02853736  0.00464497  0.07382622  0.0075278 ] 161.033205562\n",
      "[ 0.02853737  0.00464497  0.07382622  0.0075278 ] 161.037043468\n",
      "[ 0.02853736  0.00464498  0.07382622  0.0075278 ] 161.033241682\n",
      "[ 0.02853736  0.00464497  0.07382623  0.0075278 ] 161.034530583\n",
      "[ 0.02853736  0.00464497  0.07382622  0.00752781] 161.033215924\n",
      "[ 0.02853755  0.00463788  0.07382512  0.00752056] 160.978939445\n",
      "[ 0.02853756  0.00463788  0.07382512  0.00752056] 160.979018926\n",
      "[ 0.02853755  0.00463789  0.07382512  0.00752056] 160.978938406\n",
      "[ 0.02853755  0.00463788  0.07382513  0.00752056] 160.978963034\n",
      "[ 0.02853755  0.00463788  0.07382512  0.00752057] 160.978938424\n",
      "[ 0.02853715  0.00464593  0.07382594  0.00752857] 160.978835251\n",
      "[ 0.02853716  0.00464593  0.07382594  0.00752857] 160.978801069\n",
      "[ 0.02853715  0.00464594  0.07382594  0.00752857] 160.978834551\n",
      "[ 0.02853715  0.00464593  0.07382595  0.00752857] 160.978820262\n",
      "[ 0.02853715  0.00464593  0.07382594  0.00752858] 160.978834466\n",
      "[ 0.0285369   0.00465129  0.0738265   0.00753392] 160.979607731\n",
      "[ 0.02853691  0.00465129  0.0738265   0.00753392] 160.979545456\n",
      "[ 0.0285369   0.0046513   0.0738265   0.00753392] 160.97960755\n",
      "[ 0.0285369   0.00465129  0.07382651  0.00753392] 160.979583347\n",
      "[ 0.0285369   0.00465129  0.0738265   0.00753393] 160.979607178\n",
      "[ 0.02853713  0.00464649  0.07382599  0.00752913] 160.97888659\n",
      "[ 0.02853714  0.00464649  0.07382599  0.00752913] 160.978851813\n",
      "[ 0.02853713  0.0046465   0.07382599  0.00752913] 160.978885974\n",
      "[ 0.02853713  0.00464649  0.073826    0.00752913] 160.978871435\n",
      "[ 0.02853713  0.00464649  0.07382599  0.00752914] 160.978885839\n",
      "[ 0.02853715  0.00464599  0.07382594  0.00752864] 160.978840844\n",
      "[ 0.02853716  0.00464599  0.07382594  0.00752864] 160.978806624\n",
      "[ 0.02853715  0.004646    0.07382594  0.00752864] 160.978840152\n",
      "[ 0.02853715  0.00464599  0.07382595  0.00752864] 160.978825846\n",
      "[ 0.02853715  0.00464599  0.07382594  0.00752865] 160.978840061\n",
      "[ 0.02853715  0.00464594  0.07382594  0.00752858] 160.978835906\n",
      "[ 0.02853716  0.00464594  0.07382594  0.00752858] 160.978801723\n",
      "[ 0.02853715  0.00464595  0.07382594  0.00752858] 160.978835205\n",
      "[ 0.02853715  0.00464594  0.07382595  0.00752858] 160.978820916\n",
      "[ 0.02853715  0.00464594  0.07382594  0.00752859] 160.97883512\n",
      "[ 0.02853715  0.00464593  0.07382594  0.00752857] 160.978835328\n",
      "[ 0.02853716  0.00464593  0.07382594  0.00752857] 160.978801149\n",
      "[ 0.02853715  0.00464594  0.07382594  0.00752857] 160.978834633\n",
      "[ 0.02853715  0.00464593  0.07382595  0.00752857] 160.978820339\n",
      "[ 0.02853715  0.00464593  0.07382594  0.00752858] 160.978834542\n",
      "[ 0.02853715  0.00464593  0.07382594  0.00752857] 160.978835261\n",
      "[ 0.02853716  0.00464593  0.07382594  0.00752857] 160.978801082\n",
      "[ 0.02853715  0.00464594  0.07382594  0.00752857] 160.978834556\n",
      "[ 0.02853715  0.00464593  0.07382595  0.00752857] 160.978820273\n",
      "[ 0.02853715  0.00464593  0.07382594  0.00752858] 160.978834475\n",
      "[ 0.02853715  0.00464593  0.07382594  0.00752857] 160.978835251\n",
      "[ 0.02853716  0.00464593  0.07382594  0.00752857] 160.978801071\n",
      "[ 0.02853715  0.00464594  0.07382594  0.00752857] 160.978834544\n",
      "[ 0.02853715  0.00464593  0.07382595  0.00752857] 160.978820262\n",
      "[ 0.02853715  0.00464593  0.07382594  0.00752858] 160.978834465\n",
      "[ 0.02853715  0.00464593  0.07382594  0.00752857] 160.97883525\n",
      "[ 0.02853716  0.00464593  0.07382594  0.00752857] 160.978801071\n",
      "[ 0.02853715  0.00464594  0.07382594  0.00752857] 160.978834548\n",
      "[ 0.02853715  0.00464593  0.07382595  0.00752857] 160.978820262\n",
      "[ 0.02853715  0.00464593  0.07382594  0.00752858] 160.978834466\n",
      "[ 0.02853715  0.00464593  0.07382594  0.00752857] 160.978835254\n",
      "[ 0.02853716  0.00464593  0.07382594  0.00752857] 160.978801074\n",
      "[ 0.02853715  0.00464594  0.07382594  0.00752857] 160.978834553\n",
      "[ 0.02853715  0.00464593  0.07382595  0.00752857] 160.978820265\n",
      "[ 0.02853715  0.00464593  0.07382594  0.00752858] 160.978834469\n",
      "[ 0.02853715  0.00464593  0.07382594  0.00752857] 160.978835254\n",
      "[ 0.02853716  0.00464593  0.07382594  0.00752857] 160.978801077\n",
      "[ 0.02853715  0.00464594  0.07382594  0.00752857] 160.978834551\n",
      "[ 0.02853715  0.00464593  0.07382595  0.00752857] 160.978820267\n",
      "[ 0.02853715  0.00464593  0.07382594  0.00752858] 160.978834471\n",
      "[ 0.02853715  0.00464593  0.07382594  0.00752857] 160.97883525\n",
      "[ 0.02853716  0.00464593  0.07382594  0.00752857] 160.978801071\n",
      "[ 0.02853715  0.00464594  0.07382594  0.00752857] 160.978834548\n",
      "[ 0.02853715  0.00464593  0.07382595  0.00752857] 160.978820262\n",
      "[ 0.02853715  0.00464593  0.07382594  0.00752858] 160.978834466\n"
     ]
    }
   ],
   "source": [
    "opt_res = minimize(optim_fun_impedance, (d_DUT_0, Z_DUT_0, d_CEA_0, Z_CEA_0),\n",
    "                  bounds=bounds_pties)"
   ]
  },
  {
   "cell_type": "code",
   "execution_count": 82,
   "metadata": {
    "collapsed": false,
    "scrolled": true
   },
   "outputs": [
    {
     "name": "stdout",
     "output_type": "stream",
     "text": [
      "      fun: 160.97883525026086\n",
      " hess_inv: <4x4 LbfgsInvHessProduct with dtype=float64>\n",
      "      jac: array([-3417.88520188,   -70.17650319, -1498.83239544,   -78.46253709])\n",
      "  message: b'CONVERGENCE: REL_REDUCTION_OF_F_<=_FACTR*EPSMCH'\n",
      "     nfev: 510\n",
      "      nit: 36\n",
      "   status: 0\n",
      "  success: True\n",
      "        x: array([ 0.02853715,  0.00464593,  0.07382594,  0.00752857])\n"
     ]
    }
   ],
   "source": [
    "print(opt_res)\n",
    "d_DUT_opt, Z_DUT_opt, d_CEA_opt, Z_CEA_opt = opt_res.x"
   ]
  },
  {
   "cell_type": "code",
   "execution_count": 83,
   "metadata": {
    "collapsed": false
   },
   "outputs": [
    {
     "data": {
      "text/plain": [
       "<matplotlib.legend.Legend at 0xd5cbc88>"
      ]
     },
     "execution_count": 83,
     "metadata": {},
     "output_type": "execute_result"
    },
    {
     "data": {
      "image/png": "[encoded data removed]",
      "text/plain": [
       "<matplotlib.figure.Figure at 0xd5af668>"
      ]
     },
     "metadata": {},
     "output_type": "display_data"
    }
   ],
   "source": [
    "resonator_network(d_sc_DUT=d_DUT_opt, d_sc_CEA=d_CEA_opt, \n",
    "                  Z_sc_CEA=Z_CEA_opt, Z_sc_DUT=Z_DUT_opt).plot_s_db()\n",
    "plt.plot(exp_freq, exp_mag_dB)\n",
    "plt.xlim(62.5e6, 62.8e6)\n",
    "plt.axvline(exp_freq_match, color='k', ls='--')\n",
    "plt.legend(('Optimized shorts', 'Measurements'))"
   ]
  },
  {
   "cell_type": "markdown",
   "metadata": {},
   "source": [
    "## Map of the short lengths"
   ]
  },
  {
   "cell_type": "code",
   "execution_count": 69,
   "metadata": {
    "collapsed": false
   },
   "outputs": [
    {
     "data": {
      "text/plain": [
       "875"
      ]
     },
     "execution_count": 69,
     "metadata": {},
     "output_type": "execute_result"
    }
   ],
   "source": [
    "# Reduce the network to a single frequency\n",
    "idx_f_match = np.argmin(abs(resonator_base.frequency.f - 62.64e6))"
   ]
  },
  {
   "cell_type": "code",
   "execution_count": 49,
   "metadata": {
    "collapsed": false
   },
   "outputs": [],
   "source": [
    "# Creating networks for service stubs and shorts\n",
    "def resonator_network_fmatch(f_match=62.64e6, \n",
    "                      d_sc_CEA = 161e-3, Z_sc_CEA = 10e-3, \n",
    "                      d_sc_DUT = 38e-3, Z_sc_DUT = 10e-3):\n",
    "    '''\n",
    "    Create and return the resonator Network from specified short-circuit lengths and resistances\n",
    "    '''\n",
    "    # take the closest frequency to the desired one\n",
    "    idx_f_match = np.argmin(abs(resonator_base.frequency.f - f_match))\n",
    "    freq_obj = resonator_base.frequency[idx_f_match]\n",
    "    \n",
    "    # Coaxial media associated to transmission line for service stub and short circuits\n",
    "    _sc_DUT_media = rf.media.Coaxial(frequency=freq_obj, Dint=127.92e-3, Dout=216e-3, epsilon_r=1)\n",
    "    _sc_CEA_media = rf.media.Coaxial(frequency=freq_obj, Dint=140e-3, Dout=219e-3, epsilon_r=1)\n",
    "\n",
    "    # Creating transmission line medias \n",
    "    sc_CEA = _sc_CEA_media.line(d_sc_CEA, unit='m')**_sc_CEA_media.resistor(Z_sc_CEA)**_sc_CEA_media.short()\n",
    "    sc_DUT = _sc_DUT_media.line(d_sc_DUT, unit='m')**_sc_DUT_media.resistor(Z_sc_DUT)**_sc_DUT_media.short()\n",
    "    # Connecting the resonator with its ports. \n",
    "    # Port 1 : resonator input\n",
    "    # Port 2 : DUT\n",
    "    # Port 3 : CEA\n",
    "    _res = rf.connect(resonator_base[idx_f_match], 2, sc_CEA, 0) # resonator to CEA\n",
    "    res = rf.connect(_res, 1, sc_DUT, 0) # resonator to DUT\n",
    "    return res"
   ]
  },
  {
   "cell_type": "code",
   "execution_count": 87,
   "metadata": {
    "collapsed": false
   },
   "outputs": [],
   "source": [
    "d_DUTs = np.linspace(10e-3, 35e-3, 100)\n",
    "d_CEAs = np.linspace(10e-3, 140e-3, 100)\n",
    "\n",
    "dd_DUT, dd_CEA = np.meshgrid(d_DUTs, d_CEAs)"
   ]
  },
  {
   "cell_type": "code",
   "execution_count": 88,
   "metadata": {
    "collapsed": false
   },
   "outputs": [],
   "source": [
    "def S11_f_match(d_DUT, d_CEA):\n",
    "    _res = resonator_network_fmatch(d_sc_DUT=d_DUT, Z_sc_DUT=Z_DUT_opt,\n",
    "                                    d_sc_CEA=d_CEA, Z_sc_CEA=Z_CEA_opt)\n",
    "    \n",
    "    return np.squeeze(_res.s_db[0])\n",
    "\n",
    "vfunc = np.vectorize(S11_f_match)"
   ]
  },
  {
   "cell_type": "code",
   "execution_count": 89,
   "metadata": {
    "collapsed": false
   },
   "outputs": [],
   "source": [
    "S11 = vfunc(dd_DUT, dd_CEA)"
   ]
  },
  {
   "cell_type": "code",
   "execution_count": 90,
   "metadata": {
    "collapsed": false
   },
   "outputs": [
    {
     "data": {
      "text/plain": [
       "<matplotlib.text.Text at 0xd31c780>"
      ]
     },
     "execution_count": 90,
     "metadata": {},
     "output_type": "execute_result"
    },
    {
     "data": {
      "image/png": "[encoded data removed]",
      "text/plain": [
       "<matplotlib.figure.Figure at 0xd17d898>"
      ]
     },
     "metadata": {},
     "output_type": "display_data"
    }
   ],
   "source": [
    "fig,ax=plt.subplots()\n",
    "c=ax.pcolor(dd_DUT*1e3, dd_CEA*1e3, S11, cmap='Greens_r')\n",
    "fig.colorbar(c)\n",
    "ax.axvline(d_DUT_opt*1e3, ls='--')\n",
    "ax.axhline(d_CEA_opt*1e3, ls='--')\n",
    "\n",
    "ax.set_xlabel('L DUT [mm]')\n",
    "ax.set_ylabel('L CEA [mm]')"
   ]
  }
 ],
 "metadata": {
  "kernelspec": {
   "display_name": "Python [conda root]",
   "language": "python",
   "name": "conda-root-py"
  },
  "language_info": {
   "codemirror_mode": {
    "name": "ipython",
    "version": 3
   },
   "file_extension": ".py",
   "mimetype": "text/x-python",
   "name": "python",
   "nbconvert_exporter": "python",
   "pygments_lexer": "ipython3",
   "version": "3.5.2"
  }
 },
 "nbformat": 4,
 "nbformat_minor": 2
}
