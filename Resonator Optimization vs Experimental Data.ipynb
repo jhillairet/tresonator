{
 "cells": [
  {
   "cell_type": "code",
   "execution_count": 195,
   "metadata": {
    "collapsed": true
   },
   "outputs": [],
   "source": [
    "import numpy as np\n",
    "import matplotlib.pyplot as plt\n",
    "%matplotlib inline\n",
    "\n",
    "import skrf as rf\n",
    "rf.stylely()"
   ]
  },
  {
   "cell_type": "code",
   "execution_count": 196,
   "metadata": {
    "collapsed": true
   },
   "outputs": [],
   "source": [
    "from scipy.optimize import minimize"
   ]
  },
  {
   "cell_type": "markdown",
   "metadata": {},
   "source": [
    "In this notebook, we determine the short-circuit lengths and impedances in order to match low-power measurements. "
   ]
  },
  {
   "cell_type": "markdown",
   "metadata": {},
   "source": [
    "# Low power measurements"
   ]
  },
  {
   "cell_type": "code",
   "execution_count": 197,
   "metadata": {
    "collapsed": true
   },
   "outputs": [],
   "source": [
    "filename = 'data/RES2.ASC'"
   ]
  },
  {
   "cell_type": "code",
   "execution_count": 198,
   "metadata": {
    "collapsed": false
   },
   "outputs": [],
   "source": [
    "exp_freq,reS11,imS11 = np.loadtxt(filename, skiprows=14, delimiter=';', unpack=True)"
   ]
  },
  {
   "cell_type": "code",
   "execution_count": 199,
   "metadata": {
    "collapsed": false
   },
   "outputs": [
    {
     "name": "stdout",
     "output_type": "stream",
     "text": [
      "Match frequency : 62.640625 MHz\n"
     ]
    }
   ],
   "source": [
    "exp_mag = np.sqrt(reS11**2 + imS11**2)\n",
    "exp_mag_dB = 20*np.log10(exp_mag)\n",
    "# find the match frequency \n",
    "exp_freq_match = exp_freq[np.argmin(exp_mag)]\n",
    "print('Match frequency : {} MHz'.format(exp_freq_match/1e6))"
   ]
  },
  {
   "cell_type": "code",
   "execution_count": 200,
   "metadata": {
    "collapsed": false,
    "scrolled": true
   },
   "outputs": [
    {
     "data": {
      "text/plain": [
       "<matplotlib.text.Text at 0x138b1c18>"
      ]
     },
     "execution_count": 200,
     "metadata": {},
     "output_type": "execute_result"
    },
    {
     "data": {
      "image/png": "[encoded data removed]",
      "text/plain": [
       "<matplotlib.figure.Figure at 0x13fe15f8>"
      ]
     },
     "metadata": {},
     "output_type": "display_data"
    }
   ],
   "source": [
    "fig,ax = plt.subplots()\n",
    "ax.plot(exp_freq/1e6, exp_mag_dB, lw=2)\n",
    "ax.grid(True)\n",
    "ax.set_ylabel('S11 [dB]')\n",
    "ax.set_xlabel('f [MHz]')"
   ]
  },
  {
   "cell_type": "markdown",
   "metadata": {},
   "source": [
    "# Electromagnetic Model"
   ]
  },
  {
   "cell_type": "code",
   "execution_count": 201,
   "metadata": {
    "collapsed": true
   },
   "outputs": [],
   "source": [
    "# Importing T-resonator S-parameters from HFSS \n",
    "resonator_base = rf.Network('data/SSA50_resonator_RFModels_Resonator_Base_alpha1.0.s4p', f_unit='MHz')\n",
    "# The experimental frequency band does not match the HFSS simulated one.  \n",
    "# So before making any operations between Networks, need to interpolate them. \n",
    "# It also speedup very much the Network connecting calculations.\n",
    "resonator_base = resonator_base.interpolate_from_f(exp_frequency)"
   ]
  },
  {
   "cell_type": "code",
   "execution_count": 202,
   "metadata": {
    "collapsed": false
   },
   "outputs": [],
   "source": [
    "# Coaxial media associated to transmission line for service stub and short circuits\n",
    "service_stub_media = rf.media.Coaxial(frequency=resonator_base.frequency, Dint=55.5e-3, Dout=152e-3, epsilon_r=1)\n",
    "sc_CEA_media = rf.media.Coaxial(frequency=resonator_base.frequency, Dint=140e-3, Dout=219e-3, epsilon_r=1)\n",
    "sc_DUT_media = rf.media.Coaxial(frequency=resonator_base.frequency, Dint=127.92e-3, Dout=216e-3, epsilon_r=1)"
   ]
  },
  {
   "cell_type": "code",
   "execution_count": 203,
   "metadata": {
    "collapsed": false
   },
   "outputs": [],
   "source": [
    "# Creating networks for service stubs and shorts\n",
    "def resonator_network(d_sc_CEA = 161e-3, Z_sc_CEA = 10e-3, \n",
    "                      d_sc_DUT = 38e-3, Z_sc_DUT = 10e-3, \n",
    "                      d_sstub = 50e-3):\n",
    "    '''\n",
    "    Create and return the resonator Network from specified short-circuit lengths and resistances\n",
    "    '''\n",
    "    # Creating transmission line medias \n",
    "    service_stub = service_stub_media.line(d_sstub, unit='m') ** service_stub_media.short()\n",
    "    sc_CEA = sc_CEA_media.line(d_sc_CEA, unit='m')**sc_CEA_media.resistor(Z_sc_CEA)**sc_CEA_media.short()\n",
    "    sc_DUT = sc_DUT_media.line(d_sc_DUT, unit='m')**sc_DUT_media.resistor(Z_sc_DUT)**sc_DUT_media.short()\n",
    "    # Connecting the resonator with its ports. \n",
    "    # Port 1 : resonator input\n",
    "    # Port 2 : DUT\n",
    "    # Port 3 : CEA\n",
    "    # Port 4: service stub\n",
    "    _res = rf.connect(resonator_base, 3, service_stub, 0) # resonator to service stub \n",
    "    _res = rf.connect(_res, 2, sc_CEA, 0) # resonator to CEA\n",
    "    res = rf.connect(_res, 1, sc_DUT, 0) # resonator to DUT\n",
    "    return res"
   ]
  },
  {
   "cell_type": "code",
   "execution_count": 204,
   "metadata": {
    "collapsed": false
   },
   "outputs": [],
   "source": [
    "def f_match(resonator_network):\n",
    "    'Return the resonator match frequency'\n",
    "    return resonator_network.frequency[resonator_network.s_mag.argmin()].f[0]"
   ]
  },
  {
   "cell_type": "code",
   "execution_count": 205,
   "metadata": {
    "collapsed": false
   },
   "outputs": [
    {
     "data": {
      "text/plain": [
       "<matplotlib.lines.Line2D at 0x1386c898>"
      ]
     },
     "execution_count": 205,
     "metadata": {},
     "output_type": "execute_result"
    },
    {
     "data": {
      "image/png": "[encoded data removed]",
      "text/plain": [
       "<matplotlib.figure.Figure at 0x1386c780>"
      ]
     },
     "metadata": {},
     "output_type": "display_data"
    }
   ],
   "source": [
    "# Plot the default values resonator Network\n",
    "res=resonator_network()\n",
    "res.plot_s_db()\n",
    "plt.axvline(f_match(res), ls='--', color='k' )"
   ]
  },
  {
   "cell_type": "markdown",
   "metadata": {},
   "source": [
    "# Optimized Parameters (length and impedance)"
   ]
  },
  {
   "cell_type": "markdown",
   "metadata": {},
   "source": [
    "Now that we now the optimized short lengths in order to get the match frequency, let's optimize the short impedance in order to fit the resonator experimental Q quality factor.   "
   ]
  },
  {
   "cell_type": "code",
   "execution_count": 206,
   "metadata": {
    "collapsed": true
   },
   "outputs": [],
   "source": [
    "exp_frequency = rf.frequency.f_2_frequency(exp_freq)\n",
    "area_exp = trapz(exp_mag, x=exp_freq)\n",
    "    \n",
    "def optim_fun_impedance(short_properties):\n",
    "    'Generates a resonator network from short impedance (Z_DUT,Z_CEA) and returns t'\n",
    "    \n",
    "    d_DUT, Z_DUT, d_CEA, Z_CEA, d_sstub = short_properties\n",
    "    # calculates the resonator Network\n",
    "    res = resonator_network(d_sc_CEA=d_CEA, d_sc_DUT=d_DUT, \n",
    "                            Z_sc_CEA=Z_CEA, Z_sc_DUT=Z_DUT,\n",
    "                           d_sstub=d_sstub)\n",
    "\n",
    "    crit = np.sum( (res.s_db.squeeze() - exp_mag_dB)**2) #least square \n",
    "    print(short_properties, crit)\n",
    "    return crit    "
   ]
  },
  {
   "cell_type": "code",
   "execution_count": 207,
   "metadata": {
    "collapsed": false
   },
   "outputs": [
    {
     "name": "stdout",
     "output_type": "stream",
     "text": [
      "(0.0382479, 0.01336376, 0.17083726, 0.01346897, 0) 792.701934888\n"
     ]
    },
    {
     "data": {
      "text/plain": [
       "792.7019348881164"
      ]
     },
     "execution_count": 207,
     "metadata": {},
     "output_type": "execute_result"
    }
   ],
   "source": [
    "d_DUT_0 = 0.0382479 # m,   ,  ,  \n",
    "d_CEA_0 = 0.17083726 # m\n",
    "Z_DUT_0 = 0.01336376 # Ohm\n",
    "Z_CEA_0 = 0.01346897 # Ohm\n",
    "d_sstub_0 = 0\n",
    "\n",
    "bounds_pties = ((23e-3, 63e-3), (1e-4, 10), # d,Z DUT\n",
    "                (5e-3, 200e-3), (1e-4, 10), # d,Z CEA\n",
    "                (0, 700e-3)) # service stub\n",
    "optim_fun_impedance((d_DUT_0, Z_DUT_0, d_CEA_0, Z_CEA_0, d_sstub_0))\n"
   ]
  },
  {
   "cell_type": "code",
   "execution_count": 208,
   "metadata": {
    "collapsed": false
   },
   "outputs": [
    {
     "name": "stdout",
     "output_type": "stream",
     "text": [
      "[ 0.0382479   0.01336376  0.17083726  0.01346897  0.        ] 792.701934888\n",
      "[ 0.03824791  0.01336376  0.17083726  0.01346897  0.        ] 792.694196375\n",
      "[ 0.0382479   0.01336377  0.17083726  0.01346897  0.        ] 792.702505261\n",
      "[ 0.0382479   0.01336376  0.17083727  0.01346897  0.        ] 792.700264139\n",
      "[ 0.0382479   0.01336376  0.17083726  0.01346898  0.        ] 792.702163514\n",
      "[  3.82479000e-02   1.33637600e-02   1.70837260e-01   1.34689700e-02\n",
      "   1.00000000e-08] 792.701932821\n",
      "[  6.30000000e-02   1.00000000e-04   2.00000000e-01   1.00000000e-04\n",
      "   7.00000000e-01] 10748.72299\n",
      "[  6.30000100e-02   1.00000000e-04   2.00000000e-01   1.00000000e-04\n",
      "   7.00000000e-01] 10748.7213306\n",
      "[  6.30000000e-02   1.00010000e-04   2.00000000e-01   1.00000000e-04\n",
      "   7.00000000e-01] 10748.7253166\n",
      "[  6.30000000e-02   1.00000000e-04   2.00000010e-01   1.00000000e-04\n",
      "   7.00000000e-01] 10748.7236632\n",
      "[  6.30000000e-02   1.00000000e-04   2.00000000e-01   1.00010000e-04\n",
      "   7.00000000e-01] 10748.7239576\n",
      "[  6.30000000e-02   1.00000000e-04   2.00000000e-01   1.00000000e-04\n",
      "   7.00000010e-01] 10748.723109\n",
      "[ 0.04297086  0.01083289  0.17640182  0.01091803  0.13356739] 12683.2824713\n",
      "[ 0.04297087  0.01083289  0.17640182  0.01091803  0.13356739] 12683.2818829\n",
      "[ 0.04297086  0.0108329   0.17640182  0.01091803  0.13356739] 12683.2799284\n",
      "[ 0.04297086  0.01083289  0.17640183  0.01091803  0.13356739] 12683.2772037\n",
      "[ 0.04297086  0.01083289  0.17640182  0.01091804  0.13356739] 12683.2814513\n",
      "[ 0.04297086  0.01083289  0.17640182  0.01091803  0.1335674 ] 12683.2824923\n",
      "[ 0.03850135  0.01322795  0.17113587  0.01333208  0.00716769] 1365.21891985\n",
      "[ 0.03850136  0.01322795  0.17113587  0.01333208  0.00716769] 1365.25221005\n",
      "[ 0.03850135  0.01322796  0.17113587  0.01333208  0.00716769] 1365.21902266\n",
      "[ 0.03850135  0.01322795  0.17113588  0.01333208  0.00716769] 1365.23023891\n",
      "[ 0.03850135  0.01322795  0.17113587  0.01333209  0.00716769] 1365.21892513\n",
      "[ 0.03850135  0.01322795  0.17113587  0.01333208  0.0071677 ] 1365.21888826\n",
      "[ 0.03827968  0.01334673  0.1708747   0.01345181  0.00089863] 774.829257631\n",
      "[ 0.03827969  0.01334673  0.1708747   0.01345181  0.00089863] 774.828266248\n",
      "[ 0.03827968  0.01334674  0.1708747   0.01345181  0.00089863] 774.829852436\n",
      "[ 0.03827968  0.01334673  0.17087471  0.01345181  0.00089863] 774.829855702\n",
      "[ 0.03827968  0.01334673  0.1708747   0.01345182  0.00089863] 774.829489139\n",
      "[ 0.03827968  0.01334673  0.1708747   0.01345181  0.00089864] 774.829249496\n",
      "[ 0.03828463  0.01334152  0.17087373  0.0134487   0.00099135] 773.986761993\n",
      "[ 0.03828464  0.01334152  0.17087373  0.0134487   0.00099135] 773.986495954\n",
      "[ 0.03828463  0.01334153  0.17087373  0.0134487   0.00099135] 773.987357991\n",
      "[ 0.03828463  0.01334152  0.17087374  0.0134487   0.00099135] 773.987601302\n",
      "[ 0.03828463  0.01334152  0.17087373  0.01344871  0.00099135] 773.986993144\n",
      "[ 0.03828463  0.01334152  0.17087373  0.0134487   0.00099136] 773.98675323\n",
      "[ 0.03829985  0.01332015  0.17085659  0.01343822  0.00117789] 771.169027093\n",
      "[ 0.03829986  0.01332015  0.17085659  0.01343822  0.00117789] 771.170268501\n",
      "[ 0.03829985  0.01332016  0.17085659  0.01343822  0.00117789] 771.169623738\n",
      "[ 0.03829985  0.01332015  0.1708566   0.01343822  0.00117789] 771.170365784\n",
      "[ 0.03829985  0.01332015  0.17085659  0.01343823  0.00117789] 771.169256941\n",
      "[ 0.03829985  0.01332015  0.17085659  0.01343822  0.0011779 ] 771.16901704\n",
      "[ 0.03833508  0.01326177  0.17079314  0.01341245  0.00144385] 764.325941063\n",
      "[ 0.03833509  0.01326177  0.17079314  0.01341245  0.00144385] 764.329488186\n",
      "[ 0.03833508  0.01326178  0.17079314  0.01341245  0.00144385] 764.326536164\n",
      "[ 0.03833508  0.01326177  0.17079315  0.01341245  0.00144385] 764.328038524\n",
      "[ 0.03833508  0.01326177  0.17079314  0.01341246  0.00144385] 764.326168034\n",
      "[ 0.03833508  0.01326177  0.17079314  0.01341245  0.00144386] 764.325929073\n",
      "[ 0.03842363  0.01309963  0.17059287  0.01334505  0.00182898] 746.587666269\n",
      "[ 0.03842364  0.01309963  0.17059287  0.01334505  0.00182898] 746.595125422\n",
      "[ 0.03842363  0.01309964  0.17059287  0.01334505  0.00182898] 746.588252218\n",
      "[ 0.03842363  0.01309963  0.17059288  0.01334505  0.00182898] 746.591037532\n",
      "[ 0.03842363  0.01309963  0.17059287  0.01334506  0.00182898] 746.587885693\n",
      "[ 0.03842363  0.01309963  0.17059287  0.01334505  0.00182899] 746.587651067\n",
      "[ 0.03862957  0.01269719  0.17005993  0.01318394  0.00225818] 704.414254217\n",
      "[ 0.03862958  0.01269719  0.17005993  0.01318394  0.00225818] 704.428287435\n",
      "[ 0.03862957  0.0126972   0.17005993  0.01318394  0.00225818] 704.4148046\n",
      "[ 0.03862957  0.01269719  0.17005994  0.01318394  0.00225818] 704.419730093\n",
      "[ 0.03862957  0.01269719  0.17005993  0.01318395  0.00225818] 704.41445384\n",
      "[ 0.03862957  0.01269719  0.17005993  0.01318394  0.00225819] 704.414233764\n",
      "[ 0.03905926  0.01181593  0.16883812  0.0128406   0.0023927 ] 613.611555815\n",
      "[ 0.03905927  0.01181593  0.16883812  0.0128406   0.0023927 ] 613.637697061\n",
      "[ 0.03905926  0.01181594  0.16883812  0.0128406   0.0023927 ] 613.611977301\n",
      "[ 0.03905926  0.01181593  0.16883813  0.0128406   0.0023927 ] 613.62080357\n",
      "[ 0.03905926  0.01181593  0.16883812  0.01284061  0.0023927 ] 613.61169376\n",
      "[ 0.03905926  0.01181593  0.16883812  0.0128406   0.00239271] 613.611526048\n",
      "[ 0.03974009  0.01035078  0.16672058  0.01228466  0.00134972] 447.352861005\n",
      "[ 0.0397401   0.01035078  0.16672058  0.01228466  0.00134972] 447.424355946\n",
      "[ 0.03974009  0.01035079  0.16672058  0.01228466  0.00134972] 447.352786303\n",
      "[ 0.03974009  0.01035078  0.16672059  0.01228466  0.00134972] 447.376321684\n",
      "[ 0.03974009  0.01035078  0.16672058  0.01228467  0.00134972] 447.352764026\n",
      "[ 0.03974009  0.01035078  0.16672058  0.01228466  0.00134973] 447.352793828\n",
      "[ 0.04345679  0.00212134  0.15455042  0.00920972  0.        ] 1782.10298976\n",
      "[ 0.0434568   0.00212134  0.15455042  0.00920972  0.        ] 1782.09189068\n",
      "[ 0.04345679  0.00212135  0.15455042  0.00920972  0.        ] 1782.10231304\n",
      "[ 0.04345679  0.00212134  0.15455043  0.00920972  0.        ] 1782.09872868\n",
      "[ 0.04345679  0.00212134  0.15455042  0.00920973  0.        ] 1782.10274296\n",
      "[  4.34567943e-02   2.12133597e-03   1.54550419e-01   9.20972023e-03\n",
      "   1.00000000e-08] 1782.10301123\n",
      "[ 0.04039723  0.00889576  0.16456881  0.01174099  0.00111108] 337.135648486\n",
      "[ 0.04039724  0.00889576  0.16456881  0.01174099  0.00111108] 337.143904054\n",
      "[ 0.04039723  0.00889577  0.16456881  0.01174099  0.00111108] 337.135050219\n",
      "[ 0.04039723  0.00889576  0.16456882  0.01174099  0.00111108] 337.13747978\n",
      "[ 0.04039723  0.00889576  0.16456881  0.011741    0.00111108] 337.135408734\n",
      "[ 0.04039723  0.00889576  0.16456881  0.01174099  0.00111109] 337.135649518\n",
      "[ 0.03990541  0.00995299  0.16609536  0.0121424   0.0017278 ] 212.978143666\n",
      "[ 0.03990542  0.00995299  0.16609536  0.0121424   0.0017278 ] 212.990924857\n",
      "[ 0.03990541  0.009953    0.16609536  0.0121424   0.0017278 ] 212.978235131\n",
      "[ 0.03990541  0.00995299  0.16609537  0.0121424   0.0017278 ] 212.982343516\n",
      "[ 0.03990541  0.00995299  0.16609536  0.01214241  0.0017278 ] 212.97816657\n",
      "[ 0.03990541  0.00995299  0.16609536  0.0121424   0.00172781] 212.978131408\n",
      "[ 0.03994165  0.00985731  0.16596433  0.01210645  0.00186838] 209.014590171\n",
      "[ 0.03994166  0.00985731  0.16596433  0.01210645  0.00186838] 209.000796275\n",
      "[ 0.03994165  0.00985732  0.16596433  0.01210645  0.00186838] 209.01518802\n",
      "[ 0.03994165  0.00985731  0.16596434  0.01210645  0.00186838] 209.010675339\n",
      "[ 0.03994165  0.00985731  0.16596433  0.01210646  0.00186838] 209.014834628\n",
      "[ 0.03994165  0.00985731  0.16596433  0.01210645  0.00186839] 209.014597124\n",
      "[ 0.04266386  0.00304898  0.15656318  0.00953602  0.00835823] 1833.54270227\n",
      "[ 0.04266387  0.00304898  0.15656318  0.00953602  0.00835823] 1833.52290158\n",
      "[ 0.04266386  0.00304899  0.15656318  0.00953602  0.00835823] 1833.54218532\n",
      "[ 0.04266386  0.00304898  0.15656319  0.00953602  0.00835823] 1833.53575111\n",
      "[ 0.04266386  0.00304898  0.15656318  0.00953603  0.00835823] 1833.54252904\n",
      "[ 0.04266386  0.00304898  0.15656318  0.00953602  0.00835824] 1833.54273145\n",
      "[ 0.04011759  0.00941729  0.16535673  0.01194032  0.00228782] 227.018882437\n",
      "[ 0.0401176   0.00941729  0.16535673  0.01194032  0.00228782] 227.010860559\n",
      "[ 0.04011759  0.0094173   0.16535673  0.01194032  0.00228782] 227.018340494\n",
      "[ 0.04011759  0.00941729  0.16535674  0.01194032  0.00228782] 227.015370763\n",
      "[ 0.04011759  0.00941729  0.16535673  0.01194033  0.00228782] 227.018679837\n",
      "[ 0.04011759  0.00941729  0.16535673  0.01194032  0.00228783] 227.018899404\n",
      "[ 0.04000729  0.00969316  0.16573766  0.01204447  0.00202485] 189.891013479\n",
      "[ 0.0400073   0.00969316  0.16573766  0.01204447  0.00202485] 189.899367178\n",
      "[ 0.04000729  0.00969317  0.16573766  0.01204447  0.00202485] 189.891016422\n",
      "[ 0.04000729  0.00969316  0.16573767  0.01204447  0.00202485] 189.893638728\n",
      "[ 0.04000729  0.00969316  0.16573766  0.01204448  0.00202485] 189.89100645\n",
      "[ 0.04000729  0.00969316  0.16573766  0.01204447  0.00202486] 189.891006656\n",
      "[ 0.04006815  0.0095368   0.16552278  0.01198556  0.00221243] 203.161722349\n",
      "[ 0.04006816  0.0095368   0.16552278  0.01198556  0.00221243] 203.158806588\n",
      "[ 0.04006815  0.00953681  0.16552278  0.01198556  0.00221243] 203.161256404\n",
      "[ 0.04006815  0.0095368   0.16552279  0.01198556  0.00221243] 203.159994504\n",
      "[ 0.04006815  0.0095368   0.16552278  0.01198557  0.00221243] 203.161544489\n",
      "[ 0.04006815  0.0095368   0.16552278  0.01198556  0.00221244] 203.161733188\n",
      "[ 0.04001501  0.00967333  0.16571041  0.012037    0.00204864] 189.52010239\n",
      "[ 0.04001502  0.00967333  0.16571041  0.012037    0.00204864] 189.527650774\n",
      "[ 0.04001501  0.00967334  0.16571041  0.012037    0.00204864] 189.520004885\n",
      "[ 0.04001501  0.00967333  0.16571042  0.012037    0.00204864] 189.522326031\n",
      "[ 0.04001501  0.00967333  0.16571041  0.01203701  0.00204864] 189.520057201\n",
      "[ 0.04001501  0.00967333  0.16571041  0.012037    0.00204865] 189.520097756\n",
      "[ 0.04001419  0.00967281  0.16571188  0.01203669  0.00206769] 189.23294661\n",
      "[ 0.0400142   0.00967281  0.16571188  0.01203669  0.00206769] 189.240212436\n",
      "[ 0.04001419  0.00967282  0.16571188  0.01203669  0.00206769] 189.232850811\n",
      "[ 0.04001419  0.00967281  0.16571189  0.01203669  0.00206769] 189.235079082\n",
      "[ 0.04001419  0.00967281  0.16571188  0.0120367   0.00206769] 189.232902329\n",
      "[ 0.04001419  0.00967281  0.16571188  0.01203669  0.0020677 ] 189.232942233\n",
      "[ 0.04001091  0.00967073  0.16571778  0.01203546  0.00214386] 188.183399773\n",
      "[ 0.04001092  0.00967073  0.16571778  0.01203546  0.00214386] 188.189552615\n",
      "[ 0.04001091  0.00967074  0.16571778  0.01203546  0.00214386] 188.183307681\n",
      "[ 0.04001091  0.00967073  0.16571779  0.01203546  0.00214386] 188.185169222\n",
      "[ 0.04001091  0.00967073  0.16571778  0.01203547  0.00214386] 188.183358063\n",
      "[ 0.04001091  0.00967073  0.16571778  0.01203546  0.00214387] 188.183396448\n",
      "[ 0.03997807  0.00968043  0.16579352  0.01203593  0.00265442] 183.942899917\n",
      "[ 0.03997808  0.00968043  0.16579352  0.01203593  0.00265442] 183.94291331\n",
      "[ 0.03997807  0.00968044  0.16579352  0.01203593  0.00265442] 183.942845221\n",
      "[ 0.03997807  0.00968043  0.16579353  0.01203593  0.00265442] 183.942687812\n",
      "[ 0.03997807  0.00968043  0.16579352  0.01203594  0.00265442] 183.942878551\n",
      "[ 0.03997807  0.00968043  0.16579352  0.01203593  0.00265443] 183.942902172\n",
      "[ 0.03995595  0.00970642  0.16585514  0.01204438  0.00283646] 182.985785253\n",
      "[ 0.03995596  0.00970642  0.16585514  0.01204438  0.00283646] 182.986593404\n",
      "[ 0.03995595  0.00970643  0.16585514  0.01204438  0.00283646] 182.985827685\n",
      "[ 0.03995595  0.00970642  0.16585515  0.01204438  0.00283646] 182.985966303\n",
      "[ 0.03995595  0.00970642  0.16585514  0.01204439  0.00283646] 182.98580085\n",
      "[ 0.03995595  0.00970642  0.16585514  0.01204438  0.00283647] 182.98578538\n",
      "[ 0.03993565  0.00972072  0.16590745  0.01204802  0.00306832] 182.713651211\n",
      "[ 0.03993566  0.00972072  0.16590745  0.01204802  0.00306832] 182.711509341\n",
      "[ 0.03993565  0.00972073  0.16590745  0.01204802  0.00306832] 182.713667869\n",
      "[ 0.03993565  0.00972072  0.16590746  0.01204802  0.00306832] 182.712820724\n",
      "[ 0.03993565  0.00972072  0.16590745  0.01204803  0.00306832] 182.713659633\n",
      "[ 0.03993565  0.00972072  0.16590745  0.01204802  0.00306833] 182.713654615\n",
      "[ 0.03992735  0.00973337  0.16593251  0.01205235  0.00310638] 182.560545047\n",
      "[ 0.03992736  0.00973337  0.16593251  0.01205235  0.00310638] 182.560278788\n",
      "[ 0.03992735  0.00973338  0.16593251  0.01205235  0.00310638] 182.560608418\n",
      "[ 0.03992735  0.00973337  0.16593252  0.01205235  0.00310638] 182.560397584\n",
      "[ 0.03992735  0.00973337  0.16593251  0.01205236  0.00310638] 182.560569828\n",
      "[ 0.03992735  0.00973337  0.16593251  0.01205235  0.00310639] 182.560545955\n",
      "[ 0.03991822  0.00974311  0.16595789  0.01205537  0.00318216] 182.530008301\n",
      "[ 0.03991823  0.00974311  0.16595789  0.01205537  0.00318216] 182.529627769\n",
      "[ 0.03991822  0.00974312  0.16595789  0.01205537  0.00318216] 182.530077125\n",
      "[ 0.03991822  0.00974311  0.1659579   0.01205537  0.00318216] 182.529829915\n",
      "[ 0.03991822  0.00974311  0.16595789  0.01205538  0.00318216] 182.530035276\n",
      "[ 0.03991822  0.00974311  0.16595789  0.01205537  0.00318217] 182.530009249\n",
      "[ 0.03991094  0.00974882  0.1659785   0.0120571   0.00325872] 182.503912799\n",
      "[ 0.03991095  0.00974882  0.1659785   0.0120571   0.00325872] 182.503474868\n",
      "[ 0.03991094  0.00974883  0.1659785   0.0120571   0.00325872] 182.5039845\n",
      "[ 0.03991094  0.00974882  0.16597851  0.0120571   0.00325872] 182.503719048\n",
      "[ 0.03991094  0.00974882  0.1659785   0.01205711  0.00325872] 182.503940966\n",
      "[ 0.03991094  0.00974882  0.1659785   0.0120571   0.00325873] 182.503913764\n",
      "[ 0.0398928   0.00975754  0.16603066  0.01205959  0.00349601] 182.417933235\n",
      "[ 0.03989281  0.00975754  0.16603066  0.01205959  0.00349601] 182.417279073\n",
      "[ 0.0398928   0.00975755  0.16603066  0.01205959  0.00349601] 182.418006334\n",
      "[ 0.0398928   0.00975754  0.16603067  0.01205959  0.00349601] 182.417669464\n",
      "[ 0.0398928   0.00975754  0.16603066  0.0120596   0.00349601] 182.417962147\n",
      "[ 0.0398928   0.00975754  0.16603066  0.01205959  0.00349602] 182.417934393\n",
      "[ 0.03983415  0.00977559  0.16620161  0.01206406  0.00436962] 182.181960839\n",
      "[ 0.03983416  0.00977559  0.16620161  0.01206406  0.00436962] 182.177391175\n",
      "[ 0.03983415  0.0097756   0.16620161  0.01206406  0.00436962] 182.182005168\n",
      "[ 0.03983415  0.00977559  0.16620162  0.01206406  0.00436962] 182.180363862\n",
      "[ 0.03983415  0.00977559  0.16620161  0.01206407  0.00436962] 182.181982375\n",
      "[ 0.03983415  0.00977559  0.16620161  0.01206406  0.00436963] 182.181966211\n",
      "[ 0.03975558  0.00978693  0.16643664  0.01206606  0.00566075] 182.14045287\n",
      "[ 0.03975559  0.00978693  0.16643664  0.01206606  0.00566075] 182.129100627\n",
      "[ 0.03975558  0.00978694  0.16643664  0.01206606  0.00566075] 182.140518421\n",
      "[ 0.03975558  0.00978693  0.16643665  0.01206606  0.00566075] 182.136645899\n",
      "[ 0.03975558  0.00978693  0.16643664  0.01206607  0.00566075] 182.140488959\n",
      "[ 0.03975558  0.00978693  0.16643664  0.01206606  0.00566076] 182.140464486\n",
      "[ 0.03980243  0.00978017  0.16629652  0.01206487  0.00489101] 181.927270171\n",
      "[ 0.03980244  0.00978017  0.16629652  0.01206487  0.00489101] 181.920771995\n",
      "[ 0.03980243  0.00978018  0.16629652  0.01206487  0.00489101] 181.927312831\n",
      "[ 0.03980243  0.00978017  0.16629653  0.01206487  0.00489101] 181.925034364\n",
      "[ 0.03980243  0.00978017  0.16629652  0.01206488  0.00489101] 181.927292827\n",
      "[ 0.03980243  0.00978017  0.16629652  0.01206487  0.00489102] 181.927277424\n",
      "[ 0.03959992  0.00976822  0.16691563  0.01205659  0.008601  ] 186.15279999\n",
      "[ 0.03959993  0.00976822  0.16691563  0.01205659  0.008601  ] 186.135358842\n",
      "[ 0.03959992  0.00976823  0.16691563  0.01205659  0.008601  ] 186.153100779\n",
      "[ 0.03959992  0.00976822  0.16691564  0.01205659  0.008601  ] 186.147313086\n",
      "[ 0.03959992  0.00976822  0.16691563  0.0120566   0.008601  ] 186.152932822\n",
      "[ 0.03959992  0.00976822  0.16691563  0.01205659  0.00860101] 186.152814061\n",
      "[ 0.03974079  0.00977654  0.16648496  0.01206235  0.00602022] 180.997327238\n",
      "[ 0.0397408   0.00977654  0.16648496  0.01206235  0.00602022] 180.988276988\n",
      "[ 0.03974079  0.00977655  0.16648496  0.01206235  0.00602022] 180.997393867\n",
      "[ 0.03974079  0.00977654  0.16648497  0.01206235  0.00602022] 180.994284018\n",
      "[ 0.03974079  0.00977654  0.16648496  0.01206236  0.00602022] 180.997361582\n",
      "[ 0.03974079  0.00977654  0.16648496  0.01206235  0.00602023] 180.997336574\n",
      "[ 0.03961662  0.00972596  0.16687586  0.01204276  0.00869687] 179.096072778\n",
      "[ 0.03961663  0.00972596  0.16687586  0.01204276  0.00869687] 179.08572741\n",
      "[ 0.03961662  0.00972597  0.16687586  0.01204276  0.00869687] 179.09627932\n",
      "[ 0.03961662  0.00972596  0.16687587  0.01204276  0.00869687] 179.09280354\n",
      "[ 0.03961662  0.00972596  0.16687586  0.01204277  0.00869687] 179.09616254\n",
      "[ 0.03961662  0.00972596  0.16687586  0.01204276  0.00869688] 179.09608129\n",
      "[ 0.03960202  0.0095996   0.16693942  0.01199255  0.01027867] 175.755415271\n",
      "[ 0.03960203  0.0095996   0.16693942  0.01199255  0.01027867] 175.759222284\n",
      "[ 0.03960202  0.00959961  0.16693942  0.01199255  0.01027867] 175.755387669\n",
      "[ 0.03960202  0.0095996   0.16693943  0.01199255  0.01027867] 175.756511937\n",
      "[ 0.03960202  0.0095996   0.16693942  0.01199256  0.01027867] 175.755400935\n",
      "[ 0.03960202  0.0095996   0.16693942  0.01199255  0.01027868] 175.755413202\n",
      "[ 0.03952057  0.00952753  0.16720067  0.01196473  0.01242677] 174.930968259\n",
      "[ 0.03952058  0.00952753  0.16720067  0.01196473  0.01242677] 174.93068861\n",
      "[ 0.03952057  0.00952754  0.16720067  0.01196473  0.01242677] 174.931145756\n",
      "[ 0.03952057  0.00952753  0.16720068  0.01196473  0.01242677] 174.931001461\n",
      "[ 0.03952057  0.00952753  0.16720067  0.01196474  0.01242677] 174.931037145\n",
      "[ 0.03952057  0.00952753  0.16720067  0.01196473  0.01242678] 174.930967347\n",
      "[ 0.03953825  0.00952226  0.16714517  0.01196232  0.01217406] 174.495353897\n",
      "[ 0.03953826  0.00952226  0.16714517  0.01196232  0.01217406] 174.496747023\n",
      "[ 0.03953825  0.00952227  0.16714517  0.01196232  0.01217406] 174.495436313\n",
      "[ 0.03953825  0.00952226  0.16714518  0.01196232  0.01217406] 174.495809328\n",
      "[ 0.03953825  0.00952226  0.16714517  0.01196233  0.01217406] 174.495384461\n",
      "[ 0.03953825  0.00952226  0.16714517  0.01196232  0.01217407] 174.495352635\n",
      "[ 0.03951816  0.00946019  0.16721142  0.01193882  0.01311494] 174.080363272\n",
      "[ 0.03951817  0.00946019  0.16721142  0.01193882  0.01311494] 174.082962957\n",
      "[ 0.03951816  0.0094602   0.16721142  0.01193882  0.01311494] 174.08042107\n",
      "[ 0.03951816  0.00946019  0.16721143  0.01193882  0.01311494] 174.081187127\n",
      "[ 0.03951816  0.00946019  0.16721142  0.01193883  0.01311494] 174.080383119\n",
      "[ 0.03951816  0.00946019  0.16721142  0.01193882  0.01311495] 174.080361146\n",
      "[ 0.03941376  0.00915787  0.16755075  0.01182512  0.0177712 ] 172.553595847\n",
      "[ 0.03941377  0.00915787  0.16755075  0.01182512  0.0177712 ] 172.558534384\n",
      "[ 0.03941376  0.00915788  0.16755075  0.01182512  0.0177712 ] 172.553636365\n",
      "[ 0.03941376  0.00915787  0.16755076  0.01182512  0.0177712 ] 172.555183496\n",
      "[ 0.03941376  0.00915787  0.16755075  0.01182513  0.0177712 ] 172.553606776\n",
      "[ 0.03941376  0.00915787  0.16755075  0.01182512  0.01777121] 172.553591584\n",
      "[ 0.03929155  0.00876621  0.16794381  0.01167876  0.02351644] 170.892014143\n",
      "[ 0.03929156  0.00876621  0.16794381  0.01167876  0.02351644] 170.898563325\n",
      "[ 0.03929155  0.00876622  0.16794381  0.01167876  0.02351644] 170.892025265\n",
      "[ 0.03929155  0.00876621  0.16794382  0.01167876  0.02351644] 170.894110252\n",
      "[ 0.03929155  0.00876621  0.16794381  0.01167877  0.02351644] 170.89201211\n",
      "[ 0.03929155  0.00876621  0.16794381  0.01167876  0.02351645] 170.892008582\n",
      "[ 0.03908817  0.00807956  0.16859149  0.01142373  0.03330979] 168.298525916\n",
      "[ 0.03908818  0.00807956  0.16859149  0.01142373  0.03330979] 168.306298253\n",
      "[ 0.03908817  0.00807957  0.16859149  0.01142373  0.03330979] 168.298447723\n",
      "[ 0.03908817  0.00807956  0.1685915   0.01142373  0.03330979] 168.300931662\n",
      "[ 0.03908817  0.00807956  0.16859149  0.01142374  0.03330979] 168.298487972\n",
      "[ 0.03908817  0.00807956  0.16859149  0.01142373  0.0333098 ] 168.298520019\n",
      "[ 0.03883612  0.00726844  0.16938613  0.01112662  0.04492157] 165.339930297\n",
      "[ 0.03883613  0.00726844  0.16938613  0.01112662  0.04492157] 165.348112023\n",
      "[ 0.03883612  0.00726845  0.16938613  0.01112662  0.04492157] 165.339898577\n",
      "[ 0.03883612  0.00726844  0.16938614  0.01112662  0.04492157] 165.342565325\n",
      "[ 0.03883612  0.00726844  0.16938613  0.01112663  0.04492157] 165.339910055\n",
      "[ 0.03883612  0.00726844  0.16938613  0.01112662  0.04492158] 165.339923264\n",
      "[ 0.03834762  0.00549881  0.17086236  0.01049156  0.06849256] 156.387578516\n",
      "[ 0.03834763  0.00549881  0.17086236  0.01049156  0.06849256] 156.380041105\n",
      "[ 0.03834762  0.00549882  0.17086236  0.01049156  0.06849256] 156.387688478\n",
      "[ 0.03834762  0.00549881  0.17086237  0.01049156  0.06849256] 156.385216177\n",
      "[ 0.03834762  0.00549881  0.17086236  0.01049157  0.06849256] 156.387628225\n",
      "[ 0.03834762  0.00549881  0.17086236  0.01049156  0.06849257] 156.387584472\n",
      "[ 0.03832921  0.00546456  0.17094313  0.01047386  0.06937499] 158.336911166\n",
      "[ 0.03832922  0.00546456  0.17094313  0.01047386  0.06937499] 158.348987962\n",
      "[ 0.03832921  0.00546457  0.17094313  0.01047386  0.06937499] 158.336634215\n",
      "[ 0.03832921  0.00546456  0.17094314  0.01047386  0.06937499] 158.340581853\n",
      "[ 0.03832921  0.00546456  0.17094313  0.01047387  0.06937499] 158.336791775\n",
      "[ 0.03832921  0.00546456  0.17094313  0.01047386  0.069375  ] 158.33690225\n",
      "[ 0.03834149  0.00548741  0.17088926  0.01048567  0.06878648] 155.504687802\n",
      "[ 0.0383415   0.00548741  0.17088926  0.01048567  0.06878648] 155.504187822\n",
      "[ 0.03834149  0.00548742  0.17088926  0.01048567  0.06878648] 155.504715796\n",
      "[ 0.03834149  0.00548741  0.17088927  0.01048567  0.06878648] 155.504563515\n",
      "[ 0.03834149  0.00548741  0.17088926  0.01048568  0.06878648] 155.504699027\n",
      "[ 0.03834149  0.00548741  0.17088926  0.01048567  0.06878649] 155.504687953\n",
      "[ 0.03837784  0.00559756  0.17077581  0.01052571  0.06718554] 155.410391032\n",
      "[ 0.03837785  0.00559756  0.17077581  0.01052571  0.06718554] 155.410288589\n",
      "[ 0.03837784  0.00559757  0.17077581  0.01052571  0.06718554] 155.410410955\n",
      "[ 0.03837784  0.00559756  0.17077582  0.01052571  0.06718554] 155.410384672\n",
      "[ 0.03837784  0.00559756  0.17077581  0.01052572  0.06718554] 155.410398745\n",
      "[ 0.03837784  0.00559756  0.17077581  0.01052571  0.06718555] 155.410390908\n",
      "[ 0.03839422  0.00562654  0.17072419  0.01053598  0.0666492 ] 155.345307257\n",
      "[ 0.03839423  0.00562654  0.17072419  0.01053598  0.0666492 ] 155.345573052\n",
      "[ 0.03839422  0.00562655  0.17072419  0.01053598  0.0666492 ] 155.345315716\n",
      "[ 0.03839422  0.00562654  0.1707242   0.01053598  0.0666492 ] 155.34540658\n",
      "[ 0.03839422  0.00562654  0.17072419  0.01053599  0.0666492 ] 155.345310168\n",
      "[ 0.03839422  0.00562654  0.17072419  0.01053598  0.06664921] 155.345306903\n",
      "[ 0.03839593  0.00559342  0.17071755  0.01052354  0.06691297] 155.302297899\n",
      "[ 0.03839594  0.00559342  0.17071755  0.01052354  0.06691297] 155.302275436\n",
      "[ 0.03839593  0.00559343  0.17071755  0.01052354  0.06691297] 155.302302618\n",
      "[ 0.03839593  0.00559342  0.17071756  0.01052354  0.06691297] 155.302295858\n",
      "[ 0.03839593  0.00559342  0.17071755  0.01052355  0.06691297] 155.302299629\n",
      "[ 0.03839593  0.00559342  0.17071755  0.01052354  0.06691298] 155.302297846\n",
      "[ 0.03838457  0.00553136  0.17075248  0.01050072  0.06765901] 155.30695791\n",
      "[ 0.03838458  0.00553136  0.17075248  0.01050072  0.06765901] 155.306860456\n",
      "[ 0.03838457  0.00553137  0.17075248  0.01050072  0.06765901] 155.306959508\n",
      "[ 0.03838457  0.00553136  0.17075249  0.01050072  0.06765901] 155.306927904\n",
      "[ 0.03838457  0.00553136  0.17075248  0.01050073  0.06765901] 155.306958493\n",
      "[ 0.03838457  0.00553136  0.17075248  0.01050072  0.06765902] 155.306957945\n",
      "[ 0.03839354  0.00558034  0.17072491  0.01051873  0.06707025] 155.301867718\n",
      "[ 0.03839355  0.00558034  0.17072491  0.01051873  0.06707025] 155.301841406\n",
      "[ 0.03839354  0.00558035  0.17072491  0.01051873  0.06707025] 155.301871593\n",
      "[ 0.03839354  0.00558034  0.17072492  0.01051873  0.06707025] 155.301863497\n",
      "[ 0.03839354  0.00558034  0.17072491  0.01051874  0.06707025] 155.301869116\n",
      "[ 0.03839354  0.00558034  0.17072491  0.01051873  0.06707026] 155.301867673\n",
      "[ 0.03835974  0.00545762  0.17083039  0.01047633  0.06867374] 155.351398129\n",
      "[ 0.03835975  0.00545762  0.17083039  0.01047633  0.06867374] 155.351709437\n",
      "[ 0.03835974  0.00545763  0.17083039  0.01047633  0.06867374] 155.351395695\n",
      "[ 0.03835974  0.00545762  0.1708304   0.01047633  0.06867374] 155.351501784\n",
      "[ 0.03835974  0.00545762  0.17083039  0.01047634  0.06867374] 155.351396763\n",
      "[ 0.03835974  0.00545762  0.17083039  0.01047633  0.06867375] 155.351397801\n",
      "[ 0.03839171  0.0055737   0.17073062  0.01051643  0.067157  ] 155.303478764\n",
      "[ 0.03839172  0.0055737   0.17073062  0.01051643  0.067157  ] 155.303470103\n",
      "[ 0.03839171  0.00557371  0.17073062  0.01051643  0.067157  ] 155.303482278\n",
      "[ 0.03839171  0.0055737   0.17073063  0.01051643  0.067157  ] 155.303480167\n",
      "[ 0.03839171  0.0055737   0.17073062  0.01051644  0.067157  ] 155.303480011\n",
      "[ 0.03839171  0.0055737   0.17073062  0.01051643  0.06715701] 155.303478705\n",
      "[ 0.03839342  0.00557992  0.17072528  0.01051858  0.06707577] 155.301966619\n",
      "[ 0.03839343  0.00557992  0.17072528  0.01051858  0.06707577] 155.301941429\n",
      "[ 0.03839342  0.00557993  0.17072528  0.01051858  0.06707577] 155.301970466\n",
      "[ 0.03839342  0.00557992  0.17072529  0.01051858  0.06707577] 155.301962755\n",
      "[ 0.03839342  0.00557992  0.17072528  0.01051859  0.06707577] 155.301968007\n",
      "[ 0.03839342  0.00557992  0.17072528  0.01051858  0.06707578] 155.301966574\n",
      "[ 0.03839353  0.00558031  0.17072494  0.01051872  0.06707061] 155.301874065\n",
      "[ 0.03839354  0.00558031  0.17072494  0.01051872  0.06707061] 155.301847824\n",
      "[ 0.03839353  0.00558032  0.17072494  0.01051872  0.06707061] 155.30187792\n",
      "[ 0.03839353  0.00558031  0.17072495  0.01051872  0.06707061] 155.301869866\n",
      "[ 0.03839353  0.00558031  0.17072494  0.01051873  0.06707061] 155.301875462\n",
      "[ 0.03839353  0.00558031  0.17072494  0.01051872  0.06707062] 155.301874021\n",
      "[ 0.03839354  0.00558034  0.17072492  0.01051873  0.06707027] 155.301868135\n",
      "[ 0.03839355  0.00558034  0.17072492  0.01051873  0.06707027] 155.301841828\n",
      "[ 0.03839354  0.00558035  0.17072492  0.01051873  0.06707027] 155.301871999\n",
      "[ 0.03839354  0.00558034  0.17072493  0.01051873  0.06707027] 155.301863915\n",
      "[ 0.03839354  0.00558034  0.17072492  0.01051874  0.06707027] 155.301869532\n",
      "[ 0.03839354  0.00558034  0.17072492  0.01051873  0.06707028] 155.301868091\n",
      "[ 0.03839354  0.00558034  0.17072491  0.01051873  0.06707025] 155.301867745\n",
      "[ 0.03839355  0.00558034  0.17072491  0.01051873  0.06707025] 155.301841434\n",
      "[ 0.03839354  0.00558035  0.17072491  0.01051873  0.06707025] 155.301871614\n",
      "[ 0.03839354  0.00558034  0.17072492  0.01051873  0.06707025] 155.301863524\n",
      "[ 0.03839354  0.00558034  0.17072491  0.01051874  0.06707025] 155.301869141\n",
      "[ 0.03839354  0.00558034  0.17072491  0.01051873  0.06707026] 155.301867701\n",
      "[ 0.03839354  0.00558034  0.17072491  0.01051873  0.06707025] 155.301867732\n",
      "[ 0.03839355  0.00558034  0.17072491  0.01051873  0.06707025] 155.30184142\n",
      "[ 0.03839354  0.00558035  0.17072491  0.01051873  0.06707025] 155.301871599\n",
      "[ 0.03839354  0.00558034  0.17072492  0.01051873  0.06707025] 155.301863511\n",
      "[ 0.03839354  0.00558034  0.17072491  0.01051874  0.06707025] 155.301869129\n",
      "[ 0.03839354  0.00558034  0.17072491  0.01051873  0.06707026] 155.301867688\n",
      "[ 0.03839354  0.00558034  0.17072491  0.01051873  0.06707025] 155.301867711\n",
      "[ 0.03839355  0.00558034  0.17072491  0.01051873  0.06707025] 155.3018414\n",
      "[ 0.03839354  0.00558035  0.17072491  0.01051873  0.06707025] 155.301871591\n",
      "[ 0.03839354  0.00558034  0.17072492  0.01051873  0.06707025] 155.30186349\n",
      "[ 0.03839354  0.00558034  0.17072491  0.01051874  0.06707025] 155.301869109\n",
      "[ 0.03839354  0.00558034  0.17072491  0.01051873  0.06707026] 155.301867667\n",
      "[ 0.03839354  0.00558034  0.17072491  0.01051873  0.06707025] 155.30186772\n",
      "[ 0.03839355  0.00558034  0.17072491  0.01051873  0.06707025] 155.301841409\n",
      "[ 0.03839354  0.00558035  0.17072491  0.01051873  0.06707025] 155.301871594\n",
      "[ 0.03839354  0.00558034  0.17072492  0.01051873  0.06707025] 155.301863499\n",
      "[ 0.03839354  0.00558034  0.17072491  0.01051874  0.06707025] 155.301869119\n",
      "[ 0.03839354  0.00558034  0.17072491  0.01051873  0.06707026] 155.301867676\n",
      "[ 0.03839354  0.00558034  0.17072491  0.01051873  0.06707025] 155.301867727\n",
      "[ 0.03839355  0.00558034  0.17072491  0.01051873  0.06707025] 155.301841415\n",
      "[ 0.03839354  0.00558035  0.17072491  0.01051873  0.06707025] 155.301871591\n",
      "[ 0.03839354  0.00558034  0.17072492  0.01051873  0.06707025] 155.301863506\n",
      "[ 0.03839354  0.00558034  0.17072491  0.01051874  0.06707025] 155.301869124\n",
      "[ 0.03839354  0.00558034  0.17072491  0.01051873  0.06707026] 155.301867683\n",
      "[ 0.03839354  0.00558034  0.17072491  0.01051873  0.06707025] 155.301867711\n",
      "[ 0.03839355  0.00558034  0.17072491  0.01051873  0.06707025] 155.3018414\n",
      "[ 0.03839354  0.00558035  0.17072491  0.01051873  0.06707025] 155.301871591\n",
      "[ 0.03839354  0.00558034  0.17072492  0.01051873  0.06707025] 155.30186349\n",
      "[ 0.03839354  0.00558034  0.17072491  0.01051874  0.06707025] 155.301869109\n",
      "[ 0.03839354  0.00558034  0.17072491  0.01051873  0.06707026] 155.301867667\n"
     ]
    }
   ],
   "source": [
    "opt_res = minimize(optim_fun_impedance, (d_DUT_0, Z_DUT_0, d_CEA_0, Z_CEA_0, d_sstub_0),\n",
    "                  bounds=bounds_pties)"
   ]
  },
  {
   "cell_type": "code",
   "execution_count": 209,
   "metadata": {
    "collapsed": false,
    "scrolled": true
   },
   "outputs": [
    {
     "name": "stdout",
     "output_type": "stream",
     "text": [
      "      fun: 155.30186771071988\n",
      " hess_inv: <5x5 LbfgsInvHessProduct with dtype=float64>\n",
      "      jac: array([-2631.05517604,   388.0178383 ,  -422.06614239,   139.87011585,\n",
      "          -4.40500969])\n",
      "  message: b'CONVERGENCE: REL_REDUCTION_OF_F_<=_FACTR*EPSMCH'\n",
      "     nfev: 378\n",
      "      nit: 40\n",
      "   status: 0\n",
      "  success: True\n",
      "        x: array([ 0.03839354,  0.00558034,  0.17072491,  0.01051873,  0.06707025])\n"
     ]
    }
   ],
   "source": [
    "print(opt_res)\n",
    "d_DUT_opt, Z_DUT_opt, d_CEA_opt, Z_CEA_opt, d_sstub_opt = opt_res.x"
   ]
  },
  {
   "cell_type": "code",
   "execution_count": 210,
   "metadata": {
    "collapsed": false
   },
   "outputs": [
    {
     "data": {
      "text/plain": [
       "<matplotlib.legend.Legend at 0x13fb5470>"
      ]
     },
     "execution_count": 210,
     "metadata": {},
     "output_type": "execute_result"
    },
    {
     "data": {
      "image/png": "[encoded data removed]",
      "text/plain": [
       "<matplotlib.figure.Figure at 0x1389b978>"
      ]
     },
     "metadata": {},
     "output_type": "display_data"
    }
   ],
   "source": [
    "resonator_network(d_sc_DUT=d_DUT_opt, d_sc_CEA=d_CEA_opt, \n",
    "                  Z_sc_CEA=Z_CEA_opt, Z_sc_DUT=Z_DUT_opt, \n",
    "                  d_sstub=d_sstub_opt).plot_s_db()\n",
    "plt.plot(exp_freq, exp_mag_dB)\n",
    "plt.xlim(62.5e6, 62.8e6)\n",
    "plt.axvline(exp_freq_match, color='k', ls='--')\n",
    "plt.legend(('Optimized shorts', 'Measurements'))"
   ]
  },
  {
   "cell_type": "code",
   "execution_count": null,
   "metadata": {
    "collapsed": true
   },
   "outputs": [],
   "source": []
  },
  {
   "cell_type": "markdown",
   "metadata": {},
   "source": [
    "### alpha=1.0\n",
    "First set of optimized set of values 12/04/2017: \n",
    "- DUT length :  0.03839354,        \n",
    "- DUT impedance : 0.00558034,\n",
    "- CEA length : 0.17072491,\n",
    "- CEA impedance : 0.01051873,\n",
    "- service stub length : 0.06707025\n",
    "\n",
    "### alpha=0.9\n",
    "- DUT length : 0.03858945,      \n",
    "- DUT impedance : 0.00359548,\n",
    "- CEA length : 0.16984239, \n",
    "- CEA impedance : 0.00957982,\n",
    "- service stub length :  0.00841459 \n",
    "\n",
    "### alpha=0.8\n",
    "- DUT length :  0.03847908\n",
    "- DUT impedance : 0.00185086\n",
    "- CEA length :0.17001212\n",
    "- CEA impedance : 0.00888721\n",
    "- service stub length : 0.00843457\n"
   ]
  }
 ],
 "metadata": {
  "kernelspec": {
   "display_name": "Python [conda root]",
   "language": "python",
   "name": "conda-root-py"
  },
  "language_info": {
   "codemirror_mode": {
    "name": "ipython",
    "version": 3
   },
   "file_extension": ".py",
   "mimetype": "text/x-python",
   "name": "python",
   "nbconvert_exporter": "python",
   "pygments_lexer": "ipython3",
   "version": "3.5.2"
  }
 },
 "nbformat": 4,
 "nbformat_minor": 2
}
