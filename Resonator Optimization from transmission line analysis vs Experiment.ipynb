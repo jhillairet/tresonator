{
 "cells": [
  {
   "cell_type": "code",
   "execution_count": 1,
   "metadata": {
    "collapsed": true
   },
   "outputs": [],
   "source": [
    "import numpy as np\n",
    "from scipy.optimize import minimize\n",
    "\n",
    "from ipywidgets import interact, interactive, fixed, interact_manual\n",
    "import ipywidgets as widgets\n",
    "\n",
    "import matplotlib.pyplot as plt\n",
    "%matplotlib inline\n",
    "\n",
    "import tresonator as T"
   ]
  },
  {
   "cell_type": "code",
   "execution_count": 2,
   "metadata": {
    "collapsed": false
   },
   "outputs": [
    {
     "data": {
      "image/png": "[encoded data removed]",
      "text/plain": [
       "<matplotlib.figure.Figure at 0x4705b38>"
      ]
     },
     "metadata": {},
     "output_type": "display_data"
    }
   ],
   "source": [
    "fs = 1e6*np.linspace(61, 64, 301)\n",
    "P_in = 20e3 # W\n",
    "\n",
    "@interact(Lsc_DUT=(20e-3, 60e-3, 1e-3), Lsc_CEA=(1e-3, 200e-3, 1e-3), add_loss=(0.1, 5, 0.1))\n",
    "def S11_vf_f(Lsc_DUT=40e-3, Lsc_CEA=20e-3, add_loss=1.0):\n",
    "    S11dB = []\n",
    "    for f in fs:\n",
    "        _cfg = T.Configuration(f, P_in, Lsc_DUT, Lsc_CEA, additional_losses=add_loss)\n",
    "        S11dB.append(_cfg.S11dB())\n",
    "    fig,ax=plt.subplots()\n",
    "    ax.plot(fs/1e6, S11dB, lw=2)\n",
    "    ax.grid(True)\n",
    "    ax.set_ylim(-40,0)\n",
    "    ax.set_xlabel('f [MHz]', fontsize=14)\n",
    "    ax.set_ylabel('S11 [dB]', fontsize=14)"
   ]
  },
  {
   "cell_type": "code",
   "execution_count": 3,
   "metadata": {
    "collapsed": true
   },
   "outputs": [],
   "source": [
    "def S11_from_Ls(f, L_DUT, L_CEA, add_loss=1.0, P_in=1):\n",
    "    _cfg = T.Configuration(f, P_in, L_DUT, L_CEA, additional_losses=add_loss)\n",
    "    return _cfg.S11dB()\n",
    "\n",
    "S11dB_vec = np.vectorize(S11_from_Ls)"
   ]
  },
  {
   "cell_type": "code",
   "execution_count": 4,
   "metadata": {
    "collapsed": false
   },
   "outputs": [
    {
     "data": {
      "image/png": "[encoded data removed]",
      "text/plain": [
       "<matplotlib.figure.Figure at 0xa043cf8>"
      ]
     },
     "metadata": {},
     "output_type": "display_data"
    }
   ],
   "source": [
    "L_DUTs = 1e-3*np.arange(20, 60, 1)\n",
    "L_CEAs = 1e-3*np.arange(1, 150, 1)\n",
    "LL_DUTs, LL_CEAs = np.meshgrid(L_DUTs, L_CEAs)\n",
    "\n",
    "@interact(f=(60, 65, 0.1))\n",
    "def plot_2D(f=62):\n",
    "    S11dB = S11dB_vec(f*1e6, LL_DUTs, LL_CEAs, add_loss=1.0)\n",
    "    fig,ax=plt.subplots()\n",
    "    c=ax.pcolor(LL_DUTs*1e3, LL_CEAs*1e3, S11dB, vmin=-40, vmax=0, cmap='afmhot')\n",
    "    plt.colorbar(c)\n",
    "    ax.set_xlabel('L DUT [mm]', fontsize=14)\n",
    "    ax.set_ylabel('L CEA [mm]', fontsize=14)"
   ]
  },
  {
   "cell_type": "code",
   "execution_count": null,
   "metadata": {
    "collapsed": true
   },
   "outputs": [],
   "source": []
  }
 ],
 "metadata": {
  "kernelspec": {
   "display_name": "Python [conda root]",
   "language": "python",
   "name": "conda-root-py"
  },
  "language_info": {
   "codemirror_mode": {
    "name": "ipython",
    "version": 3
   },
   "file_extension": ".py",
   "mimetype": "text/x-python",
   "name": "python",
   "nbconvert_exporter": "python",
   "pygments_lexer": "ipython3",
   "version": "3.5.2"
  },
  "widgets": {
   "state": {
    "08cc2182ea004862bc2d27b4b8c76bb6": {
     "views": [
      {
       "cell_index": 1
      }
     ]
    },
    "6339eaf953a84ebfbad1b8a43d058495": {
     "views": [
      {
       "cell_index": 3
      }
     ]
    }
   },
   "version": "1.2.0"
  }
 },
 "nbformat": 4,
 "nbformat_minor": 2
}
