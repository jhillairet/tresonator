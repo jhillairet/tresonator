{
 "cells": [
  {
   "cell_type": "code",
   "execution_count": 1,
   "metadata": {
    "collapsed": true
   },
   "outputs": [],
   "source": [
    "import numpy as np\n",
    "import matplotlib.pyplot as plt\n",
    "%matplotlib inline\n",
    "\n",
    "import skrf as rf\n",
    "rf.stylely()"
   ]
  },
  {
   "cell_type": "code",
   "execution_count": 2,
   "metadata": {
    "collapsed": true
   },
   "outputs": [],
   "source": [
    "from scipy.optimize import minimize"
   ]
  },
  {
   "cell_type": "markdown",
   "metadata": {},
   "source": [
    "In this notebook, we determine the short-circuit lengths and impedances in order to match low-power measurements. "
   ]
  },
  {
   "cell_type": "markdown",
   "metadata": {},
   "source": [
    "# Low power measurements"
   ]
  },
  {
   "cell_type": "code",
   "execution_count": 3,
   "metadata": {
    "collapsed": true
   },
   "outputs": [],
   "source": [
    "filename = 'data/RES2.ASC'"
   ]
  },
  {
   "cell_type": "code",
   "execution_count": 4,
   "metadata": {
    "collapsed": false
   },
   "outputs": [],
   "source": [
    "exp_freq,reS11,imS11 = np.loadtxt(filename, skiprows=14, delimiter=';', unpack=True)"
   ]
  },
  {
   "cell_type": "code",
   "execution_count": 5,
   "metadata": {
    "collapsed": false
   },
   "outputs": [
    {
     "name": "stdout",
     "output_type": "stream",
     "text": [
      "Match frequency : 62.640625 MHz\n"
     ]
    }
   ],
   "source": [
    "exp_mag = np.sqrt(reS11**2 + imS11**2)\n",
    "exp_mag_dB = 20*np.log10(exp_mag)\n",
    "# find the match frequency \n",
    "exp_frequency = rf.frequency.f_2_frequency(exp_freq) # -> into a skrf Frequency \n",
    "exp_freq_match = exp_freq[np.argmin(exp_mag)]\n",
    "print('Match frequency : {} MHz'.format(exp_freq_match/1e6))"
   ]
  },
  {
   "cell_type": "code",
   "execution_count": 6,
   "metadata": {
    "collapsed": false,
    "scrolled": true
   },
   "outputs": [
    {
     "data": {
      "text/plain": [
       "<matplotlib.text.Text at 0x9b3f898>"
      ]
     },
     "execution_count": 6,
     "metadata": {},
     "output_type": "execute_result"
    },
    {
     "data": {
      "image/png": "[encoded data removed]",
      "text/plain": [
       "<matplotlib.figure.Figure at 0x9b31048>"
      ]
     },
     "metadata": {},
     "output_type": "display_data"
    }
   ],
   "source": [
    "fig,ax = plt.subplots()\n",
    "ax.plot(exp_freq/1e6, exp_mag_dB, lw=2)\n",
    "ax.grid(True)\n",
    "ax.set_ylabel('S11 [dB]')\n",
    "ax.set_xlabel('f [MHz]')"
   ]
  },
  {
   "cell_type": "markdown",
   "metadata": {},
   "source": [
    "# Electromagnetic Model"
   ]
  },
  {
   "cell_type": "code",
   "execution_count": 30,
   "metadata": {
    "collapsed": false
   },
   "outputs": [],
   "source": [
    "# Importing T-resonator S-parameters from HFSS \n",
    "resonator_base = rf.Network('data/SSA50_resonator_RFModels_Resonator_Base_alpha1.0.s4p', f_unit='MHz')\n",
    "# The experimental frequency band does not match the HFSS simulated one.  \n",
    "# So before making any operations between Networks, need to interpolate them. \n",
    "# It also speedup very much the Network connecting calculations.\n",
    "resonator_base = resonator_base.interpolate_from_f(exp_frequency)\n",
    "# Importation of scattering matrix from HFSS does not import the characteristic impedances ! So must be defined here :\n",
    "resonator_base.z0 = [29.7462115642306 +0j, 29.7338555151199 -0.00325005759714552j, 26.8027079032461 -0.0240170698948341j, 60.4449152363668+0j] #[29.75, 29.75, 26.8, 60.4]"
   ]
  },
  {
   "cell_type": "code",
   "execution_count": 31,
   "metadata": {
    "collapsed": false
   },
   "outputs": [
    {
     "data": {
      "text/plain": [
       "4-Port Network: 'SSA50_resonator_RFModels_Resonator_Base_alpha1.0',  61000000-64000000 Hz, 1601 pts, z0=[ 29.74621156+0.j          29.73385552-0.00325006j  26.80270790-0.02401707j\n",
       "  60.44491524+0.j        ]"
      ]
     },
     "execution_count": 31,
     "metadata": {},
     "output_type": "execute_result"
    }
   ],
   "source": [
    "resonator_base"
   ]
  },
  {
   "cell_type": "code",
   "execution_count": 32,
   "metadata": {
    "collapsed": false
   },
   "outputs": [],
   "source": [
    "# Coaxial media associated to transmission line for service stub and short circuits\n",
    "sc_DUT_media = rf.media.Coaxial(frequency=resonator_base.frequency, Dint=127.92e-3, Dout=216e-3, epsilon_r=1)\n",
    "sc_CEA_media = rf.media.Coaxial(frequency=resonator_base.frequency, Dint=140e-3, Dout=219e-3, epsilon_r=1)\n",
    "service_stub_media = rf.media.Coaxial(frequency=resonator_base.frequency, Dint=55.5e-3, Dout=152e-3, epsilon_r=1)"
   ]
  },
  {
   "cell_type": "code",
   "execution_count": 33,
   "metadata": {
    "collapsed": false
   },
   "outputs": [],
   "source": [
    "# Creating networks for service stubs and shorts\n",
    "def resonator_network(d_sc_CEA = 161e-3, Z_sc_CEA = 10e-3, \n",
    "                      d_sc_DUT = 38e-3, Z_sc_DUT = 10e-3, \n",
    "                      d_sstub = 50e-3):\n",
    "    '''\n",
    "    Create and return the resonator Network from specified short-circuit lengths and resistances\n",
    "    '''\n",
    "    # Creating transmission line medias \n",
    "    service_stub = service_stub_media.line(d_sstub, unit='m') ** service_stub_media.short()\n",
    "    sc_CEA = sc_CEA_media.line(d_sc_CEA, unit='m')**sc_CEA_media.resistor(Z_sc_CEA)**sc_CEA_media.short()\n",
    "    sc_DUT = sc_DUT_media.line(d_sc_DUT, unit='m')**sc_DUT_media.resistor(Z_sc_DUT)**sc_DUT_media.short()\n",
    "    # Connecting the resonator with its ports. \n",
    "    # Port 1 : resonator input\n",
    "    # Port 2 : DUT\n",
    "    # Port 3 : CEA\n",
    "    # Port 4: service stub\n",
    "    _res = rf.connect(resonator_base, 3, service_stub, 0) # resonator to service stub \n",
    "    _res = rf.connect(_res, 2, sc_CEA, 0) # resonator to CEA\n",
    "    res = rf.connect(_res, 1, sc_DUT, 0) # resonator to DUT\n",
    "    return res"
   ]
  },
  {
   "cell_type": "code",
   "execution_count": 34,
   "metadata": {
    "collapsed": false
   },
   "outputs": [],
   "source": [
    "def f_match(resonator_network):\n",
    "    'Return the resonator match frequency'\n",
    "    return resonator_network.frequency[resonator_network.s_mag.argmin()].f[0]"
   ]
  },
  {
   "cell_type": "code",
   "execution_count": 35,
   "metadata": {
    "collapsed": false
   },
   "outputs": [
    {
     "data": {
      "text/plain": [
       "<matplotlib.lines.Line2D at 0xa0a88d0>"
      ]
     },
     "execution_count": 35,
     "metadata": {},
     "output_type": "execute_result"
    },
    {
     "data": {
      "image/png": "[encoded data removed]",
      "text/plain": [
       "<matplotlib.figure.Figure at 0xa0a87f0>"
      ]
     },
     "metadata": {},
     "output_type": "display_data"
    }
   ],
   "source": [
    "# Plot the default values resonator Network\n",
    "res=resonator_network()\n",
    "res.plot_s_db()\n",
    "plt.axvline(f_match(res), ls='--', color='k' )"
   ]
  },
  {
   "cell_type": "markdown",
   "metadata": {},
   "source": [
    "# Optimized Parameters (length and impedance)"
   ]
  },
  {
   "cell_type": "markdown",
   "metadata": {},
   "source": [
    "Now that we now the optimized short lengths in order to get the match frequency, let's optimize the short impedance in order to fit the resonator experimental Q quality factor.   "
   ]
  },
  {
   "cell_type": "code",
   "execution_count": 36,
   "metadata": {
    "collapsed": false
   },
   "outputs": [],
   "source": [
    "def optim_fun_impedance(short_properties):\n",
    "    'Generates a resonator network from short impedance (Z_DUT,Z_CEA) and returns t'\n",
    "    \n",
    "    d_DUT, Z_DUT, d_CEA, Z_CEA, d_sstub = short_properties\n",
    "    # calculates the resonator Network\n",
    "    res = resonator_network(d_sc_CEA=d_CEA, d_sc_DUT=d_DUT, \n",
    "                            Z_sc_CEA=Z_CEA, Z_sc_DUT=Z_DUT,\n",
    "                           d_sstub=d_sstub)\n",
    "\n",
    "    crit = np.sum( (res.s_db.squeeze() - exp_mag_dB)**2) #least square \n",
    "    print(short_properties, crit)\n",
    "    return crit    "
   ]
  },
  {
   "cell_type": "code",
   "execution_count": 47,
   "metadata": {
    "collapsed": false
   },
   "outputs": [],
   "source": [
    "d_DUT_0 = 0.035 # m  \n",
    "d_CEA_0 = 0.035 # m\n",
    "Z_DUT_0 = 0.003 # Ohm\n",
    "Z_CEA_0 = 0.006 # Ohm\n",
    "d_sstub_0 = 0\n",
    "\n",
    "bounds_pties = ((10e-3, 70-3), (1e-4, 1), # d,Z DUT\n",
    "                (5e-3, 200e-3), (1e-4, 1), # d,Z CEA\n",
    "                (0, 700e-3)) # service stub"
   ]
  },
  {
   "cell_type": "code",
   "execution_count": 48,
   "metadata": {
    "collapsed": false
   },
   "outputs": [
    {
     "name": "stdout",
     "output_type": "stream",
     "text": [
      "[ 0.035  0.003  0.035  0.006  0.   ] 7387.15926885\n",
      "[ 0.03500001  0.003       0.035       0.006       0.        ] 7387.15787902\n",
      "[ 0.035       0.00300001  0.035       0.006       0.        ] 7387.15965588\n",
      "[ 0.035       0.003       0.03500001  0.006       0.        ] 7387.15907527\n",
      "[ 0.035       0.003       0.035       0.00600001  0.        ] 7387.15947071\n",
      "[  3.50000000e-02   3.00000000e-03   3.50000000e-02   6.00000000e-03\n",
      "   1.00000000e-08] 7387.15926861\n",
      "[  6.70000000e+01   1.00000000e-04   2.00000000e-01   1.00000000e-04\n",
      "   7.00000000e-01] 6994.36172022\n",
      "[  6.70000000e+01   1.00000000e-04   2.00000000e-01   1.00000000e-04\n",
      "   7.00000000e-01] 6994.36175452\n",
      "[  6.70000000e+01   1.00010000e-04   2.00000000e-01   1.00000000e-04\n",
      "   7.00000000e-01] 6994.36160565\n",
      "[  6.70000000e+01   1.00000000e-04   2.00000010e-01   1.00000000e-04\n",
      "   7.00000000e-01] 6994.36172334\n",
      "[  6.70000000e+01   1.00000000e-04   2.00000000e-01   1.00010000e-04\n",
      "   7.00000000e-01] 6994.36167398\n",
      "[  6.70000000e+01   1.00000000e-04   2.00000000e-01   1.00000000e-04\n",
      "   7.00000010e-01] 6994.36172147\n",
      "[  2.26019569e+01   2.02271075e-03   9.06043886e-02   4.01172186e-03\n",
      "   2.35897406e-01] 7189.77193893\n",
      "[  2.26019569e+01   2.02271075e-03   9.06043886e-02   4.01172186e-03\n",
      "   2.35897406e-01] 7189.77193897\n",
      "[  2.26019569e+01   2.02272075e-03   9.06043886e-02   4.01172186e-03\n",
      "   2.35897406e-01] 7189.77193891\n",
      "[  2.26019569e+01   2.02271075e-03   9.06043986e-02   4.01172186e-03\n",
      "   2.35897406e-01] 7189.77193971\n",
      "[  2.26019569e+01   2.02271075e-03   9.06043886e-02   4.01173186e-03\n",
      "   2.35897406e-01] 7189.77192599\n",
      "[  2.26019569e+01   2.02271075e-03   9.06043886e-02   4.01172186e-03\n",
      "   2.35897416e-01] 7189.7719389\n",
      "[  7.54710077e+00   2.67467943e-03   5.35096189e-02   5.33814090e-03\n",
      "   7.85256558e-02] 7176.39611591\n",
      "[  7.54710078e+00   2.67467943e-03   5.35096189e-02   5.33814090e-03\n",
      "   7.85256558e-02] 7176.39611663\n",
      "[  7.54710077e+00   2.67468943e-03   5.35096189e-02   5.33814090e-03\n",
      "   7.85256558e-02] 7176.39611531\n",
      "[  7.54710077e+00   2.67467943e-03   5.35096289e-02   5.33814090e-03\n",
      "   7.85256558e-02] 7176.39611811\n",
      "[  7.54710077e+00   2.67467943e-03   5.35096189e-02   5.33815090e-03\n",
      "   7.85256558e-02] 7176.39610096\n",
      "[  7.54710077e+00   2.67467943e-03   5.35096189e-02   5.33814090e-03\n",
      "   7.85256658e-02] 7176.39611571\n",
      "[ 2.53694685  0.00289165  0.04116473  0.00577956  0.02615341] 7198.38748594\n",
      "[ 2.53694686  0.00289165  0.04116473  0.00577956  0.02615341] 7198.3874841\n",
      "[ 2.53694685  0.00289166  0.04116473  0.00577956  0.02615341] 7198.38755931\n",
      "[ 2.53694685  0.00289165  0.04116474  0.00577956  0.02615341] 7198.38750769\n",
      "[ 2.53694685  0.00289165  0.04116473  0.00577957  0.02615341] 7198.38750037\n",
      "[ 2.53694685  0.00289165  0.04116473  0.00577956  0.02615342] 7198.38748531\n",
      "[ 0.86809968  0.00296392  0.03705274  0.0059266   0.00870858] 7185.76458757\n",
      "[ 0.86809969  0.00296392  0.03705274  0.0059266   0.00870858] 7185.76458765\n",
      "[ 0.86809968  0.00296393  0.03705274  0.0059266   0.00870858] 7185.76458749\n",
      "[ 0.86809968  0.00296392  0.03705275  0.0059266   0.00870858] 7185.76458828\n",
      "[ 0.86809968  0.00296392  0.03705274  0.00592661  0.00870858] 7185.76457492\n",
      "[ 0.86809968  0.00296392  0.03705274  0.0059266   0.00870859] 7185.76458736\n",
      "[ 0.8691537   0.00299497  0.03668017  0.01268506  0.00883256] 7177.22024398\n",
      "[ 0.86915371  0.00299497  0.03668017  0.01268506  0.00883256] 7177.22024407\n",
      "[ 0.8691537   0.00299498  0.03668017  0.01268506  0.00883256] 7177.22024389\n",
      "[ 0.8691537   0.00299497  0.03668018  0.01268506  0.00883256] 7177.22024471\n",
      "[ 0.8691537   0.00299497  0.03668017  0.01268507  0.00883256] 7177.22023141\n",
      "[ 0.8691537   0.00299497  0.03668017  0.01268506  0.00883257] 7177.22024374\n",
      "[ 0.87336978  0.00311918  0.03518992  0.03971891  0.00932847] 7143.58286355\n",
      "[ 0.87336979  0.00311918  0.03518992  0.03971891  0.00932847] 7143.58286369\n",
      "[ 0.87336978  0.00311919  0.03518992  0.03971891  0.00932847] 7143.58286347\n",
      "[ 0.87336978  0.00311918  0.03518993  0.03971891  0.00932847] 7143.58286435\n",
      "[ 0.87336978  0.00311918  0.03518992  0.03971892  0.00932847] 7143.58285129\n",
      "[ 0.87336978  0.00311918  0.03518992  0.03971891  0.00932848] 7143.5828632\n",
      "[ 0.89023409  0.00361601  0.02922891  0.14785432  0.01131215] 7017.68424286\n",
      "[ 0.8902341   0.00361601  0.02922891  0.14785432  0.01131215] 7017.68424317\n",
      "[ 0.89023409  0.00361602  0.02922891  0.14785432  0.01131215] 7017.68424278\n",
      "[ 0.89023409  0.00361601  0.02922892  0.14785432  0.01131215] 7017.68424385\n",
      "[ 0.89023409  0.00361601  0.02922891  0.14785433  0.01131215] 7017.68423187\n",
      "[ 0.89023409  0.00361601  0.02922891  0.14785432  0.01131216] 7017.68424213\n",
      "[  1.07177485e+00   1.00000000e-04   5.00000000e-03   1.00000000e+00\n",
      "   3.38974413e-01] 6507.96203937\n",
      "[  1.07177486e+00   1.00000000e-04   5.00000000e-03   1.00000000e+00\n",
      "   3.38974413e-01] 6507.96203926\n",
      "[  1.07177485e+00   1.00010000e-04   5.00000000e-03   1.00000000e+00\n",
      "   3.38974413e-01] 6507.96203939\n",
      "[  1.07177485e+00   1.00000000e-04   5.00001000e-03   1.00000000e+00\n",
      "   3.38974413e-01] 6507.96203934\n",
      "[  1.07177485e+00   1.00000000e-04   5.00000000e-03   1.00000001e+00\n",
      "   3.38974413e-01] 6507.96203921\n",
      "[  1.07177485e+00   1.00000000e-04   5.00000000e-03   1.00000000e+00\n",
      "   3.38974423e-01] 6507.96203973\n",
      "[  1.07168646e+00   1.00000000e-04   5.00000000e-03   1.00000000e+00\n",
      "   3.13024819e-01] 6507.11119237\n",
      "[  1.07168647e+00   1.00000000e-04   5.00000000e-03   1.00000000e+00\n",
      "   3.13024819e-01] 6507.11119228\n",
      "[  1.07168646e+00   1.00010000e-04   5.00000000e-03   1.00000000e+00\n",
      "   3.13024819e-01] 6507.11119239\n",
      "[  1.07168646e+00   1.00000000e-04   5.00001000e-03   1.00000000e+00\n",
      "   3.13024819e-01] 6507.11119236\n",
      "[  1.07168646e+00   1.00000000e-04   5.00000000e-03   1.00000001e+00\n",
      "   3.13024819e-01] 6507.11119215\n",
      "[  1.07168646e+00   1.00000000e-04   5.00000000e-03   1.00000000e+00\n",
      "   3.13024829e-01] 6507.11119268\n",
      "[  1.07391017e+00   1.00000000e-04   5.00000000e-03   1.00000000e+00\n",
      "   1.50888155e-01] 6504.90280296\n",
      "[  1.07391018e+00   1.00000000e-04   5.00000000e-03   1.00000000e+00\n",
      "   1.50888155e-01] 6504.90280298\n",
      "[  1.07391017e+00   1.00010000e-04   5.00000000e-03   1.00000000e+00\n",
      "   1.50888155e-01] 6504.90280297\n",
      "[  1.07391017e+00   1.00000000e-04   5.00001000e-03   1.00000000e+00\n",
      "   1.50888155e-01] 6504.90280299\n",
      "[  1.07391017e+00   1.00000000e-04   5.00000000e-03   1.00000001e+00\n",
      "   1.50888155e-01] 6504.90280221\n",
      "[  1.07391017e+00   1.00000000e-04   5.00000000e-03   1.00000000e+00\n",
      "   1.50888165e-01] 6504.90280292\n",
      "[  1.07362968e+00   1.00000000e-04   5.00000000e-03   1.00000000e+00\n",
      "   1.70503015e-01] 6504.86548568\n",
      "[  1.07362969e+00   1.00000000e-04   5.00000000e-03   1.00000000e+00\n",
      "   1.70503015e-01] 6504.86548569\n",
      "[  1.07362968e+00   1.00010000e-04   5.00000000e-03   1.00000000e+00\n",
      "   1.70503015e-01] 6504.86548569\n",
      "[  1.07362968e+00   1.00000000e-04   5.00001000e-03   1.00000000e+00\n",
      "   1.70503015e-01] 6504.86548572\n",
      "[  1.07362968e+00   1.00000000e-04   5.00000000e-03   1.00000001e+00\n",
      "   1.70503015e-01] 6504.865485\n",
      "[  1.07362968e+00   1.00000000e-04   5.00000000e-03   1.00000000e+00\n",
      "   1.70503025e-01] 6504.86548569\n",
      "[  1.07364055e+00   1.00000000e-04   5.00000000e-03   1.00000000e+00\n",
      "   1.68937608e-01] 6504.86518803\n",
      "[  1.07364056e+00   1.00000000e-04   5.00000000e-03   1.00000000e+00\n",
      "   1.68937608e-01] 6504.86518804\n",
      "[  1.07364055e+00   1.00010000e-04   5.00000000e-03   1.00000000e+00\n",
      "   1.68937608e-01] 6504.86518804\n",
      "[  1.07364055e+00   1.00000000e-04   5.00001000e-03   1.00000000e+00\n",
      "   1.68937608e-01] 6504.86518807\n",
      "[  1.07364055e+00   1.00000000e-04   5.00000000e-03   1.00000001e+00\n",
      "   1.68937608e-01] 6504.86518734\n",
      "[  1.07364055e+00   1.00000000e-04   5.00000000e-03   1.00000000e+00\n",
      "   1.68937618e-01] 6504.86518803\n",
      "[  1.07362920e+00   1.00000000e-04   5.00000000e-03   1.00000000e+00\n",
      "   1.68882896e-01] 6504.86517603\n",
      "[  1.07362921e+00   1.00000000e-04   5.00000000e-03   1.00000000e+00\n",
      "   1.68882896e-01] 6504.86517604\n",
      "[  1.07362920e+00   1.00010000e-04   5.00000000e-03   1.00000000e+00\n",
      "   1.68882896e-01] 6504.86517604\n",
      "[  1.07362920e+00   1.00000000e-04   5.00001000e-03   1.00000000e+00\n",
      "   1.68882896e-01] 6504.86517607\n",
      "[  1.07362920e+00   1.00000000e-04   5.00000000e-03   1.00000001e+00\n",
      "   1.68882896e-01] 6504.86517534\n",
      "[  1.07362920e+00   1.00000000e-04   5.00000000e-03   1.00000000e+00\n",
      "   1.68882906e-01] 6504.86517603\n",
      "[  1.07358378e+00   1.00000000e-04   5.00000000e-03   1.00000000e+00\n",
      "   1.68664047e-01] 6504.86513394\n",
      "[  1.07358379e+00   1.00000000e-04   5.00000000e-03   1.00000000e+00\n",
      "   1.68664047e-01] 6504.86513395\n",
      "[  1.07358378e+00   1.00010000e-04   5.00000000e-03   1.00000000e+00\n",
      "   1.68664047e-01] 6504.86513395\n",
      "[  1.07358378e+00   1.00000000e-04   5.00001000e-03   1.00000000e+00\n",
      "   1.68664047e-01] 6504.86513398\n",
      "[  1.07358378e+00   1.00000000e-04   5.00000000e-03   1.00000001e+00\n",
      "   1.68664047e-01] 6504.86513325\n",
      "[  1.07358378e+00   1.00000000e-04   5.00000000e-03   1.00000000e+00\n",
      "   1.68664057e-01] 6504.86513394\n",
      "[  1.07316220e+00   1.00000000e-04   5.00000000e-03   1.00000000e+00\n",
      "   1.67723718e-01] 6504.86481878\n",
      "[  1.07316221e+00   1.00000000e-04   5.00000000e-03   1.00000000e+00\n",
      "   1.67723718e-01] 6504.86481879\n",
      "[  1.07316220e+00   1.00010000e-04   5.00000000e-03   1.00000000e+00\n",
      "   1.67723718e-01] 6504.86481879\n",
      "[  1.07316220e+00   1.00000000e-04   5.00001000e-03   1.00000000e+00\n",
      "   1.67723718e-01] 6504.86481882\n",
      "[  1.07316220e+00   1.00000000e-04   5.00000000e-03   1.00000001e+00\n",
      "   1.67723718e-01] 6504.86481809\n",
      "[  1.07316220e+00   1.00000000e-04   5.00000000e-03   1.00000000e+00\n",
      "   1.67723728e-01] 6504.86481878\n",
      "[  1.07186138e+00   1.00000000e-04   5.00000000e-03   1.00000000e+00\n",
      "   1.66029236e-01] 6504.86401055\n",
      "[  1.07186139e+00   1.00000000e-04   5.00000000e-03   1.00000000e+00\n",
      "   1.66029236e-01] 6504.86401056\n",
      "[  1.07186138e+00   1.00010000e-04   5.00000000e-03   1.00000000e+00\n",
      "   1.66029236e-01] 6504.86401055\n",
      "[  1.07186138e+00   1.00000000e-04   5.00001000e-03   1.00000000e+00\n",
      "   1.66029236e-01] 6504.86401058\n",
      "[  1.07186138e+00   1.00000000e-04   5.00000000e-03   1.00000001e+00\n",
      "   1.66029236e-01] 6504.86400985\n",
      "[  1.07186138e+00   1.00000000e-04   5.00000000e-03   1.00000000e+00\n",
      "   1.66029246e-01] 6504.86401054\n",
      "[  1.06842991e+00   1.00000000e-04   5.00000000e-03   1.00000000e+00\n",
      "   1.63130340e-01] 6504.86210732\n",
      "[  1.06842992e+00   1.00000000e-04   5.00000000e-03   1.00000000e+00\n",
      "   1.63130340e-01] 6504.86210733\n",
      "[  1.06842991e+00   1.00010000e-04   5.00000000e-03   1.00000000e+00\n",
      "   1.63130340e-01] 6504.86210733\n",
      "[  1.06842991e+00   1.00000000e-04   5.00001000e-03   1.00000000e+00\n",
      "   1.63130340e-01] 6504.86210736\n",
      "[  1.06842991e+00   1.00000000e-04   5.00000000e-03   1.00000001e+00\n",
      "   1.63130340e-01] 6504.86210662\n",
      "[  1.06842991e+00   1.00000000e-04   5.00000000e-03   1.00000000e+00\n",
      "   1.63130350e-01] 6504.86210731\n",
      "[  1.05801444e+00   1.00000000e-04   5.00000000e-03   1.00000000e+00\n",
      "   1.58368962e-01] 6504.85576775\n",
      "[  1.05801445e+00   1.00000000e-04   5.00000000e-03   1.00000000e+00\n",
      "   1.58368962e-01] 6504.85576776\n",
      "[  1.05801444e+00   1.00010000e-04   5.00000000e-03   1.00000000e+00\n",
      "   1.58368962e-01] 6504.85576776\n",
      "[  1.05801444e+00   1.00000000e-04   5.00001000e-03   1.00000000e+00\n",
      "   1.58368962e-01] 6504.85576779\n",
      "[  1.05801444e+00   1.00000000e-04   5.00000000e-03   1.00000001e+00\n",
      "   1.58368962e-01] 6504.85576706\n",
      "[  1.05801444e+00   1.00000000e-04   5.00000000e-03   1.00000000e+00\n",
      "   1.58368972e-01] 6504.85576774\n",
      "[  1.03836720e+00   1.00000000e-04   5.00000000e-03   1.00000000e+00\n",
      "   1.53670931e-01] 6504.84735273\n",
      "[  1.03836721e+00   1.00000000e-04   5.00000000e-03   1.00000000e+00\n",
      "   1.53670931e-01] 6504.84735274\n",
      "[  1.03836720e+00   1.00010000e-04   5.00000000e-03   1.00000000e+00\n",
      "   1.53670931e-01] 6504.84735274\n",
      "[  1.03836720e+00   1.00000000e-04   5.00001000e-03   1.00000000e+00\n",
      "   1.53670931e-01] 6504.84735277\n",
      "[  1.03836720e+00   1.00000000e-04   5.00000000e-03   1.00000001e+00\n",
      "   1.53670931e-01] 6504.84735207\n",
      "[  1.03836720e+00   1.00000000e-04   5.00000000e-03   1.00000000e+00\n",
      "   1.53670941e-01] 6504.84735273\n",
      "[  1.03501988e+00   1.00000000e-04   5.00000000e-03   1.00000000e+00\n",
      "   1.54513922e-01] 6504.84642961\n",
      "[  1.03501989e+00   1.00000000e-04   5.00000000e-03   1.00000000e+00\n",
      "   1.54513922e-01] 6504.84642961\n",
      "[  1.03501988e+00   1.00010000e-04   5.00000000e-03   1.00000000e+00\n",
      "   1.54513922e-01] 6504.84642962\n",
      "[  1.03501988e+00   1.00000000e-04   5.00001000e-03   1.00000000e+00\n",
      "   1.54513922e-01] 6504.84642965\n",
      "[  1.03501988e+00   1.00000000e-04   5.00000000e-03   1.00000001e+00\n",
      "   1.54513922e-01] 6504.84642896\n",
      "[  1.03501988e+00   1.00000000e-04   5.00000000e-03   1.00000000e+00\n",
      "   1.54513932e-01] 6504.84642961\n",
      "[  1.03567123e+00   1.00000000e-04   5.00000000e-03   1.00000000e+00\n",
      "   1.55495224e-01] 6504.84634071\n",
      "[  1.03567124e+00   1.00000000e-04   5.00000000e-03   1.00000000e+00\n",
      "   1.55495224e-01] 6504.84634071\n",
      "[  1.03567123e+00   1.00010000e-04   5.00000000e-03   1.00000000e+00\n",
      "   1.55495224e-01] 6504.84634072\n",
      "[  1.03567123e+00   1.00000000e-04   5.00001000e-03   1.00000000e+00\n",
      "   1.55495224e-01] 6504.84634075\n",
      "[  1.03567123e+00   1.00000000e-04   5.00000000e-03   1.00000001e+00\n",
      "   1.55495224e-01] 6504.84634006\n",
      "[  1.03567123e+00   1.00000000e-04   5.00000000e-03   1.00000000e+00\n",
      "   1.55495234e-01] 6504.84634071\n",
      "[  1.03602342e+00   1.00000000e-04   5.00000000e-03   1.00000000e+00\n",
      "   1.55697522e-01] 6504.84633824\n",
      "[  1.03602343e+00   1.00000000e-04   5.00000000e-03   1.00000000e+00\n",
      "   1.55697522e-01] 6504.84633824\n",
      "[  1.03602342e+00   1.00010000e-04   5.00000000e-03   1.00000000e+00\n",
      "   1.55697522e-01] 6504.84633825\n",
      "[  1.03602342e+00   1.00000000e-04   5.00001000e-03   1.00000000e+00\n",
      "   1.55697522e-01] 6504.84633828\n",
      "[  1.03602342e+00   1.00000000e-04   5.00000000e-03   1.00000001e+00\n",
      "   1.55697522e-01] 6504.84633759\n",
      "[  1.03602342e+00   1.00000000e-04   5.00000000e-03   1.00000000e+00\n",
      "   1.55697532e-01] 6504.84633824\n"
     ]
    }
   ],
   "source": [
    "opt_res = minimize(optim_fun_impedance, (d_DUT_0, Z_DUT_0, d_CEA_0, Z_CEA_0, d_sstub_0),\n",
    "                  bounds=bounds_pties)"
   ]
  },
  {
   "cell_type": "code",
   "execution_count": 49,
   "metadata": {
    "collapsed": false,
    "scrolled": true
   },
   "outputs": [
    {
     "name": "stdout",
     "output_type": "stream",
     "text": [
      "      fun: 6504.8463382404425\n",
      " hess_inv: <5x5 LbfgsInvHessProduct with dtype=float64>\n",
      "      jac: array([ -9.09494702e-04,   1.01026671e+00,   3.97976692e+00,\n",
      "        -6.51416485e+01,   7.27595761e-04])\n",
      "  message: b'CONVERGENCE: REL_REDUCTION_OF_F_<=_FACTR*EPSMCH'\n",
      "     nfev: 144\n",
      "      nit: 16\n",
      "   status: 0\n",
      "  success: True\n",
      "        x: array([  1.03602342e+00,   1.00000000e-04,   5.00000000e-03,\n",
      "         1.00000000e+00,   1.55697522e-01])\n"
     ]
    }
   ],
   "source": [
    "print(opt_res)\n",
    "d_DUT_opt, Z_DUT_opt, d_CEA_opt, Z_CEA_opt, d_sstub_opt = opt_res.x"
   ]
  },
  {
   "cell_type": "code",
   "execution_count": 50,
   "metadata": {
    "collapsed": false
   },
   "outputs": [
    {
     "data": {
      "text/plain": [
       "<matplotlib.legend.Legend at 0xb749080>"
      ]
     },
     "execution_count": 50,
     "metadata": {},
     "output_type": "execute_result"
    },
    {
     "data": {
      "image/png": "[encoded data removed]",
      "text/plain": [
       "<matplotlib.figure.Figure at 0xa881a58>"
      ]
     },
     "metadata": {},
     "output_type": "display_data"
    }
   ],
   "source": [
    "resonator_network(d_sc_DUT=d_DUT_opt, d_sc_CEA=d_CEA_opt, \n",
    "                  Z_sc_CEA=Z_CEA_opt, Z_sc_DUT=Z_DUT_opt, \n",
    "                  d_sstub=d_sstub_opt).plot_s_db()\n",
    "plt.plot(exp_freq, exp_mag_dB)\n",
    "plt.xlim(62.5e6, 62.8e6)\n",
    "plt.axvline(exp_freq_match, color='k', ls='--')\n",
    "plt.legend(('Optimized shorts', 'Measurements'))"
   ]
  },
  {
   "cell_type": "code",
   "execution_count": null,
   "metadata": {
    "collapsed": true
   },
   "outputs": [],
   "source": []
  },
  {
   "cell_type": "markdown",
   "metadata": {},
   "source": [
    "### Base model\n",
    "- DUT length :  0.02437184,  \n",
    "- DUT impedance :  0.00437241,  \n",
    "- CEA length : 0.08750587, \n",
    "- CEA impedance :  0.00387077, \n",
    "- service stub length :  0.25590036   \n",
    "\n",
    "\n",
    "### alpha=1.0\n",
    "14/04/2017 With Char. impedance from HFSS \n",
    "- DUT length : 2.30761466e-02,   \n",
    "- DUT impedance : 6.70718957e-03,   \n",
    "- CEA length : 9.27676361e-02,\n",
    "- CEA impedance : 5.95647412e-04,   \n",
    "- service stub length : 2.89325068e-05\n",
    "\n",
    "\n",
    "First set of optimized set of values 12/04/2017: \n",
    "- DUT length :  0.03839354,        \n",
    "- DUT impedance : 0.00558034,\n",
    "- CEA length : 0.17072491,\n",
    "- CEA impedance : 0.01051873,\n",
    "- service stub length : 0.06707025\n",
    "\n",
    "### alpha=0.9\n",
    "- DUT length : 0.03858945,      \n",
    "- DUT impedance : 0.00359548,\n",
    "- CEA length : 0.16984239, \n",
    "- CEA impedance : 0.00957982,\n",
    "- service stub length :  0.00841459 \n",
    "\n",
    "### alpha=0.8\n",
    "- DUT length :  0.03847908\n",
    "- DUT impedance : 0.00185086\n",
    "- CEA length :0.17001212\n",
    "- CEA impedance : 0.00888721\n",
    "- service stub length : 0.00843457\n",
    "\n",
    "### alpha=0.5\n",
    "- DUT length :  0.0397207492,      \n",
    "- DUT impedance : 1.00000000e-08,\n",
    "- CEA length : 0.165679161,\n",
    "- CEA impedance : 2.69596270e-06,\n",
    "- service stub length : 0.0336168393\n",
    "\n",
    "\n"
   ]
  },
  {
   "cell_type": "code",
   "execution_count": 41,
   "metadata": {
    "collapsed": false
   },
   "outputs": [],
   "source": [
    "d_DUTs = np.linspace(20e-3, 30e-3, 100)\n",
    "d_CEAs = np.linspace(0.075, 0.1, 100)\n",
    "\n",
    "dd_DUT, dd_CEA = np.meshgrid(d_DUTs, d_CEAs)\n",
    "\n",
    "idx_f_match = np.argmin(abs(res.frequency.f - 62.64e6))"
   ]
  },
  {
   "cell_type": "code",
   "execution_count": 42,
   "metadata": {
    "collapsed": true
   },
   "outputs": [],
   "source": [
    "def S11_f_match(d_DUT, d_CEA):\n",
    "    res = resonator_network(d_sc_DUT=d_DUT, d_sc_CEA=d_CEA, \n",
    "                                  Z_sc_CEA=Z_CEA_opt, Z_sc_DUT=Z_DUT_opt, \n",
    "                                  d_sstub=d_sstub_opt)    \n",
    "    return np.squeeze(res.s_db[idx_f_match])\n",
    "\n",
    "vfunc = np.vectorize(S11_f_match)"
   ]
  },
  {
   "cell_type": "code",
   "execution_count": 43,
   "metadata": {
    "collapsed": false
   },
   "outputs": [
    {
     "ename": "KeyboardInterrupt",
     "evalue": "",
     "output_type": "error",
     "traceback": [
      "\u001b[0;31m---------------------------------------------------------------------------\u001b[0m",
      "\u001b[0;31mKeyboardInterrupt\u001b[0m                         Traceback (most recent call last)",
      "\u001b[0;32m<ipython-input-43-e0d679663eac>\u001b[0m in \u001b[0;36m<module>\u001b[0;34m()\u001b[0m\n\u001b[0;32m----> 1\u001b[0;31m \u001b[0mS11\u001b[0m \u001b[1;33m=\u001b[0m \u001b[0mvfunc\u001b[0m\u001b[1;33m(\u001b[0m\u001b[0mdd_DUT\u001b[0m\u001b[1;33m,\u001b[0m \u001b[0mdd_CEA\u001b[0m\u001b[1;33m)\u001b[0m\u001b[1;33m\u001b[0m\u001b[0m\n\u001b[0m",
      "\u001b[0;32mC:\\Users\\JH218595\\Documents\\Anaconda3\\lib\\site-packages\\numpy\\lib\\function_base.py\u001b[0m in \u001b[0;36m__call__\u001b[0;34m(self, *args, **kwargs)\u001b[0m\n\u001b[1;32m   2216\u001b[0m             \u001b[0mvargs\u001b[0m\u001b[1;33m.\u001b[0m\u001b[0mextend\u001b[0m\u001b[1;33m(\u001b[0m\u001b[1;33m[\u001b[0m\u001b[0mkwargs\u001b[0m\u001b[1;33m[\u001b[0m\u001b[0m_n\u001b[0m\u001b[1;33m]\u001b[0m \u001b[1;32mfor\u001b[0m \u001b[0m_n\u001b[0m \u001b[1;32min\u001b[0m \u001b[0mnames\u001b[0m\u001b[1;33m]\u001b[0m\u001b[1;33m)\u001b[0m\u001b[1;33m\u001b[0m\u001b[0m\n\u001b[1;32m   2217\u001b[0m \u001b[1;33m\u001b[0m\u001b[0m\n\u001b[0;32m-> 2218\u001b[0;31m         \u001b[1;32mreturn\u001b[0m \u001b[0mself\u001b[0m\u001b[1;33m.\u001b[0m\u001b[0m_vectorize_call\u001b[0m\u001b[1;33m(\u001b[0m\u001b[0mfunc\u001b[0m\u001b[1;33m=\u001b[0m\u001b[0mfunc\u001b[0m\u001b[1;33m,\u001b[0m \u001b[0margs\u001b[0m\u001b[1;33m=\u001b[0m\u001b[0mvargs\u001b[0m\u001b[1;33m)\u001b[0m\u001b[1;33m\u001b[0m\u001b[0m\n\u001b[0m\u001b[1;32m   2219\u001b[0m \u001b[1;33m\u001b[0m\u001b[0m\n\u001b[1;32m   2220\u001b[0m     \u001b[1;32mdef\u001b[0m \u001b[0m_get_ufunc_and_otypes\u001b[0m\u001b[1;33m(\u001b[0m\u001b[0mself\u001b[0m\u001b[1;33m,\u001b[0m \u001b[0mfunc\u001b[0m\u001b[1;33m,\u001b[0m \u001b[0margs\u001b[0m\u001b[1;33m)\u001b[0m\u001b[1;33m:\u001b[0m\u001b[1;33m\u001b[0m\u001b[0m\n",
      "\u001b[0;32mC:\\Users\\JH218595\\Documents\\Anaconda3\\lib\\site-packages\\numpy\\lib\\function_base.py\u001b[0m in \u001b[0;36m_vectorize_call\u001b[0;34m(self, func, args)\u001b[0m\n\u001b[1;32m   2285\u001b[0m                       for _a in args]\n\u001b[1;32m   2286\u001b[0m \u001b[1;33m\u001b[0m\u001b[0m\n\u001b[0;32m-> 2287\u001b[0;31m             \u001b[0moutputs\u001b[0m \u001b[1;33m=\u001b[0m \u001b[0mufunc\u001b[0m\u001b[1;33m(\u001b[0m\u001b[1;33m*\u001b[0m\u001b[0minputs\u001b[0m\u001b[1;33m)\u001b[0m\u001b[1;33m\u001b[0m\u001b[0m\n\u001b[0m\u001b[1;32m   2288\u001b[0m \u001b[1;33m\u001b[0m\u001b[0m\n\u001b[1;32m   2289\u001b[0m             \u001b[1;32mif\u001b[0m \u001b[0mufunc\u001b[0m\u001b[1;33m.\u001b[0m\u001b[0mnout\u001b[0m \u001b[1;33m==\u001b[0m \u001b[1;36m1\u001b[0m\u001b[1;33m:\u001b[0m\u001b[1;33m\u001b[0m\u001b[0m\n",
      "\u001b[0;32m<ipython-input-42-91e4ec7ca94b>\u001b[0m in \u001b[0;36mS11_f_match\u001b[0;34m(d_DUT, d_CEA)\u001b[0m\n\u001b[1;32m      2\u001b[0m     res = resonator_network(d_sc_DUT=d_DUT, d_sc_CEA=d_CEA, \n\u001b[1;32m      3\u001b[0m                                   \u001b[0mZ_sc_CEA\u001b[0m\u001b[1;33m=\u001b[0m\u001b[0mZ_CEA_opt\u001b[0m\u001b[1;33m,\u001b[0m \u001b[0mZ_sc_DUT\u001b[0m\u001b[1;33m=\u001b[0m\u001b[0mZ_DUT_opt\u001b[0m\u001b[1;33m,\u001b[0m\u001b[1;33m\u001b[0m\u001b[0m\n\u001b[0;32m----> 4\u001b[0;31m                                   d_sstub=d_sstub_opt)    \n\u001b[0m\u001b[1;32m      5\u001b[0m     \u001b[1;32mreturn\u001b[0m \u001b[0mnp\u001b[0m\u001b[1;33m.\u001b[0m\u001b[0msqueeze\u001b[0m\u001b[1;33m(\u001b[0m\u001b[0mres\u001b[0m\u001b[1;33m.\u001b[0m\u001b[0ms_db\u001b[0m\u001b[1;33m[\u001b[0m\u001b[0midx_f_match\u001b[0m\u001b[1;33m]\u001b[0m\u001b[1;33m)\u001b[0m\u001b[1;33m\u001b[0m\u001b[0m\n\u001b[1;32m      6\u001b[0m \u001b[1;33m\u001b[0m\u001b[0m\n",
      "\u001b[0;32m<ipython-input-33-a549327cdb64>\u001b[0m in \u001b[0;36mresonator_network\u001b[0;34m(d_sc_CEA, Z_sc_CEA, d_sc_DUT, Z_sc_DUT, d_sstub)\u001b[0m\n\u001b[1;32m      9\u001b[0m     \u001b[0mservice_stub\u001b[0m \u001b[1;33m=\u001b[0m \u001b[0mservice_stub_media\u001b[0m\u001b[1;33m.\u001b[0m\u001b[0mline\u001b[0m\u001b[1;33m(\u001b[0m\u001b[0md_sstub\u001b[0m\u001b[1;33m,\u001b[0m \u001b[0munit\u001b[0m\u001b[1;33m=\u001b[0m\u001b[1;34m'm'\u001b[0m\u001b[1;33m)\u001b[0m \u001b[1;33m**\u001b[0m \u001b[0mservice_stub_media\u001b[0m\u001b[1;33m.\u001b[0m\u001b[0mshort\u001b[0m\u001b[1;33m(\u001b[0m\u001b[1;33m)\u001b[0m\u001b[1;33m\u001b[0m\u001b[0m\n\u001b[1;32m     10\u001b[0m     \u001b[0msc_CEA\u001b[0m \u001b[1;33m=\u001b[0m \u001b[0msc_CEA_media\u001b[0m\u001b[1;33m.\u001b[0m\u001b[0mline\u001b[0m\u001b[1;33m(\u001b[0m\u001b[0md_sc_CEA\u001b[0m\u001b[1;33m,\u001b[0m \u001b[0munit\u001b[0m\u001b[1;33m=\u001b[0m\u001b[1;34m'm'\u001b[0m\u001b[1;33m)\u001b[0m\u001b[1;33m**\u001b[0m\u001b[0msc_CEA_media\u001b[0m\u001b[1;33m.\u001b[0m\u001b[0mresistor\u001b[0m\u001b[1;33m(\u001b[0m\u001b[0mZ_sc_CEA\u001b[0m\u001b[1;33m)\u001b[0m\u001b[1;33m**\u001b[0m\u001b[0msc_CEA_media\u001b[0m\u001b[1;33m.\u001b[0m\u001b[0mshort\u001b[0m\u001b[1;33m(\u001b[0m\u001b[1;33m)\u001b[0m\u001b[1;33m\u001b[0m\u001b[0m\n\u001b[0;32m---> 11\u001b[0;31m     \u001b[0msc_DUT\u001b[0m \u001b[1;33m=\u001b[0m \u001b[0msc_DUT_media\u001b[0m\u001b[1;33m.\u001b[0m\u001b[0mline\u001b[0m\u001b[1;33m(\u001b[0m\u001b[0md_sc_DUT\u001b[0m\u001b[1;33m,\u001b[0m \u001b[0munit\u001b[0m\u001b[1;33m=\u001b[0m\u001b[1;34m'm'\u001b[0m\u001b[1;33m)\u001b[0m\u001b[1;33m**\u001b[0m\u001b[0msc_DUT_media\u001b[0m\u001b[1;33m.\u001b[0m\u001b[0mresistor\u001b[0m\u001b[1;33m(\u001b[0m\u001b[0mZ_sc_DUT\u001b[0m\u001b[1;33m)\u001b[0m\u001b[1;33m**\u001b[0m\u001b[0msc_DUT_media\u001b[0m\u001b[1;33m.\u001b[0m\u001b[0mshort\u001b[0m\u001b[1;33m(\u001b[0m\u001b[1;33m)\u001b[0m\u001b[1;33m\u001b[0m\u001b[0m\n\u001b[0m\u001b[1;32m     12\u001b[0m     \u001b[1;31m# Connecting the resonator with its ports.\u001b[0m\u001b[1;33m\u001b[0m\u001b[1;33m\u001b[0m\u001b[0m\n\u001b[1;32m     13\u001b[0m     \u001b[1;31m# Port 1 : resonator input\u001b[0m\u001b[1;33m\u001b[0m\u001b[1;33m\u001b[0m\u001b[0m\n",
      "\u001b[0;32mC:\\Users\\JH218595\\Documents\\scikit-rf\\skrf\\media\\media.py\u001b[0m in \u001b[0;36mresistor\u001b[0;34m(self, R, *args, **kwargs)\u001b[0m\n\u001b[1;32m    464\u001b[0m         \u001b[0my\u001b[0m\u001b[1;33m[\u001b[0m\u001b[1;33m:\u001b[0m\u001b[1;33m,\u001b[0m\u001b[1;36m0\u001b[0m\u001b[1;33m,\u001b[0m\u001b[1;36m1\u001b[0m\u001b[1;33m]\u001b[0m \u001b[1;33m=\u001b[0m \u001b[1;33m-\u001b[0m\u001b[1;36m1.\u001b[0m\u001b[1;33m/\u001b[0m\u001b[0mR\u001b[0m\u001b[1;33m\u001b[0m\u001b[0m\n\u001b[1;32m    465\u001b[0m         \u001b[0my\u001b[0m\u001b[1;33m[\u001b[0m\u001b[1;33m:\u001b[0m\u001b[1;33m,\u001b[0m\u001b[1;36m1\u001b[0m\u001b[1;33m,\u001b[0m\u001b[1;36m0\u001b[0m\u001b[1;33m]\u001b[0m \u001b[1;33m=\u001b[0m \u001b[1;33m-\u001b[0m\u001b[1;36m1.\u001b[0m\u001b[1;33m/\u001b[0m\u001b[0mR\u001b[0m\u001b[1;33m\u001b[0m\u001b[0m\n\u001b[0;32m--> 466\u001b[0;31m         \u001b[0mresult\u001b[0m\u001b[1;33m.\u001b[0m\u001b[0my\u001b[0m \u001b[1;33m=\u001b[0m \u001b[0my\u001b[0m\u001b[1;33m\u001b[0m\u001b[0m\n\u001b[0m\u001b[1;32m    467\u001b[0m         \u001b[1;32mreturn\u001b[0m \u001b[0mresult\u001b[0m\u001b[1;33m\u001b[0m\u001b[0m\n\u001b[1;32m    468\u001b[0m \u001b[1;33m\u001b[0m\u001b[0m\n",
      "\u001b[0;32mC:\\Users\\JH218595\\Documents\\scikit-rf\\skrf\\network.py\u001b[0m in \u001b[0;36my\u001b[0;34m(self, value)\u001b[0m\n\u001b[1;32m    830\u001b[0m     \u001b[1;33m@\u001b[0m\u001b[0my\u001b[0m\u001b[1;33m.\u001b[0m\u001b[0msetter\u001b[0m\u001b[1;33m\u001b[0m\u001b[0m\n\u001b[1;32m    831\u001b[0m     \u001b[1;32mdef\u001b[0m \u001b[0my\u001b[0m\u001b[1;33m(\u001b[0m\u001b[0mself\u001b[0m\u001b[1;33m,\u001b[0m \u001b[0mvalue\u001b[0m\u001b[1;33m)\u001b[0m\u001b[1;33m:\u001b[0m\u001b[1;33m\u001b[0m\u001b[0m\n\u001b[0;32m--> 832\u001b[0;31m         \u001b[0mself\u001b[0m\u001b[1;33m.\u001b[0m\u001b[0m_s\u001b[0m \u001b[1;33m=\u001b[0m \u001b[0my2s\u001b[0m\u001b[1;33m(\u001b[0m\u001b[0mvalue\u001b[0m\u001b[1;33m,\u001b[0m \u001b[0mself\u001b[0m\u001b[1;33m.\u001b[0m\u001b[0mz0\u001b[0m\u001b[1;33m)\u001b[0m\u001b[1;33m\u001b[0m\u001b[0m\n\u001b[0m\u001b[1;32m    833\u001b[0m \u001b[1;33m\u001b[0m\u001b[0m\n\u001b[1;32m    834\u001b[0m     \u001b[1;33m@\u001b[0m\u001b[0mproperty\u001b[0m\u001b[1;33m\u001b[0m\u001b[0m\n",
      "\u001b[0;32mC:\\Users\\JH218595\\Documents\\scikit-rf\\skrf\\network.py\u001b[0m in \u001b[0;36my2s\u001b[0;34m(y, z0)\u001b[0m\n\u001b[1;32m   3905\u001b[0m     \u001b[1;32mfor\u001b[0m \u001b[0mfidx\u001b[0m \u001b[1;32min\u001b[0m \u001b[0mxrange\u001b[0m\u001b[1;33m(\u001b[0m\u001b[0ms\u001b[0m\u001b[1;33m.\u001b[0m\u001b[0mshape\u001b[0m\u001b[1;33m[\u001b[0m\u001b[1;36m0\u001b[0m\u001b[1;33m]\u001b[0m\u001b[1;33m)\u001b[0m\u001b[1;33m:\u001b[0m\u001b[1;33m\u001b[0m\u001b[0m\n\u001b[1;32m   3906\u001b[0m         \u001b[0msqrtz0\u001b[0m \u001b[1;33m=\u001b[0m \u001b[0mnpy\u001b[0m\u001b[1;33m.\u001b[0m\u001b[0mmat\u001b[0m\u001b[1;33m(\u001b[0m\u001b[0mnpy\u001b[0m\u001b[1;33m.\u001b[0m\u001b[0msqrt\u001b[0m\u001b[1;33m(\u001b[0m\u001b[0mnpy\u001b[0m\u001b[1;33m.\u001b[0m\u001b[0mdiagflat\u001b[0m\u001b[1;33m(\u001b[0m\u001b[0mz0\u001b[0m\u001b[1;33m[\u001b[0m\u001b[0mfidx\u001b[0m\u001b[1;33m]\u001b[0m\u001b[1;33m)\u001b[0m\u001b[1;33m)\u001b[0m\u001b[1;33m)\u001b[0m\u001b[1;33m\u001b[0m\u001b[0m\n\u001b[0;32m-> 3907\u001b[0;31m         \u001b[0ms\u001b[0m\u001b[1;33m[\u001b[0m\u001b[0mfidx\u001b[0m\u001b[1;33m]\u001b[0m \u001b[1;33m=\u001b[0m \u001b[1;33m(\u001b[0m\u001b[0mI\u001b[0m \u001b[1;33m-\u001b[0m \u001b[0msqrtz0\u001b[0m\u001b[1;33m*\u001b[0m\u001b[0my\u001b[0m\u001b[1;33m[\u001b[0m\u001b[0mfidx\u001b[0m\u001b[1;33m]\u001b[0m\u001b[1;33m*\u001b[0m\u001b[0msqrtz0\u001b[0m\u001b[1;33m)\u001b[0m \u001b[1;33m*\u001b[0m \u001b[1;33m(\u001b[0m\u001b[0mI\u001b[0m \u001b[1;33m+\u001b[0m \u001b[0msqrtz0\u001b[0m\u001b[1;33m*\u001b[0m\u001b[0my\u001b[0m\u001b[1;33m[\u001b[0m\u001b[0mfidx\u001b[0m\u001b[1;33m]\u001b[0m\u001b[1;33m*\u001b[0m\u001b[0msqrtz0\u001b[0m\u001b[1;33m)\u001b[0m\u001b[1;33m**\u001b[0m\u001b[1;33m-\u001b[0m\u001b[1;36m1\u001b[0m\u001b[1;33m\u001b[0m\u001b[0m\n\u001b[0m\u001b[1;32m   3908\u001b[0m     \u001b[1;32mreturn\u001b[0m \u001b[0ms\u001b[0m\u001b[1;33m\u001b[0m\u001b[0m\n\u001b[1;32m   3909\u001b[0m \u001b[1;33m\u001b[0m\u001b[0m\n",
      "\u001b[0;32mC:\\Users\\JH218595\\Documents\\Anaconda3\\lib\\site-packages\\numpy\\matrixlib\\defmatrix.py\u001b[0m in \u001b[0;36m__mul__\u001b[0;34m(self, other)\u001b[0m\n\u001b[1;32m    341\u001b[0m         \u001b[1;32mif\u001b[0m \u001b[0misinstance\u001b[0m\u001b[1;33m(\u001b[0m\u001b[0mother\u001b[0m\u001b[1;33m,\u001b[0m \u001b[1;33m(\u001b[0m\u001b[0mN\u001b[0m\u001b[1;33m.\u001b[0m\u001b[0mndarray\u001b[0m\u001b[1;33m,\u001b[0m \u001b[0mlist\u001b[0m\u001b[1;33m,\u001b[0m \u001b[0mtuple\u001b[0m\u001b[1;33m)\u001b[0m\u001b[1;33m)\u001b[0m \u001b[1;33m:\u001b[0m\u001b[1;33m\u001b[0m\u001b[0m\n\u001b[1;32m    342\u001b[0m             \u001b[1;31m# This promotes 1-D vectors to row vectors\u001b[0m\u001b[1;33m\u001b[0m\u001b[1;33m\u001b[0m\u001b[0m\n\u001b[0;32m--> 343\u001b[0;31m             \u001b[1;32mreturn\u001b[0m \u001b[0mN\u001b[0m\u001b[1;33m.\u001b[0m\u001b[0mdot\u001b[0m\u001b[1;33m(\u001b[0m\u001b[0mself\u001b[0m\u001b[1;33m,\u001b[0m \u001b[0masmatrix\u001b[0m\u001b[1;33m(\u001b[0m\u001b[0mother\u001b[0m\u001b[1;33m)\u001b[0m\u001b[1;33m)\u001b[0m\u001b[1;33m\u001b[0m\u001b[0m\n\u001b[0m\u001b[1;32m    344\u001b[0m         \u001b[1;32mif\u001b[0m \u001b[0misscalar\u001b[0m\u001b[1;33m(\u001b[0m\u001b[0mother\u001b[0m\u001b[1;33m)\u001b[0m \u001b[1;32mor\u001b[0m \u001b[1;32mnot\u001b[0m \u001b[0mhasattr\u001b[0m\u001b[1;33m(\u001b[0m\u001b[0mother\u001b[0m\u001b[1;33m,\u001b[0m \u001b[1;34m'__rmul__'\u001b[0m\u001b[1;33m)\u001b[0m \u001b[1;33m:\u001b[0m\u001b[1;33m\u001b[0m\u001b[0m\n\u001b[1;32m    345\u001b[0m             \u001b[1;32mreturn\u001b[0m \u001b[0mN\u001b[0m\u001b[1;33m.\u001b[0m\u001b[0mdot\u001b[0m\u001b[1;33m(\u001b[0m\u001b[0mself\u001b[0m\u001b[1;33m,\u001b[0m \u001b[0mother\u001b[0m\u001b[1;33m)\u001b[0m\u001b[1;33m\u001b[0m\u001b[0m\n",
      "\u001b[0;31mKeyboardInterrupt\u001b[0m: "
     ]
    }
   ],
   "source": [
    "S11 = vfunc(dd_DUT, dd_CEA)"
   ]
  },
  {
   "cell_type": "code",
   "execution_count": null,
   "metadata": {
    "collapsed": false
   },
   "outputs": [],
   "source": [
    "S11.shape"
   ]
  },
  {
   "cell_type": "code",
   "execution_count": null,
   "metadata": {
    "collapsed": false
   },
   "outputs": [],
   "source": [
    "fig,ax=plt.subplots()\n",
    "c=ax.contourf(dd_DUT, dd_CEA, S11)\n",
    "fig.colorbar(c)\n",
    "ax.axvline(d_DUT_opt)\n",
    "ax.axhline(d_CEA_opt)\n",
    "ax.set_xlim(0.02, 0.03)\n",
    "ax.set_ylim(0.075, 0.1)"
   ]
  },
  {
   "cell_type": "code",
   "execution_count": null,
   "metadata": {
    "collapsed": true
   },
   "outputs": [],
   "source": []
  }
 ],
 "metadata": {
  "kernelspec": {
   "display_name": "Python [conda root]",
   "language": "python",
   "name": "conda-root-py"
  },
  "language_info": {
   "codemirror_mode": {
    "name": "ipython",
    "version": 3
   },
   "file_extension": ".py",
   "mimetype": "text/x-python",
   "name": "python",
   "nbconvert_exporter": "python",
   "pygments_lexer": "ipython3",
   "version": "3.5.2"
  }
 },
 "nbformat": 4,
 "nbformat_minor": 2
}
