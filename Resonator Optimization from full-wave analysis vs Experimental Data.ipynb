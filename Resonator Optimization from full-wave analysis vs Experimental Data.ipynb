{
 "cells": [
  {
   "cell_type": "code",
   "execution_count": 1,
   "metadata": {
    "collapsed": true
   },
   "outputs": [],
   "source": [
    "import numpy as np\n",
    "import matplotlib.pyplot as plt\n",
    "%matplotlib inline\n",
    "\n",
    "import skrf as rf\n",
    "rf.stylely()"
   ]
  },
  {
   "cell_type": "code",
   "execution_count": 2,
   "metadata": {
    "collapsed": true
   },
   "outputs": [],
   "source": [
    "from scipy.optimize import minimize"
   ]
  },
  {
   "cell_type": "markdown",
   "metadata": {},
   "source": [
    "In this notebook, we determine the short-circuit lengths and impedances in order to match low-power measurements. "
   ]
  },
  {
   "cell_type": "markdown",
   "metadata": {},
   "source": [
    "# Low power measurements"
   ]
  },
  {
   "cell_type": "code",
   "execution_count": 3,
   "metadata": {
    "collapsed": true
   },
   "outputs": [],
   "source": [
    "filename = 'data/RES2.ASC'"
   ]
  },
  {
   "cell_type": "code",
   "execution_count": 4,
   "metadata": {
    "collapsed": false
   },
   "outputs": [],
   "source": [
    "exp_freq,reS11,imS11 = np.loadtxt(filename, skiprows=14, delimiter=';', unpack=True)"
   ]
  },
  {
   "cell_type": "code",
   "execution_count": 5,
   "metadata": {
    "collapsed": false
   },
   "outputs": [
    {
     "name": "stdout",
     "output_type": "stream",
     "text": [
      "Match frequency : 62.640625 MHz\n"
     ]
    }
   ],
   "source": [
    "exp_mag = np.sqrt(reS11**2 + imS11**2)\n",
    "exp_mag_dB = 20*np.log10(exp_mag)\n",
    "# find the match frequency \n",
    "exp_frequency = rf.frequency.f_2_frequency(exp_freq) # -> into a skrf Frequency \n",
    "exp_freq_match = exp_freq[np.argmin(exp_mag)]\n",
    "print('Match frequency : {} MHz'.format(exp_freq_match/1e6))"
   ]
  },
  {
   "cell_type": "code",
   "execution_count": 6,
   "metadata": {
    "collapsed": false,
    "scrolled": true
   },
   "outputs": [
    {
     "data": {
      "text/plain": [
       "<matplotlib.text.Text at 0x9b42898>"
      ]
     },
     "execution_count": 6,
     "metadata": {},
     "output_type": "execute_result"
    },
    {
     "data": {
      "image/png": "[encoded data removed]",
      "text/plain": [
       "<matplotlib.figure.Figure at 0x9b310f0>"
      ]
     },
     "metadata": {},
     "output_type": "display_data"
    }
   ],
   "source": [
    "fig,ax = plt.subplots()\n",
    "ax.plot(exp_freq/1e6, exp_mag_dB, lw=2)\n",
    "ax.grid(True)\n",
    "ax.set_ylabel('S11 [dB]')\n",
    "ax.set_xlabel('f [MHz]')"
   ]
  },
  {
   "cell_type": "markdown",
   "metadata": {},
   "source": [
    "# Electromagnetic Model"
   ]
  },
  {
   "cell_type": "code",
   "execution_count": 7,
   "metadata": {
    "collapsed": false
   },
   "outputs": [],
   "source": [
    "# Importing T-resonator S-parameters from HFSS \n",
    "resonator_base = rf.Network('data/SSA50_resonator_RFModels_Resonator_Base_alpha1.0_50Ohm.s4p', f_unit='MHz')\n",
    "# The experimental frequency band does not match the HFSS simulated one.  \n",
    "# So before making any operations between Networks, need to interpolate them. \n",
    "# It also speedup very much the Network connecting calculations.\n",
    "resonator_base = resonator_base.interpolate_from_f(exp_frequency)\n",
    "# Importation of scattering matrix from HFSS does not import the characteristic impedances ! So must be defined here :\n",
    "resonator_base.z0 = [29.7462115642306 +0j, 29.7338555151199 -0.00325005759714552j, 26.8027079032461 -0.0240170698948341j, 60.4449152363668+0j] #[29.75, 29.75, 26.8, 60.4]"
   ]
  },
  {
   "cell_type": "code",
   "execution_count": 8,
   "metadata": {
    "collapsed": false
   },
   "outputs": [
    {
     "data": {
      "text/plain": [
       "4-Port Network: 'SSA50_resonator_RFModels_Resonator_Base_alpha1.0_50Ohm',  61000000-64000000 Hz, 1601 pts, z0=[ 29.74621156+0.j          29.73385552-0.00325006j  26.80270790-0.02401707j\n",
       "  60.44491524+0.j        ]"
      ]
     },
     "execution_count": 8,
     "metadata": {},
     "output_type": "execute_result"
    }
   ],
   "source": [
    "resonator_base"
   ]
  },
  {
   "cell_type": "code",
   "execution_count": 9,
   "metadata": {
    "collapsed": false
   },
   "outputs": [],
   "source": [
    "# Coaxial media associated to transmission line for service stub and short circuits\n",
    "sc_DUT_media = rf.media.Coaxial(frequency=resonator_base.frequency, Dint=127.92e-3, Dout=216e-3, epsilon_r=1)\n",
    "sc_CEA_media = rf.media.Coaxial(frequency=resonator_base.frequency, Dint=140e-3, Dout=219e-3, epsilon_r=1)\n",
    "service_stub_media = rf.media.Coaxial(frequency=resonator_base.frequency, Dint=55.5e-3, Dout=152e-3, epsilon_r=1)"
   ]
  },
  {
   "cell_type": "code",
   "execution_count": 10,
   "metadata": {
    "collapsed": false
   },
   "outputs": [],
   "source": [
    "# Creating networks for service stubs and shorts\n",
    "def resonator_network(d_sc_CEA = 161e-3, Z_sc_CEA = 10e-3, \n",
    "                      d_sc_DUT = 38e-3, Z_sc_DUT = 10e-3, \n",
    "                      d_sstub = 50e-3):\n",
    "    '''\n",
    "    Create and return the resonator Network from specified short-circuit lengths and resistances\n",
    "    '''\n",
    "    # Creating transmission line medias \n",
    "    service_stub = service_stub_media.line(d_sstub, unit='m') ** service_stub_media.short()\n",
    "    sc_CEA = sc_CEA_media.line(d_sc_CEA, unit='m')**sc_CEA_media.resistor(Z_sc_CEA)**sc_CEA_media.short()\n",
    "    sc_DUT = sc_DUT_media.line(d_sc_DUT, unit='m')**sc_DUT_media.resistor(Z_sc_DUT)**sc_DUT_media.short()\n",
    "    # Connecting the resonator with its ports. \n",
    "    # Port 1 : resonator input\n",
    "    # Port 2 : DUT\n",
    "    # Port 3 : CEA\n",
    "    # Port 4: service stub\n",
    "    _res = rf.connect(resonator_base, 3, service_stub, 0) # resonator to service stub \n",
    "    _res = rf.connect(_res, 2, sc_CEA, 0) # resonator to CEA\n",
    "    res = rf.connect(_res, 1, sc_DUT, 0) # resonator to DUT\n",
    "    return res"
   ]
  },
  {
   "cell_type": "code",
   "execution_count": 11,
   "metadata": {
    "collapsed": false
   },
   "outputs": [],
   "source": [
    "def f_match(resonator_network):\n",
    "    'Return the resonator match frequency'\n",
    "    return resonator_network.frequency[resonator_network.s_mag.argmin()].f[0]"
   ]
  },
  {
   "cell_type": "code",
   "execution_count": 12,
   "metadata": {
    "collapsed": false
   },
   "outputs": [
    {
     "data": {
      "text/plain": [
       "<matplotlib.lines.Line2D at 0x75fce80>"
      ]
     },
     "execution_count": 12,
     "metadata": {},
     "output_type": "execute_result"
    },
    {
     "data": {
      "image/png": "[encoded data removed]",
      "text/plain": [
       "<matplotlib.figure.Figure at 0x75fce10>"
      ]
     },
     "metadata": {},
     "output_type": "display_data"
    }
   ],
   "source": [
    "# Plot the default values resonator Network\n",
    "res=resonator_network()\n",
    "res.plot_s_db()\n",
    "plt.axvline(f_match(res), ls='--', color='k' )"
   ]
  },
  {
   "cell_type": "markdown",
   "metadata": {},
   "source": [
    "# Optimized Parameters (length and impedance)"
   ]
  },
  {
   "cell_type": "markdown",
   "metadata": {},
   "source": [
    "Now that we now the optimized short lengths in order to get the match frequency, let's optimize the short impedance in order to fit the resonator experimental Q quality factor.   "
   ]
  },
  {
   "cell_type": "code",
   "execution_count": 13,
   "metadata": {
    "collapsed": false
   },
   "outputs": [],
   "source": [
    "def optim_fun_impedance(short_properties):\n",
    "    'Generates a resonator network from short impedance (Z_DUT,Z_CEA) and returns t'\n",
    "    \n",
    "    d_DUT, Z_DUT, d_CEA, Z_CEA, d_sstub = short_properties\n",
    "    # calculates the resonator Network\n",
    "    res = resonator_network(d_sc_CEA=d_CEA, d_sc_DUT=d_DUT, \n",
    "                            Z_sc_CEA=Z_CEA, Z_sc_DUT=Z_DUT,\n",
    "                           d_sstub=d_sstub)\n",
    "\n",
    "    crit = np.sum( (res.s_db.squeeze() - exp_mag_dB)**2) #least square \n",
    "    #print(short_properties, crit)\n",
    "    return crit    "
   ]
  },
  {
   "cell_type": "code",
   "execution_count": 21,
   "metadata": {
    "collapsed": false
   },
   "outputs": [],
   "source": [
    "d_DUT_0 = 0.04 # m,   ,  ,  \n",
    "d_CEA_0 = 0.04 # m\n",
    "Z_DUT_0 = 0.01 # Ohm\n",
    "Z_CEA_0 = 0.01 # Ohm\n",
    "d_sstub_0 = 0\n",
    "\n",
    "bounds_pties = ((10e-3, 63e-3), (1e-6, 10), # d,Z DUT\n",
    "                (5e-3, 200e-3), (1e-6, 10), # d,Z CEA\n",
    "                (0, 700e-3)) # service stub"
   ]
  },
  {
   "cell_type": "code",
   "execution_count": null,
   "metadata": {
    "collapsed": false
   },
   "outputs": [],
   "source": [
    "opt_res = minimize(optim_fun_impedance, (d_DUT_0, Z_DUT_0, d_CEA_0, Z_CEA_0, d_sstub_0),\n",
    "                  bounds=bounds_pties)"
   ]
  },
  {
   "cell_type": "code",
   "execution_count": null,
   "metadata": {
    "collapsed": false,
    "scrolled": true
   },
   "outputs": [],
   "source": [
    "print(opt_res)\n",
    "d_DUT_opt, Z_DUT_opt, d_CEA_opt, Z_CEA_opt, d_sstub_opt = opt_res.x"
   ]
  },
  {
   "cell_type": "code",
   "execution_count": null,
   "metadata": {
    "collapsed": false
   },
   "outputs": [],
   "source": [
    "resonator_network(d_sc_DUT=d_DUT_opt, d_sc_CEA=d_CEA_opt, \n",
    "                  Z_sc_CEA=Z_CEA_opt, Z_sc_DUT=Z_DUT_opt, \n",
    "                  d_sstub=d_sstub_opt).plot_s_db()\n",
    "plt.plot(exp_freq, exp_mag_dB)\n",
    "plt.xlim(62.5e6, 62.8e6)\n",
    "plt.axvline(exp_freq_match, color='k', ls='--')\n",
    "plt.legend(('Optimized shorts', 'Measurements'))"
   ]
  },
  {
   "cell_type": "code",
   "execution_count": null,
   "metadata": {
    "collapsed": true
   },
   "outputs": [],
   "source": []
  },
  {
   "cell_type": "markdown",
   "metadata": {},
   "source": [
    "### Base model\n",
    "- DUT length :  0.02437184,  \n",
    "- DUT impedance :  0.00437241,  \n",
    "- CEA length : 0.08750587, \n",
    "- CEA impedance :  0.00387077, \n",
    "- service stub length :  0.25590036   \n",
    "\n",
    "\n",
    "### alpha=1.0\n",
    "14/04/2017 With Char. impedance from HFSS \n",
    "- DUT length : 2.30761466e-02,   \n",
    "- DUT impedance : 6.70718957e-03,   \n",
    "- CEA length : 9.27676361e-02,\n",
    "- CEA impedance : 5.95647412e-04,   \n",
    "- service stub length : 2.89325068e-05\n",
    "\n",
    "\n",
    "First set of optimized set of values 12/04/2017: \n",
    "- DUT length :  0.03839354,        \n",
    "- DUT impedance : 0.00558034,\n",
    "- CEA length : 0.17072491,\n",
    "- CEA impedance : 0.01051873,\n",
    "- service stub length : 0.06707025\n",
    "\n",
    "### alpha=0.9\n",
    "- DUT length : 0.03858945,      \n",
    "- DUT impedance : 0.00359548,\n",
    "- CEA length : 0.16984239, \n",
    "- CEA impedance : 0.00957982,\n",
    "- service stub length :  0.00841459 \n",
    "\n",
    "### alpha=0.8\n",
    "- DUT length :  0.03847908\n",
    "- DUT impedance : 0.00185086\n",
    "- CEA length :0.17001212\n",
    "- CEA impedance : 0.00888721\n",
    "- service stub length : 0.00843457\n",
    "\n",
    "### alpha=0.5\n",
    "- DUT length :  0.0397207492,      \n",
    "- DUT impedance : 1.00000000e-08,\n",
    "- CEA length : 0.165679161,\n",
    "- CEA impedance : 2.69596270e-06,\n",
    "- service stub length : 0.0336168393\n",
    "\n",
    "\n"
   ]
  },
  {
   "cell_type": "code",
   "execution_count": 18,
   "metadata": {
    "collapsed": false
   },
   "outputs": [],
   "source": [
    "d_DUTs = np.linspace(20e-3, 30e-3, 100)\n",
    "d_CEAs = np.linspace(0.075, 0.1, 100)\n",
    "\n",
    "dd_DUT, dd_CEA = np.meshgrid(d_DUTs, d_CEAs)\n",
    "\n",
    "idx_f_match = np.argmin(abs(res.frequency.f - 62.64e6))"
   ]
  },
  {
   "cell_type": "code",
   "execution_count": 19,
   "metadata": {
    "collapsed": true
   },
   "outputs": [],
   "source": [
    "def S11_f_match(d_DUT, d_CEA):\n",
    "    res = resonator_network(d_sc_DUT=d_DUT, d_sc_CEA=d_CEA, \n",
    "                                  Z_sc_CEA=Z_CEA_opt, Z_sc_DUT=Z_DUT_opt, \n",
    "                                  d_sstub=d_sstub_opt)    \n",
    "    return np.squeeze(res.s_db[idx_f_match])\n",
    "\n",
    "vfunc = np.vectorize(S11_f_match)"
   ]
  },
  {
   "cell_type": "code",
   "execution_count": 20,
   "metadata": {
    "collapsed": false
   },
   "outputs": [
    {
     "ename": "KeyboardInterrupt",
     "evalue": "",
     "output_type": "error",
     "traceback": [
      "\u001b[0;31m---------------------------------------------------------------------------\u001b[0m",
      "\u001b[0;31mKeyboardInterrupt\u001b[0m                         Traceback (most recent call last)",
      "\u001b[0;32m<ipython-input-20-e0d679663eac>\u001b[0m in \u001b[0;36m<module>\u001b[0;34m()\u001b[0m\n\u001b[0;32m----> 1\u001b[0;31m \u001b[0mS11\u001b[0m \u001b[1;33m=\u001b[0m \u001b[0mvfunc\u001b[0m\u001b[1;33m(\u001b[0m\u001b[0mdd_DUT\u001b[0m\u001b[1;33m,\u001b[0m \u001b[0mdd_CEA\u001b[0m\u001b[1;33m)\u001b[0m\u001b[1;33m\u001b[0m\u001b[0m\n\u001b[0m",
      "\u001b[0;32mC:\\Users\\JH218595\\Documents\\Anaconda3\\lib\\site-packages\\numpy\\lib\\function_base.py\u001b[0m in \u001b[0;36m__call__\u001b[0;34m(self, *args, **kwargs)\u001b[0m\n\u001b[1;32m   2216\u001b[0m             \u001b[0mvargs\u001b[0m\u001b[1;33m.\u001b[0m\u001b[0mextend\u001b[0m\u001b[1;33m(\u001b[0m\u001b[1;33m[\u001b[0m\u001b[0mkwargs\u001b[0m\u001b[1;33m[\u001b[0m\u001b[0m_n\u001b[0m\u001b[1;33m]\u001b[0m \u001b[1;32mfor\u001b[0m \u001b[0m_n\u001b[0m \u001b[1;32min\u001b[0m \u001b[0mnames\u001b[0m\u001b[1;33m]\u001b[0m\u001b[1;33m)\u001b[0m\u001b[1;33m\u001b[0m\u001b[0m\n\u001b[1;32m   2217\u001b[0m \u001b[1;33m\u001b[0m\u001b[0m\n\u001b[0;32m-> 2218\u001b[0;31m         \u001b[1;32mreturn\u001b[0m \u001b[0mself\u001b[0m\u001b[1;33m.\u001b[0m\u001b[0m_vectorize_call\u001b[0m\u001b[1;33m(\u001b[0m\u001b[0mfunc\u001b[0m\u001b[1;33m=\u001b[0m\u001b[0mfunc\u001b[0m\u001b[1;33m,\u001b[0m \u001b[0margs\u001b[0m\u001b[1;33m=\u001b[0m\u001b[0mvargs\u001b[0m\u001b[1;33m)\u001b[0m\u001b[1;33m\u001b[0m\u001b[0m\n\u001b[0m\u001b[1;32m   2219\u001b[0m \u001b[1;33m\u001b[0m\u001b[0m\n\u001b[1;32m   2220\u001b[0m     \u001b[1;32mdef\u001b[0m \u001b[0m_get_ufunc_and_otypes\u001b[0m\u001b[1;33m(\u001b[0m\u001b[0mself\u001b[0m\u001b[1;33m,\u001b[0m \u001b[0mfunc\u001b[0m\u001b[1;33m,\u001b[0m \u001b[0margs\u001b[0m\u001b[1;33m)\u001b[0m\u001b[1;33m:\u001b[0m\u001b[1;33m\u001b[0m\u001b[0m\n",
      "\u001b[0;32mC:\\Users\\JH218595\\Documents\\Anaconda3\\lib\\site-packages\\numpy\\lib\\function_base.py\u001b[0m in \u001b[0;36m_vectorize_call\u001b[0;34m(self, func, args)\u001b[0m\n\u001b[1;32m   2285\u001b[0m                       for _a in args]\n\u001b[1;32m   2286\u001b[0m \u001b[1;33m\u001b[0m\u001b[0m\n\u001b[0;32m-> 2287\u001b[0;31m             \u001b[0moutputs\u001b[0m \u001b[1;33m=\u001b[0m \u001b[0mufunc\u001b[0m\u001b[1;33m(\u001b[0m\u001b[1;33m*\u001b[0m\u001b[0minputs\u001b[0m\u001b[1;33m)\u001b[0m\u001b[1;33m\u001b[0m\u001b[0m\n\u001b[0m\u001b[1;32m   2288\u001b[0m \u001b[1;33m\u001b[0m\u001b[0m\n\u001b[1;32m   2289\u001b[0m             \u001b[1;32mif\u001b[0m \u001b[0mufunc\u001b[0m\u001b[1;33m.\u001b[0m\u001b[0mnout\u001b[0m \u001b[1;33m==\u001b[0m \u001b[1;36m1\u001b[0m\u001b[1;33m:\u001b[0m\u001b[1;33m\u001b[0m\u001b[0m\n",
      "\u001b[0;32m<ipython-input-19-91e4ec7ca94b>\u001b[0m in \u001b[0;36mS11_f_match\u001b[0;34m(d_DUT, d_CEA)\u001b[0m\n\u001b[1;32m      2\u001b[0m     res = resonator_network(d_sc_DUT=d_DUT, d_sc_CEA=d_CEA, \n\u001b[1;32m      3\u001b[0m                                   \u001b[0mZ_sc_CEA\u001b[0m\u001b[1;33m=\u001b[0m\u001b[0mZ_CEA_opt\u001b[0m\u001b[1;33m,\u001b[0m \u001b[0mZ_sc_DUT\u001b[0m\u001b[1;33m=\u001b[0m\u001b[0mZ_DUT_opt\u001b[0m\u001b[1;33m,\u001b[0m\u001b[1;33m\u001b[0m\u001b[0m\n\u001b[0;32m----> 4\u001b[0;31m                                   d_sstub=d_sstub_opt)    \n\u001b[0m\u001b[1;32m      5\u001b[0m     \u001b[1;32mreturn\u001b[0m \u001b[0mnp\u001b[0m\u001b[1;33m.\u001b[0m\u001b[0msqueeze\u001b[0m\u001b[1;33m(\u001b[0m\u001b[0mres\u001b[0m\u001b[1;33m.\u001b[0m\u001b[0ms_db\u001b[0m\u001b[1;33m[\u001b[0m\u001b[0midx_f_match\u001b[0m\u001b[1;33m]\u001b[0m\u001b[1;33m)\u001b[0m\u001b[1;33m\u001b[0m\u001b[0m\n\u001b[1;32m      6\u001b[0m \u001b[1;33m\u001b[0m\u001b[0m\n",
      "\u001b[0;32m<ipython-input-10-a549327cdb64>\u001b[0m in \u001b[0;36mresonator_network\u001b[0;34m(d_sc_CEA, Z_sc_CEA, d_sc_DUT, Z_sc_DUT, d_sstub)\u001b[0m\n\u001b[1;32m      9\u001b[0m     \u001b[0mservice_stub\u001b[0m \u001b[1;33m=\u001b[0m \u001b[0mservice_stub_media\u001b[0m\u001b[1;33m.\u001b[0m\u001b[0mline\u001b[0m\u001b[1;33m(\u001b[0m\u001b[0md_sstub\u001b[0m\u001b[1;33m,\u001b[0m \u001b[0munit\u001b[0m\u001b[1;33m=\u001b[0m\u001b[1;34m'm'\u001b[0m\u001b[1;33m)\u001b[0m \u001b[1;33m**\u001b[0m \u001b[0mservice_stub_media\u001b[0m\u001b[1;33m.\u001b[0m\u001b[0mshort\u001b[0m\u001b[1;33m(\u001b[0m\u001b[1;33m)\u001b[0m\u001b[1;33m\u001b[0m\u001b[0m\n\u001b[1;32m     10\u001b[0m     \u001b[0msc_CEA\u001b[0m \u001b[1;33m=\u001b[0m \u001b[0msc_CEA_media\u001b[0m\u001b[1;33m.\u001b[0m\u001b[0mline\u001b[0m\u001b[1;33m(\u001b[0m\u001b[0md_sc_CEA\u001b[0m\u001b[1;33m,\u001b[0m \u001b[0munit\u001b[0m\u001b[1;33m=\u001b[0m\u001b[1;34m'm'\u001b[0m\u001b[1;33m)\u001b[0m\u001b[1;33m**\u001b[0m\u001b[0msc_CEA_media\u001b[0m\u001b[1;33m.\u001b[0m\u001b[0mresistor\u001b[0m\u001b[1;33m(\u001b[0m\u001b[0mZ_sc_CEA\u001b[0m\u001b[1;33m)\u001b[0m\u001b[1;33m**\u001b[0m\u001b[0msc_CEA_media\u001b[0m\u001b[1;33m.\u001b[0m\u001b[0mshort\u001b[0m\u001b[1;33m(\u001b[0m\u001b[1;33m)\u001b[0m\u001b[1;33m\u001b[0m\u001b[0m\n\u001b[0;32m---> 11\u001b[0;31m     \u001b[0msc_DUT\u001b[0m \u001b[1;33m=\u001b[0m \u001b[0msc_DUT_media\u001b[0m\u001b[1;33m.\u001b[0m\u001b[0mline\u001b[0m\u001b[1;33m(\u001b[0m\u001b[0md_sc_DUT\u001b[0m\u001b[1;33m,\u001b[0m \u001b[0munit\u001b[0m\u001b[1;33m=\u001b[0m\u001b[1;34m'm'\u001b[0m\u001b[1;33m)\u001b[0m\u001b[1;33m**\u001b[0m\u001b[0msc_DUT_media\u001b[0m\u001b[1;33m.\u001b[0m\u001b[0mresistor\u001b[0m\u001b[1;33m(\u001b[0m\u001b[0mZ_sc_DUT\u001b[0m\u001b[1;33m)\u001b[0m\u001b[1;33m**\u001b[0m\u001b[0msc_DUT_media\u001b[0m\u001b[1;33m.\u001b[0m\u001b[0mshort\u001b[0m\u001b[1;33m(\u001b[0m\u001b[1;33m)\u001b[0m\u001b[1;33m\u001b[0m\u001b[0m\n\u001b[0m\u001b[1;32m     12\u001b[0m     \u001b[1;31m# Connecting the resonator with its ports.\u001b[0m\u001b[1;33m\u001b[0m\u001b[1;33m\u001b[0m\u001b[0m\n\u001b[1;32m     13\u001b[0m     \u001b[1;31m# Port 1 : resonator input\u001b[0m\u001b[1;33m\u001b[0m\u001b[1;33m\u001b[0m\u001b[0m\n",
      "\u001b[0;32mC:\\Users\\JH218595\\Documents\\scikit-rf\\skrf\\media\\media.py\u001b[0m in \u001b[0;36mresistor\u001b[0;34m(self, R, *args, **kwargs)\u001b[0m\n\u001b[1;32m    464\u001b[0m         \u001b[0my\u001b[0m\u001b[1;33m[\u001b[0m\u001b[1;33m:\u001b[0m\u001b[1;33m,\u001b[0m\u001b[1;36m0\u001b[0m\u001b[1;33m,\u001b[0m\u001b[1;36m1\u001b[0m\u001b[1;33m]\u001b[0m \u001b[1;33m=\u001b[0m \u001b[1;33m-\u001b[0m\u001b[1;36m1.\u001b[0m\u001b[1;33m/\u001b[0m\u001b[0mR\u001b[0m\u001b[1;33m\u001b[0m\u001b[0m\n\u001b[1;32m    465\u001b[0m         \u001b[0my\u001b[0m\u001b[1;33m[\u001b[0m\u001b[1;33m:\u001b[0m\u001b[1;33m,\u001b[0m\u001b[1;36m1\u001b[0m\u001b[1;33m,\u001b[0m\u001b[1;36m0\u001b[0m\u001b[1;33m]\u001b[0m \u001b[1;33m=\u001b[0m \u001b[1;33m-\u001b[0m\u001b[1;36m1.\u001b[0m\u001b[1;33m/\u001b[0m\u001b[0mR\u001b[0m\u001b[1;33m\u001b[0m\u001b[0m\n\u001b[0;32m--> 466\u001b[0;31m         \u001b[0mresult\u001b[0m\u001b[1;33m.\u001b[0m\u001b[0my\u001b[0m \u001b[1;33m=\u001b[0m \u001b[0my\u001b[0m\u001b[1;33m\u001b[0m\u001b[0m\n\u001b[0m\u001b[1;32m    467\u001b[0m         \u001b[1;32mreturn\u001b[0m \u001b[0mresult\u001b[0m\u001b[1;33m\u001b[0m\u001b[0m\n\u001b[1;32m    468\u001b[0m \u001b[1;33m\u001b[0m\u001b[0m\n",
      "\u001b[0;32mC:\\Users\\JH218595\\Documents\\scikit-rf\\skrf\\network.py\u001b[0m in \u001b[0;36my\u001b[0;34m(self, value)\u001b[0m\n\u001b[1;32m    830\u001b[0m     \u001b[1;33m@\u001b[0m\u001b[0my\u001b[0m\u001b[1;33m.\u001b[0m\u001b[0msetter\u001b[0m\u001b[1;33m\u001b[0m\u001b[0m\n\u001b[1;32m    831\u001b[0m     \u001b[1;32mdef\u001b[0m \u001b[0my\u001b[0m\u001b[1;33m(\u001b[0m\u001b[0mself\u001b[0m\u001b[1;33m,\u001b[0m \u001b[0mvalue\u001b[0m\u001b[1;33m)\u001b[0m\u001b[1;33m:\u001b[0m\u001b[1;33m\u001b[0m\u001b[0m\n\u001b[0;32m--> 832\u001b[0;31m         \u001b[0mself\u001b[0m\u001b[1;33m.\u001b[0m\u001b[0m_s\u001b[0m \u001b[1;33m=\u001b[0m \u001b[0my2s\u001b[0m\u001b[1;33m(\u001b[0m\u001b[0mvalue\u001b[0m\u001b[1;33m,\u001b[0m \u001b[0mself\u001b[0m\u001b[1;33m.\u001b[0m\u001b[0mz0\u001b[0m\u001b[1;33m)\u001b[0m\u001b[1;33m\u001b[0m\u001b[0m\n\u001b[0m\u001b[1;32m    833\u001b[0m \u001b[1;33m\u001b[0m\u001b[0m\n\u001b[1;32m    834\u001b[0m     \u001b[1;33m@\u001b[0m\u001b[0mproperty\u001b[0m\u001b[1;33m\u001b[0m\u001b[0m\n",
      "\u001b[0;32mC:\\Users\\JH218595\\Documents\\scikit-rf\\skrf\\network.py\u001b[0m in \u001b[0;36my2s\u001b[0;34m(y, z0)\u001b[0m\n\u001b[1;32m   3904\u001b[0m     \u001b[0mI\u001b[0m \u001b[1;33m=\u001b[0m \u001b[0mnpy\u001b[0m\u001b[1;33m.\u001b[0m\u001b[0mmat\u001b[0m\u001b[1;33m(\u001b[0m\u001b[0mnpy\u001b[0m\u001b[1;33m.\u001b[0m\u001b[0midentity\u001b[0m\u001b[1;33m(\u001b[0m\u001b[0ms\u001b[0m\u001b[1;33m.\u001b[0m\u001b[0mshape\u001b[0m\u001b[1;33m[\u001b[0m\u001b[1;36m1\u001b[0m\u001b[1;33m]\u001b[0m\u001b[1;33m)\u001b[0m\u001b[1;33m)\u001b[0m\u001b[1;33m\u001b[0m\u001b[0m\n\u001b[1;32m   3905\u001b[0m     \u001b[1;32mfor\u001b[0m \u001b[0mfidx\u001b[0m \u001b[1;32min\u001b[0m \u001b[0mxrange\u001b[0m\u001b[1;33m(\u001b[0m\u001b[0ms\u001b[0m\u001b[1;33m.\u001b[0m\u001b[0mshape\u001b[0m\u001b[1;33m[\u001b[0m\u001b[1;36m0\u001b[0m\u001b[1;33m]\u001b[0m\u001b[1;33m)\u001b[0m\u001b[1;33m:\u001b[0m\u001b[1;33m\u001b[0m\u001b[0m\n\u001b[0;32m-> 3906\u001b[0;31m         \u001b[0msqrtz0\u001b[0m \u001b[1;33m=\u001b[0m \u001b[0mnpy\u001b[0m\u001b[1;33m.\u001b[0m\u001b[0mmat\u001b[0m\u001b[1;33m(\u001b[0m\u001b[0mnpy\u001b[0m\u001b[1;33m.\u001b[0m\u001b[0msqrt\u001b[0m\u001b[1;33m(\u001b[0m\u001b[0mnpy\u001b[0m\u001b[1;33m.\u001b[0m\u001b[0mdiagflat\u001b[0m\u001b[1;33m(\u001b[0m\u001b[0mz0\u001b[0m\u001b[1;33m[\u001b[0m\u001b[0mfidx\u001b[0m\u001b[1;33m]\u001b[0m\u001b[1;33m)\u001b[0m\u001b[1;33m)\u001b[0m\u001b[1;33m)\u001b[0m\u001b[1;33m\u001b[0m\u001b[0m\n\u001b[0m\u001b[1;32m   3907\u001b[0m         \u001b[0ms\u001b[0m\u001b[1;33m[\u001b[0m\u001b[0mfidx\u001b[0m\u001b[1;33m]\u001b[0m \u001b[1;33m=\u001b[0m \u001b[1;33m(\u001b[0m\u001b[0mI\u001b[0m \u001b[1;33m-\u001b[0m \u001b[0msqrtz0\u001b[0m\u001b[1;33m*\u001b[0m\u001b[0my\u001b[0m\u001b[1;33m[\u001b[0m\u001b[0mfidx\u001b[0m\u001b[1;33m]\u001b[0m\u001b[1;33m*\u001b[0m\u001b[0msqrtz0\u001b[0m\u001b[1;33m)\u001b[0m \u001b[1;33m*\u001b[0m \u001b[1;33m(\u001b[0m\u001b[0mI\u001b[0m \u001b[1;33m+\u001b[0m \u001b[0msqrtz0\u001b[0m\u001b[1;33m*\u001b[0m\u001b[0my\u001b[0m\u001b[1;33m[\u001b[0m\u001b[0mfidx\u001b[0m\u001b[1;33m]\u001b[0m\u001b[1;33m*\u001b[0m\u001b[0msqrtz0\u001b[0m\u001b[1;33m)\u001b[0m\u001b[1;33m**\u001b[0m\u001b[1;33m-\u001b[0m\u001b[1;36m1\u001b[0m\u001b[1;33m\u001b[0m\u001b[0m\n\u001b[1;32m   3908\u001b[0m     \u001b[1;32mreturn\u001b[0m \u001b[0ms\u001b[0m\u001b[1;33m\u001b[0m\u001b[0m\n",
      "\u001b[0;32mC:\\Users\\JH218595\\Documents\\Anaconda3\\lib\\site-packages\\numpy\\lib\\twodim_base.py\u001b[0m in \u001b[0;36mdiagflat\u001b[0;34m(v, k)\u001b[0m\n\u001b[1;32m    366\u001b[0m         \u001b[0mi\u001b[0m \u001b[1;33m=\u001b[0m \u001b[0marange\u001b[0m\u001b[1;33m(\u001b[0m\u001b[1;36m0\u001b[0m\u001b[1;33m,\u001b[0m \u001b[0mn\u001b[0m\u001b[1;33m+\u001b[0m\u001b[0mk\u001b[0m\u001b[1;33m)\u001b[0m\u001b[1;33m\u001b[0m\u001b[0m\n\u001b[1;32m    367\u001b[0m         \u001b[0mfi\u001b[0m \u001b[1;33m=\u001b[0m \u001b[0mi\u001b[0m\u001b[1;33m+\u001b[0m\u001b[1;33m(\u001b[0m\u001b[0mi\u001b[0m\u001b[1;33m-\u001b[0m\u001b[0mk\u001b[0m\u001b[1;33m)\u001b[0m\u001b[1;33m*\u001b[0m\u001b[0mn\u001b[0m\u001b[1;33m\u001b[0m\u001b[0m\n\u001b[0;32m--> 368\u001b[0;31m     \u001b[0mres\u001b[0m\u001b[1;33m.\u001b[0m\u001b[0mflat\u001b[0m\u001b[1;33m[\u001b[0m\u001b[0mfi\u001b[0m\u001b[1;33m]\u001b[0m \u001b[1;33m=\u001b[0m \u001b[0mv\u001b[0m\u001b[1;33m\u001b[0m\u001b[0m\n\u001b[0m\u001b[1;32m    369\u001b[0m     \u001b[1;32mif\u001b[0m \u001b[1;32mnot\u001b[0m \u001b[0mwrap\u001b[0m\u001b[1;33m:\u001b[0m\u001b[1;33m\u001b[0m\u001b[0m\n\u001b[1;32m    370\u001b[0m         \u001b[1;32mreturn\u001b[0m \u001b[0mres\u001b[0m\u001b[1;33m\u001b[0m\u001b[0m\n",
      "\u001b[0;31mKeyboardInterrupt\u001b[0m: "
     ]
    }
   ],
   "source": [
    "S11 = vfunc(dd_DUT, dd_CEA)"
   ]
  },
  {
   "cell_type": "code",
   "execution_count": null,
   "metadata": {
    "collapsed": false
   },
   "outputs": [],
   "source": [
    "S11.shape"
   ]
  },
  {
   "cell_type": "code",
   "execution_count": null,
   "metadata": {
    "collapsed": false
   },
   "outputs": [],
   "source": [
    "fig,ax=plt.subplots()\n",
    "c=ax.contourf(dd_DUT, dd_CEA, S11)\n",
    "fig.colorbar(c)\n",
    "ax.axvline(d_DUT_opt)\n",
    "ax.axhline(d_CEA_opt)\n",
    "ax.set_xlim(0.02, 0.03)\n",
    "ax.set_ylim(0.075, 0.1)"
   ]
  },
  {
   "cell_type": "code",
   "execution_count": null,
   "metadata": {
    "collapsed": true
   },
   "outputs": [],
   "source": []
  }
 ],
 "metadata": {
  "kernelspec": {
   "display_name": "Python [conda root]",
   "language": "python",
   "name": "conda-root-py"
  },
  "language_info": {
   "codemirror_mode": {
    "name": "ipython",
    "version": 3
   },
   "file_extension": ".py",
   "mimetype": "text/x-python",
   "name": "python",
   "nbconvert_exporter": "python",
   "pygments_lexer": "ipython3",
   "version": "3.5.2"
  }
 },
 "nbformat": 4,
 "nbformat_minor": 2
}
