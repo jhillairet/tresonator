{
 "cells": [
  {
   "cell_type": "code",
   "execution_count": 1,
   "metadata": {
    "collapsed": true
   },
   "outputs": [],
   "source": [
    "import numpy as np\n",
    "import matplotlib.pyplot as plt\n",
    "%matplotlib inline\n",
    "\n",
    "import skrf as rf\n",
    "rf.stylely()"
   ]
  },
  {
   "cell_type": "code",
   "execution_count": 2,
   "metadata": {
    "collapsed": true
   },
   "outputs": [],
   "source": [
    "from scipy.optimize import minimize"
   ]
  },
  {
   "cell_type": "markdown",
   "metadata": {},
   "source": [
    "In this notebook, we determine the short-circuit lengths and impedances in order to match low-power measurements. "
   ]
  },
  {
   "cell_type": "markdown",
   "metadata": {},
   "source": [
    "# Low power measurements"
   ]
  },
  {
   "cell_type": "code",
   "execution_count": 3,
   "metadata": {
    "collapsed": true
   },
   "outputs": [],
   "source": [
    "filename = 'data/RES2.ASC'"
   ]
  },
  {
   "cell_type": "code",
   "execution_count": 4,
   "metadata": {
    "collapsed": false
   },
   "outputs": [],
   "source": [
    "exp_freq,reS11,imS11 = np.loadtxt(filename, skiprows=14, delimiter=';', unpack=True)"
   ]
  },
  {
   "cell_type": "code",
   "execution_count": 5,
   "metadata": {
    "collapsed": false
   },
   "outputs": [
    {
     "name": "stdout",
     "output_type": "stream",
     "text": [
      "Match frequency : 62.640625 MHz\n"
     ]
    }
   ],
   "source": [
    "exp_mag = np.sqrt(reS11**2 + imS11**2)\n",
    "exp_mag_dB = 20*np.log10(exp_mag)\n",
    "# find the match frequency \n",
    "exp_frequency = rf.frequency.f_2_frequency(exp_freq) # -> into a skrf Frequency \n",
    "exp_freq_match = exp_freq[np.argmin(exp_mag)]\n",
    "print('Match frequency : {} MHz'.format(exp_freq_match/1e6))"
   ]
  },
  {
   "cell_type": "code",
   "execution_count": 6,
   "metadata": {
    "collapsed": false,
    "scrolled": true
   },
   "outputs": [
    {
     "data": {
      "text/plain": [
       "<matplotlib.text.Text at 0x9fff7f0>"
      ]
     },
     "execution_count": 6,
     "metadata": {},
     "output_type": "execute_result"
    },
    {
     "data": {
      "image/png": "[encoded data removed]",
      "text/plain": [
       "<matplotlib.figure.Figure at 0x9ff1208>"
      ]
     },
     "metadata": {},
     "output_type": "display_data"
    }
   ],
   "source": [
    "fig,ax = plt.subplots()\n",
    "ax.plot(exp_freq/1e6, exp_mag_dB, lw=2)\n",
    "ax.grid(True)\n",
    "ax.set_ylabel('S11 [dB]')\n",
    "ax.set_xlabel('f [MHz]')"
   ]
  },
  {
   "cell_type": "markdown",
   "metadata": {},
   "source": [
    "# Electromagnetic Model"
   ]
  },
  {
   "cell_type": "code",
   "execution_count": 7,
   "metadata": {
    "collapsed": false
   },
   "outputs": [],
   "source": [
    "# Importing T-resonator S-parameters from HFSS \n",
    "resonator_base = rf.Network('data/SSA50_resonator_RFModels_Resonator_Base_alpha1.0_50Ohm.s4p', f_unit='MHz')\n",
    "# The experimental frequency band does not match the HFSS simulated one.  \n",
    "# So before making any operations between Networks, need to interpolate them. \n",
    "# It also speedup very much the Network connecting calculations.\n",
    "resonator_base = resonator_base.interpolate_from_f(exp_frequency)"
   ]
  },
  {
   "cell_type": "code",
   "execution_count": 8,
   "metadata": {
    "collapsed": false
   },
   "outputs": [
    {
     "data": {
      "text/plain": [
       "4-Port Network: 'SSA50_resonator_RFModels_Resonator_Base_alpha1.0_50Ohm',  61000000-64000000 Hz, 1601 pts, z0=[ 50.+0.j  50.+0.j  50.+0.j  50.+0.j]"
      ]
     },
     "execution_count": 8,
     "metadata": {},
     "output_type": "execute_result"
    }
   ],
   "source": [
    "resonator_base"
   ]
  },
  {
   "cell_type": "code",
   "execution_count": 9,
   "metadata": {
    "collapsed": false
   },
   "outputs": [],
   "source": [
    "# Coaxial media associated to transmission line for service stub and short circuits\n",
    "sc_DUT_media = rf.media.Coaxial(frequency=resonator_base.frequency, Dint=127.92e-3, Dout=216e-3, epsilon_r=1)\n",
    "sc_CEA_media = rf.media.Coaxial(frequency=resonator_base.frequency, Dint=140e-3, Dout=219e-3, epsilon_r=1)\n",
    "service_stub_media = rf.media.Coaxial(frequency=resonator_base.frequency, Dint=55.5e-3, Dout=152e-3, epsilon_r=1)"
   ]
  },
  {
   "cell_type": "code",
   "execution_count": 10,
   "metadata": {
    "collapsed": false
   },
   "outputs": [],
   "source": [
    "# Creating networks for service stubs and shorts\n",
    "def resonator_network(d_sc_CEA = 161e-3, Z_sc_CEA = 10e-3, \n",
    "                      d_sc_DUT = 38e-3, Z_sc_DUT = 10e-3, \n",
    "                      d_sstub = 50e-3):\n",
    "    '''\n",
    "    Create and return the resonator Network from specified short-circuit lengths and resistances\n",
    "    '''\n",
    "    # Creating transmission line medias \n",
    "    service_stub = service_stub_media.line(d_sstub, unit='m') ** service_stub_media.short()\n",
    "    sc_CEA = sc_CEA_media.line(d_sc_CEA, unit='m')**sc_CEA_media.resistor(Z_sc_CEA)**sc_CEA_media.short()\n",
    "    sc_DUT = sc_DUT_media.line(d_sc_DUT, unit='m')**sc_DUT_media.resistor(Z_sc_DUT)**sc_DUT_media.short()\n",
    "    # Connecting the resonator with its ports. \n",
    "    # Port 1 : resonator input\n",
    "    # Port 2 : DUT\n",
    "    # Port 3 : CEA\n",
    "    # Port 4: service stub\n",
    "    _res = rf.connect(resonator_base, 3, service_stub, 0) # resonator to service stub \n",
    "    _res = rf.connect(_res, 2, sc_CEA, 0) # resonator to CEA\n",
    "    res = rf.connect(_res, 1, sc_DUT, 0) # resonator to DUT \n",
    "\n",
    "    return res"
   ]
  },
  {
   "cell_type": "code",
   "execution_count": 11,
   "metadata": {
    "collapsed": false
   },
   "outputs": [],
   "source": [
    "def f_match(resonator_network):\n",
    "    'Return the resonator match frequency'\n",
    "    return resonator_network.frequency[resonator_network.s_mag.argmin()].f[0]"
   ]
  },
  {
   "cell_type": "code",
   "execution_count": 12,
   "metadata": {
    "collapsed": false
   },
   "outputs": [
    {
     "data": {
      "text/plain": [
       "<matplotlib.lines.Line2D at 0x7cede80>"
      ]
     },
     "execution_count": 12,
     "metadata": {},
     "output_type": "execute_result"
    },
    {
     "data": {
      "image/png": "[encoded data removed]",
      "text/plain": [
       "<matplotlib.figure.Figure at 0x7cede10>"
      ]
     },
     "metadata": {},
     "output_type": "display_data"
    }
   ],
   "source": [
    "# Plot the default values resonator Network\n",
    "res=resonator_network()\n",
    "res.plot_s_db()\n",
    "plt.axvline(f_match(res), ls='--', color='k' )"
   ]
  },
  {
   "cell_type": "markdown",
   "metadata": {},
   "source": [
    "# Optimized Parameters (length and impedance)"
   ]
  },
  {
   "cell_type": "markdown",
   "metadata": {},
   "source": [
    "Now that we now the optimized short lengths in order to get the match frequency, let's optimize the short impedance in order to fit the resonator experimental Q quality factor.   "
   ]
  },
  {
   "cell_type": "code",
   "execution_count": 13,
   "metadata": {
    "collapsed": false
   },
   "outputs": [],
   "source": [
    "def optim_fun_impedance(short_properties):\n",
    "    'Generates a resonator network from short impedance (Z_DUT,Z_CEA) and returns t'\n",
    "    \n",
    "    d_DUT, Z_DUT, d_CEA, Z_CEA, d_sstub = short_properties\n",
    "    # calculates the resonator Network\n",
    "    res = resonator_network(d_sc_CEA=d_CEA, d_sc_DUT=d_DUT, \n",
    "                            Z_sc_CEA=Z_CEA, Z_sc_DUT=Z_DUT,\n",
    "                           d_sstub=d_sstub)\n",
    "\n",
    "    crit = np.sum( (res.s_db.squeeze() - exp_mag_dB)**2) #least square \n",
    "    print(short_properties, crit)\n",
    "    return crit    "
   ]
  },
  {
   "cell_type": "code",
   "execution_count": 14,
   "metadata": {
    "collapsed": false
   },
   "outputs": [],
   "source": [
    "d_DUT_0 = 0.035 # m  \n",
    "d_CEA_0 = 0.035 # m\n",
    "Z_DUT_0 = 0.003 # Ohm\n",
    "Z_CEA_0 = 0.006 # Ohm\n",
    "d_sstub_0 = 0\n",
    "\n",
    "bounds_pties = ((10e-3, 70-3), (1e-4, 1), # d,Z DUT\n",
    "                (5e-3, 200e-3), (1e-4, 1), # d,Z CEA\n",
    "                (0, 700e-3)) # service stub"
   ]
  },
  {
   "cell_type": "code",
   "execution_count": 15,
   "metadata": {
    "collapsed": false
   },
   "outputs": [
    {
     "name": "stdout",
     "output_type": "stream",
     "text": [
      "[ 0.035  0.003  0.035  0.006  0.   ] 6864.24030051\n",
      "[ 0.03500001  0.003       0.035       0.006       0.        ] 6864.23905845\n",
      "[ 0.035       0.00300001  0.035       0.006       0.        ] 6864.24031251\n",
      "[ 0.035       0.003       0.03500001  0.006       0.        ] 6864.24004372\n",
      "[ 0.035       0.003       0.035       0.00600001  0.        ] 6864.24036366\n",
      "[  3.50000000e-02   3.00000000e-03   3.50000000e-02   6.00000000e-03\n",
      "   1.00000000e-08] 6864.24030612\n",
      "[  6.70000000e+01   1.00000000e-04   2.00000000e-01   1.00000000e-04\n",
      "   0.00000000e+00] 6948.85386797\n",
      "[  6.70000000e+01   1.00000000e-04   2.00000000e-01   1.00000000e-04\n",
      "   0.00000000e+00] 6948.85401324\n",
      "[  6.70000000e+01   1.00010000e-04   2.00000000e-01   1.00000000e-04\n",
      "   0.00000000e+00] 6948.85373475\n",
      "[  6.70000000e+01   1.00000000e-04   2.00000010e-01   1.00000000e-04\n",
      "   0.00000000e+00] 6948.85392051\n",
      "[  6.70000000e+01   1.00000000e-04   2.00000000e-01   1.00010000e-04\n",
      "   0.00000000e+00] 6948.85380895\n",
      "[  6.70000000e+01   1.00000000e-04   2.00000000e-01   1.00000000e-04\n",
      "   1.00000000e-08] 6948.85386798\n",
      "[  2.36977056e+01   1.97525803e-03   9.33042846e-02   3.91518013e-03\n",
      "   0.00000000e+00] 7185.87669507\n",
      "[  2.36977056e+01   1.97525803e-03   9.33042846e-02   3.91518013e-03\n",
      "   0.00000000e+00] 7185.87688204\n",
      "[  2.36977056e+01   1.97526803e-03   9.33042846e-02   3.91518013e-03\n",
      "   0.00000000e+00] 7185.87667764\n",
      "[  2.36977056e+01   1.97525803e-03   9.33042946e-02   3.91518013e-03\n",
      "   0.00000000e+00] 7185.87668615\n",
      "[  2.36977056e+01   1.97525803e-03   9.33042846e-02   3.91519013e-03\n",
      "   0.00000000e+00] 7185.8766697\n",
      "[  2.36977056e+01   1.97525803e-03   9.33042846e-02   3.91518013e-03\n",
      "   1.00000000e-08] 7185.87669485\n",
      "[  8.53420849e+00   2.63193154e-03   5.59418263e-02   5.25117106e-03\n",
      "   0.00000000e+00] 7151.81218864\n",
      "[  8.53420850e+00   2.63193154e-03   5.59418263e-02   5.25117106e-03\n",
      "   0.00000000e+00] 7151.81218872\n",
      "[  8.53420849e+00   2.63194154e-03   5.59418263e-02   5.25117106e-03\n",
      "   0.00000000e+00] 7151.81218857\n",
      "[  8.53420849e+00   2.63193154e-03   5.59418363e-02   5.25117106e-03\n",
      "   0.00000000e+00] 7151.81218894\n",
      "[  8.53420849e+00   2.63193154e-03   5.59418263e-02   5.25118106e-03\n",
      "   0.00000000e+00] 7151.81216914\n",
      "[  8.53420849e+00   2.63193154e-03   5.59418263e-02   5.25117106e-03\n",
      "   1.00000000e-08] 7151.81218825\n",
      "[ 2.86662024  0.00287737  0.04197704  0.00575052  0.        ] 7137.60310671\n",
      "[ 2.86662025  0.00287737  0.04197704  0.00575052  0.        ] 7137.60310708\n",
      "[ 2.86662024  0.00287738  0.04197704  0.00575052  0.        ] 7137.60310636\n",
      "[ 2.86662024  0.00287737  0.04197705  0.00575052  0.        ] 7137.60310844\n",
      "[ 2.86662024  0.00287737  0.04197704  0.00575053  0.        ] 7137.60308468\n",
      "[  2.86662024e+00   2.87737327e-03   4.19770378e-02   5.75051804e-03\n",
      "   1.00000000e-08] 7137.60310618\n",
      "[ 0.97755314  0.00295918  0.03732243  0.00591696  0.        ] 7146.3760354\n",
      "[ 0.97755315  0.00295918  0.03732243  0.00591696  0.        ] 7146.37603551\n",
      "[ 0.97755314  0.00295919  0.03732243  0.00591696  0.        ] 7146.37603529\n",
      "[ 0.97755314  0.00295918  0.03732244  0.00591696  0.        ] 7146.37603603\n",
      "[ 0.97755314  0.00295918  0.03732243  0.00591697  0.        ] 7146.37601538\n",
      "[  9.77553136e-01   2.95918160e-03   3.73224262e-02   5.91695567e-03\n",
      "   1.00000000e-08] 7146.37603491\n",
      "[ 0.34769251  0.00298646  0.03577047  0.00597245  0.        ] 7129.57883376\n",
      "[ 0.34769252  0.00298646  0.03577047  0.00597245  0.        ] 7129.57883453\n",
      "[ 0.34769251  0.00298647  0.03577047  0.00597245  0.        ] 7129.57883306\n",
      "[ 0.34769251  0.00298646  0.03577048  0.00597245  0.        ] 7129.57883629\n",
      "[ 0.34769251  0.00298646  0.03577047  0.00597246  0.        ] 7129.57881038\n",
      "[  3.47692513e-01   2.98645847e-03   3.57704661e-02   5.97245000e-03\n",
      "   1.00000000e-08] 7129.57883314\n",
      "[ 0.1378585   0.00299555  0.03525344  0.00599094  0.        ] 7068.16824024\n",
      "[ 0.13785851  0.00299555  0.03525344  0.00599094  0.        ] 7068.16825098\n",
      "[ 0.1378585   0.00299556  0.03525344  0.00599094  0.        ] 7068.16823298\n",
      "[ 0.1378585   0.00299555  0.03525345  0.00599094  0.        ] 7068.16825197\n",
      "[ 0.1378585   0.00299555  0.03525344  0.00599095  0.        ] 7068.16820695\n",
      "[  1.37858498e-01   2.99554559e-03   3.52534406e-02   5.99093758e-03\n",
      "   1.00000000e-08] 7068.16823919\n",
      "[ 0.06836797  0.00299855  0.03508222  0.00599706  0.        ] 6931.66869527\n",
      "[ 0.06836798  0.00299855  0.03508222  0.00599706  0.        ] 6931.66878489\n",
      "[ 0.06836797  0.00299856  0.03508222  0.00599706  0.        ] 6931.6687602\n",
      "[ 0.06836797  0.00299855  0.03508223  0.00599706  0.        ] 6931.66878741\n",
      "[ 0.06836797  0.00299855  0.03508222  0.00599707  0.        ] 6931.66868365\n",
      "[  6.83679681e-02   2.99855496e-03   3.50822178e-02   5.99706009e-03\n",
      "   1.00000000e-08] 6931.66869235\n",
      "[ 0.04616241  0.00299952  0.0350275   0.00599902  0.        ] 5780.49023149\n",
      "[ 0.04616242  0.00299952  0.0350275   0.00599902  0.        ] 5780.4913563\n",
      "[ 0.04616241  0.00299953  0.0350275   0.00599902  0.        ] 5780.48992243\n",
      "[ 0.04616241  0.00299952  0.03502751  0.00599902  0.        ] 5780.49048526\n",
      "[ 0.04616241  0.00299952  0.0350275   0.00599903  0.        ] 5780.49007348\n",
      "[  4.61624127e-02   2.99951660e-03   3.50275039e-02   5.99901653e-03\n",
      "   1.00000000e-08] 5780.49022387\n",
      "[ 0.04085754  0.00299975  0.03501443  0.00599948  0.        ] 5871.71476212\n",
      "[ 0.04085755  0.00299975  0.03501443  0.00599948  0.        ] 5871.71310581\n",
      "[ 0.04085754  0.00299976  0.03501443  0.00599948  0.        ] 5871.71440035\n",
      "[ 0.04085754  0.00299975  0.03501444  0.00599948  0.        ] 5871.71408189\n",
      "[ 0.04085754  0.00299975  0.03501443  0.00599949  0.        ] 5871.7146524\n",
      "[  4.08575357e-02   2.99974633e-03   3.50144328e-02   5.99948392e-03\n",
      "   1.00000000e-08] 5871.71477467\n",
      "[ 0.04380581  0.00299962  0.0350217   0.00599922  0.        ] 5616.84044548\n",
      "[ 0.04380582  0.00299962  0.0350217   0.00599922  0.        ] 5616.84053102\n",
      "[ 0.04380581  0.00299963  0.0350217   0.00599922  0.        ] 5616.84003698\n",
      "[ 0.04380581  0.00299962  0.03502171  0.00599922  0.        ] 5616.84024777\n",
      "[ 0.04380581  0.00299962  0.0350217   0.00599923  0.        ] 5616.84027605\n",
      "[  4.38058052e-02   2.99961865e-03   3.50216973e-02   5.99922416e-03\n",
      "   1.00000000e-08] 5616.84044751\n",
      "[ 0.04405494  0.00523361  0.03620207  0.00690392  0.        ] 5511.07829316\n",
      "[ 0.04405495  0.00523361  0.03620207  0.00690392  0.        ] 5511.07889409\n",
      "[ 0.04405494  0.00523362  0.03620207  0.00690392  0.        ] 5511.07793447\n",
      "[ 0.04405494  0.00523361  0.03620208  0.00690392  0.        ] 5511.07827122\n",
      "[ 0.04405494  0.00523361  0.03620207  0.00690393  0.        ] 5511.07813451\n",
      "[  4.40549430e-02   5.23361234e-03   3.62020675e-02   6.90391829e-03\n",
      "   1.00000000e-08] 5511.07829157\n",
      "[  3.71750483e-02   3.51729943e-02   5.18237249e-02   1.89658795e-02\n",
      "   6.11196918e-06] 4613.60046136\n",
      "[  3.71750583e-02   3.51729943e-02   5.18237249e-02   1.89658795e-02\n",
      "   6.11196918e-06] 4613.59803166\n",
      "[  3.71750483e-02   3.51730043e-02   5.18237249e-02   1.89658795e-02\n",
      "   6.11196918e-06] 4613.60068415\n",
      "[  3.71750483e-02   3.51729943e-02   5.18237349e-02   1.89658795e-02\n",
      "   6.11196918e-06] 4613.59930665\n",
      "[  3.71750483e-02   3.51729943e-02   5.18237249e-02   1.89658895e-02\n",
      "   6.11196918e-06] 4613.60056879\n",
      "[  3.71750483e-02   3.51729943e-02   5.18237249e-02   1.89658795e-02\n",
      "   6.12196918e-06] 4613.60047706\n",
      "[ 0.03902944  0.03553661  0.05296269  0.01917355  0.        ] 5246.98596284\n",
      "[ 0.03902945  0.03553661  0.05296269  0.01917355  0.        ] 5246.9924245\n",
      "[ 0.03902944  0.03553662  0.05296269  0.01917355  0.        ] 5246.98634762\n",
      "[ 0.03902944  0.03553661  0.0529627   0.01917355  0.        ] 5246.98836189\n",
      "[ 0.03902944  0.03553661  0.05296269  0.01917356  0.        ] 5246.98607744\n",
      "[  3.90294408e-02   3.55366114e-02   5.29626913e-02   1.91735503e-02\n",
      "   1.00000000e-08] 5246.98592655\n",
      "[  3.75400894e-02   3.52445731e-02   5.20479328e-02   1.90067599e-02\n",
      "   4.90881507e-06] 4553.25525167\n",
      "[  3.75400994e-02   3.52445731e-02   5.20479328e-02   1.90067599e-02\n",
      "   4.90881507e-06] 4553.25520994\n",
      "[  3.75400894e-02   3.52445831e-02   5.20479328e-02   1.90067599e-02\n",
      "   4.90881507e-06] 4553.25546927\n",
      "[  3.75400894e-02   3.52445731e-02   5.20479428e-02   1.90067599e-02\n",
      "   4.90881507e-06] 4553.25489332\n",
      "[  3.75400894e-02   3.52445731e-02   5.20479328e-02   1.90067699e-02\n",
      "   4.90881507e-06] 4553.25534313\n",
      "[  3.75400894e-02   3.52445731e-02   5.20479328e-02   1.90067599e-02\n",
      "   4.91881507e-06] 4553.25525574\n",
      "[  3.82715475e-02   3.07397760e-02   4.98846847e-02   1.71974874e-02\n",
      "   2.57748248e-06] 4547.17862242\n",
      "[  3.82715575e-02   3.07397760e-02   4.98846847e-02   1.71974874e-02\n",
      "   2.57748248e-06] 4547.17849143\n",
      "[  3.82715475e-02   3.07397860e-02   4.98846847e-02   1.71974874e-02\n",
      "   2.57748248e-06] 4547.17872221\n",
      "[  3.82715475e-02   3.07397760e-02   4.98846947e-02   1.71974874e-02\n",
      "   2.57748248e-06] 4547.17821221\n",
      "[  3.82715475e-02   3.07397760e-02   4.98846847e-02   1.71974974e-02\n",
      "   2.57748248e-06] 4547.17866617\n",
      "[  3.82715475e-02   3.07397760e-02   4.98846847e-02   1.71974874e-02\n",
      "   2.58748248e-06] 4547.17862762\n",
      "[ 0.03460692  0.03084801  0.06107566  0.01713071  0.        ] 4104.34060334\n",
      "[ 0.03460693  0.03084801  0.06107566  0.01713071  0.        ] 4104.34285458\n",
      "[ 0.03460692  0.03084802  0.06107566  0.01713071  0.        ] 4104.34080208\n",
      "[ 0.03460692  0.03084801  0.06107567  0.01713071  0.        ] 4104.34093669\n",
      "[ 0.03460692  0.03084801  0.06107566  0.01713072  0.        ] 4104.34067653\n",
      "[  3.46069207e-02   3.08480078e-02   6.10756617e-02   1.71307071e-02\n",
      "   1.00000000e-08] 4104.3405985\n",
      "[ 0.03036693  0.02853111  0.07271951  0.01598009  0.        ] 3353.69749298\n",
      "[ 0.03036694  0.02853111  0.07271951  0.01598009  0.        ] 3353.70078002\n",
      "[ 0.03036693  0.02853112  0.07271951  0.01598009  0.        ] 3353.69775112\n",
      "[ 0.03036693  0.02853111  0.07271952  0.01598009  0.        ] 3353.69797626\n",
      "[ 0.03036693  0.02853111  0.07271951  0.0159801   0.        ] 3353.69759118\n",
      "[  3.03669276e-02   2.85311066e-02   7.27195087e-02   1.59800917e-02\n",
      "   1.00000000e-08] 3353.69748837\n",
      "[ 0.01340696  0.0192635   0.1192949   0.01137763  0.        ] 5753.67053424\n",
      "[ 0.01340697  0.0192635   0.1192949   0.01137763  0.        ] 5753.66586837\n",
      "[ 0.01340696  0.01926351  0.1192949   0.01137763  0.        ] 5753.67071768\n",
      "[ 0.01340696  0.0192635   0.11929491  0.01137763  0.        ] 5753.67085674\n",
      "[ 0.01340696  0.0192635   0.1192949   0.01137764  0.        ] 5753.67061585\n",
      "[  1.34069554e-02   1.92635020e-02   1.19294897e-01   1.13776300e-02\n",
      "   1.00000000e-08] 5753.67053328\n",
      "[ 0.02508633  0.02564558  0.08722105  0.01454709  0.        ] 1903.41537621\n",
      "[ 0.02508634  0.02564558  0.08722105  0.01454709  0.        ] 1903.41293631\n",
      "[ 0.02508633  0.02564559  0.08722105  0.01454709  0.        ] 1903.41575453\n",
      "[ 0.02508633  0.02564558  0.08722106  0.01454709  0.        ] 1903.41334447\n",
      "[ 0.02508633  0.02564558  0.08722105  0.0145471   0.        ] 1903.41554049\n",
      "[  2.50863329e-02   2.56455792e-02   8.72210507e-02   1.45470861e-02\n",
      "   1.00000000e-08] 1903.4153854\n",
      "[ 0.02312478  0.02457371  0.09260785  0.01401478  0.        ] 1335.42813184\n",
      "[ 0.02312479  0.02457371  0.09260785  0.01401478  0.        ] 1335.4008422\n",
      "[ 0.02312478  0.02457372  0.09260785  0.01401478  0.        ] 1335.42849802\n",
      "[ 0.02312478  0.02457371  0.09260786  0.01401478  0.        ] 1335.41756339\n",
      "[ 0.02312478  0.02457371  0.09260785  0.01401479  0.        ] 1335.42833071\n",
      "[  2.31247814e-02   2.45737093e-02   9.26078532e-02   1.40147759e-02\n",
      "   1.00000000e-08] 1335.4281695\n",
      "[ 0.02196856  0.02394191  0.09578305  0.01370101  0.        ] 1306.07567136\n",
      "[ 0.02196857  0.02394191  0.09578305  0.01370101  0.        ] 1306.06145739\n",
      "[ 0.02196856  0.02394192  0.09578305  0.01370101  0.        ] 1306.07623607\n",
      "[ 0.02196856  0.02394191  0.09578306  0.01370101  0.        ] 1306.07104394\n",
      "[ 0.02196856  0.02394191  0.09578305  0.01370102  0.        ] 1306.07592916\n",
      "[  2.19685650e-02   2.39419066e-02   9.57830487e-02   1.37010112e-02\n",
      "   1.00000000e-08] 1306.07568503\n",
      "[ 0.01823613  0.00572443  0.10941566  0.006056    0.        ] 5540.46408792\n",
      "[ 0.01823614  0.00572443  0.10941566  0.006056    0.        ] 5540.49394264\n",
      "[ 0.01823613  0.00572444  0.10941566  0.006056    0.        ] 5540.46327502\n",
      "[ 0.01823613  0.00572443  0.10941567  0.006056    0.        ] 5540.47390252\n",
      "[ 0.01823613  0.00572443  0.10941566  0.00605601  0.        ] 5540.46366393\n",
      "[  1.82361320e-02   5.72442914e-03   1.09415658e-01   6.05599587e-03\n",
      "   1.00000000e-08] 5540.46407477\n",
      "[ 0.02162782  0.02227879  0.0970276   0.01300308  0.        ] 1240.74596475\n",
      "[ 0.02162783  0.02227879  0.0970276   0.01300308  0.        ] 1240.75502315\n",
      "[ 0.02162782  0.0222788   0.0970276   0.01300308  0.        ] 1240.74663101\n",
      "[ 0.02162782  0.02227879  0.09702761  0.01300308  0.        ] 1240.75002763\n",
      "[ 0.02162782  0.02227879  0.0970276   0.01300309  0.        ] 1240.74622651\n",
      "[  2.16278220e-02   2.22787882e-02   9.70276032e-02   1.30030789e-02\n",
      "   1.00000000e-08] 1240.74595291\n",
      "[ 0.03027271  0.0001      0.0744659   0.0001      0.        ] 4533.12996718\n",
      "[ 0.03027272  0.0001      0.0744659   0.0001      0.        ] 4533.13424662\n",
      "[ 0.03027271  0.00010001  0.0744659   0.0001      0.        ] 4533.12911631\n",
      "[ 0.03027271  0.0001      0.07446591  0.0001      0.        ] 4533.13095437\n",
      "[ 0.03027271  0.0001      0.0744659   0.00010001  0.        ] 4533.12958837\n",
      "[  3.02727112e-02   1.00000000e-04   7.44658979e-02   1.00000000e-04\n",
      "   1.00000000e-08] 4533.12995776\n",
      "[ 0.02285769  0.01912351  0.09381785  0.01116741  0.        ] 2015.76620456\n",
      "[ 0.0228577   0.01912351  0.09381785  0.01116741  0.        ] 2016.1110049\n",
      "[ 0.02285769  0.01912352  0.09381785  0.01116741  0.        ] 2015.7686325\n",
      "[ 0.02285769  0.01912351  0.09381786  0.01116741  0.        ] 2015.89245641\n",
      "[ 0.02285769  0.01912351  0.09381785  0.01116742  0.        ] 2015.76667153\n",
      "[  2.28576928e-02   1.91235084e-02   9.38178474e-02   1.11674139e-02\n",
      "   1.00000000e-08] 2015.76577688\n",
      "[ 0.02176355  0.02193056  0.09667336  0.01280049  0.        ] 1195.08050505\n",
      "[ 0.02176356  0.02193056  0.09667336  0.01280049  0.        ] 1195.09318336\n",
      "[ 0.02176355  0.02193057  0.09667336  0.01280049  0.        ] 1195.08116666\n",
      "[ 0.02176355  0.02193056  0.09667337  0.01280049  0.        ] 1195.08573869\n",
      "[ 0.02176355  0.02193056  0.09667336  0.0128005   0.        ] 1195.0807592\n",
      "[  2.17635548e-02   2.19305606e-02   9.66733634e-02   1.28004886e-02\n",
      "   1.00000000e-08] 1195.08048965\n",
      "[  1.95226806e-02   1.00000000e-04   1.03479420e-01   1.00000000e-04\n",
      "   0.00000000e+00] 1933.48387397\n",
      "[  1.95226906e-02   1.00000000e-04   1.03479420e-01   1.00000000e-04\n",
      "   0.00000000e+00] 1933.547872\n",
      "[  1.95226806e-02   1.00010000e-04   1.03479420e-01   1.00000000e-04\n",
      "   0.00000000e+00] 1933.48362908\n",
      "[  1.95226806e-02   1.00000000e-04   1.03479430e-01   1.00000000e-04\n",
      "   0.00000000e+00] 1933.50740986\n",
      "[  1.95226806e-02   1.00000000e-04   1.03479420e-01   1.00010000e-04\n",
      "   0.00000000e+00] 1933.48367978\n",
      "[  1.95226806e-02   1.00000000e-04   1.03479420e-01   1.00000000e-04\n",
      "   1.00000000e-08] 1933.48382787\n",
      "[ 0.02111991  0.01566017  0.09862827  0.00915253  0.        ] 990.363854498\n",
      "[ 0.02111992  0.01566017  0.09862827  0.00915253  0.        ] 990.404625995\n",
      "[ 0.02111991  0.01566018  0.09862827  0.00915253  0.        ] 990.364375834\n",
      "[ 0.02111991  0.01566017  0.09862828  0.00915253  0.        ] 990.378971557\n",
      "[ 0.02111991  0.01566017  0.09862827  0.00915254  0.        ] 990.364009922\n",
      "[  2.11199086e-02   1.56601691e-02   9.86282670e-02   9.15252748e-03\n",
      "   1.00000000e-08] 990.363815146\n",
      "[ 0.02169421  0.0001      0.09664421  0.00079282  0.        ] 2047.15361864\n",
      "[ 0.02169422  0.0001      0.09664421  0.00079282  0.        ] 2047.1487585\n",
      "[ 0.02169421  0.00010001  0.09664421  0.00079282  0.        ] 2047.15200039\n",
      "[ 0.02169421  0.0001      0.09664422  0.00079282  0.        ] 2047.15030826\n",
      "[ 0.02169421  0.0001      0.09664421  0.00079283  0.        ] 2047.15295317\n",
      "[  2.16942137e-02   1.00000000e-04   9.66442089e-02   7.92816856e-04\n",
      "   1.00000000e-08] 2047.1536272\n",
      "[ 0.0212836   0.01122505  0.09806275  0.00676976  0.        ] 755.78839331\n",
      "[ 0.02128361  0.01122505  0.09806275  0.00676976  0.        ] 755.954123053\n",
      "[ 0.0212836   0.01122506  0.09806275  0.00676976  0.        ] 755.791334183\n",
      "[ 0.0212836   0.01122505  0.09806276  0.00676976  0.        ] 755.852628759\n",
      "[ 0.0212836   0.01122505  0.09806275  0.00676977  0.        ] 755.78938501\n",
      "[  2.12836030e-02   1.12250486e-02   9.80627502e-02   6.76975617e-03\n",
      "   1.00000000e-08] 755.788220696\n",
      "[ 0.02148891  0.00566252  0.09735348  0.00378129  0.        ] 999.610648639\n",
      "[ 0.02148892  0.00566252  0.09735348  0.00378129  0.        ] 999.613717065\n",
      "[ 0.02148891  0.00566253  0.09735348  0.00378129  0.        ] 999.609547729\n",
      "[ 0.02148891  0.00566252  0.09735349  0.00378129  0.        ] 999.609899027\n",
      "[ 0.02148891  0.00566252  0.09735348  0.0037813   0.        ] 999.610183417\n",
      "[  2.14889083e-02   5.66252428e-03   9.73534796e-02   3.78128651e-03\n",
      "   1.00000000e-08] 999.610650572\n",
      "[ 0.02135094  0.00940067  0.09783013  0.00578961  0.        ] 555.985556303\n",
      "[ 0.02135095  0.00940067  0.09783013  0.00578961  0.        ] 556.021452638\n",
      "[ 0.02135094  0.00940068  0.09783013  0.00578961  0.        ] 555.985037581\n",
      "[ 0.02135094  0.00940067  0.09783014  0.00578961  0.        ] 555.996896415\n",
      "[ 0.02135094  0.00940067  0.09783013  0.00578962  0.        ] 555.985286832\n",
      "[  2.13509383e-02   9.40067048e-03   9.78301260e-02   5.78960790e-03\n",
      "   1.00000000e-08] 555.98552576\n",
      "[  2.07396166e-02   9.85865186e-03   9.93687463e-02   5.99657569e-03\n",
      "   3.25500474e-07] 298.953459176\n",
      "[  2.07396266e-02   9.85865186e-03   9.93687463e-02   5.99657569e-03\n",
      "   3.25500474e-07] 298.884057132\n",
      "[  2.07396166e-02   9.85866186e-03   9.93687463e-02   5.99657569e-03\n",
      "   3.25500474e-07] 298.953721827\n",
      "[  2.07396166e-02   9.85865186e-03   9.93687563e-02   5.99657569e-03\n",
      "   3.25500474e-07] 298.928714848\n",
      "[  2.07396166e-02   9.85865186e-03   9.93687463e-02   5.99658569e-03\n",
      "   3.25500474e-07] 298.953662726\n",
      "[  2.07396166e-02   9.85865186e-03   9.93687463e-02   5.99657569e-03\n",
      "   3.35500474e-07] 298.953520319\n",
      "[  2.10363396e-02   9.63635713e-03   9.86219317e-02   5.89611779e-03\n",
      "   1.67509246e-07] 300.975752882\n",
      "[  2.10363496e-02   9.63635713e-03   9.86219317e-02   5.89611779e-03\n",
      "   1.67509246e-07] 300.993980974\n",
      "[  2.10363396e-02   9.63636713e-03   9.86219317e-02   5.89611779e-03\n",
      "   1.67509246e-07] 300.974998308\n",
      "[  2.10363396e-02   9.63635713e-03   9.86219417e-02   5.89611779e-03\n",
      "   1.67509246e-07] 300.980227927\n",
      "[  2.10363396e-02   9.63635713e-03   9.86219317e-02   5.89612779e-03\n",
      "   1.67509246e-07] 300.975412654\n",
      "[  2.10363396e-02   9.63635713e-03   9.86219317e-02   5.89611779e-03\n",
      "   1.77509246e-07] 300.97574166\n",
      "[  2.08869231e-02   9.74829489e-03   9.89979943e-02   5.94670393e-03\n",
      "   2.47066615e-07] 236.519739816\n",
      "[  2.08869331e-02   9.74829489e-03   9.89979943e-02   5.94670393e-03\n",
      "   2.47066615e-07] 236.500883762\n",
      "[  2.08869231e-02   9.74830489e-03   9.89979943e-02   5.94670393e-03\n",
      "   2.47066615e-07] 236.519671671\n",
      "[  2.08869231e-02   9.74829489e-03   9.89980043e-02   5.94670393e-03\n",
      "   2.47066615e-07] 236.512296272\n",
      "[  2.08869231e-02   9.74829489e-03   9.89979943e-02   5.94671393e-03\n",
      "   2.47066615e-07] 236.519736975\n",
      "[  2.08869231e-02   9.74829489e-03   9.89979943e-02   5.94670393e-03\n",
      "   2.57066615e-07] 236.519758828\n",
      "[  1.86356063e-02   3.66768050e-03   1.05364899e-01   2.33221874e-03\n",
      "   3.77642103e-07] 682.971699465\n",
      "[  1.86356163e-02   3.66768050e-03   1.05364899e-01   2.33221874e-03\n",
      "   3.77642103e-07] 682.991674385\n",
      "[  1.86356063e-02   3.66769050e-03   1.05364899e-01   2.33221874e-03\n",
      "   3.77642103e-07] 682.972879957\n",
      "[  1.86356063e-02   3.66768050e-03   1.05364909e-01   2.33221874e-03\n",
      "   3.77642103e-07] 682.981616093\n",
      "[  1.86356063e-02   3.66768050e-03   1.05364899e-01   2.33222874e-03\n",
      "   3.77642103e-07] 682.972167867\n",
      "[  1.86356063e-02   3.66768050e-03   1.05364899e-01   2.33221874e-03\n",
      "   3.87642103e-07] 682.971682352\n",
      "[  2.04616079e-02   8.59955490e-03   1.00200820e-01   5.26386114e-03\n",
      "   2.71734728e-07] 186.633155718\n",
      "[  2.04616179e-02   8.59955490e-03   1.00200820e-01   5.26386114e-03\n",
      "   2.71734728e-07] 186.630164997\n",
      "[  2.04616079e-02   8.59956490e-03   1.00200820e-01   5.26386114e-03\n",
      "   2.71734728e-07] 186.633505023\n",
      "[  2.04616079e-02   8.59955490e-03   1.00200830e-01   5.26386114e-03\n",
      "   2.71734728e-07] 186.632374302\n",
      "[  2.04616079e-02   8.59955490e-03   1.00200820e-01   5.26387114e-03\n",
      "   2.71734728e-07] 186.633304844\n",
      "[  2.04616079e-02   8.59955490e-03   1.00200820e-01   5.26386114e-03\n",
      "   2.81734728e-07] 186.633157603\n",
      "[  1.88089464e-02   2.68544644e-04   1.04792617e-01   5.10570546e-04\n",
      "   3.11934335e-07] 496.919216169\n",
      "[  1.88089564e-02   2.68544644e-04   1.04792617e-01   5.10570546e-04\n",
      "   3.11934335e-07] 496.902552421\n",
      "[  1.88089464e-02   2.68554644e-04   1.04792617e-01   5.10570546e-04\n",
      "   3.11934335e-07] 496.917277597\n",
      "[  1.88089464e-02   2.68544644e-04   1.04792627e-01   5.10570546e-04\n",
      "   3.11934335e-07] 496.911075374\n",
      "[  1.88089464e-02   2.68544644e-04   1.04792617e-01   5.10580546e-04\n",
      "   3.11934335e-07] 496.918417617\n",
      "[  1.88089464e-02   2.68544644e-04   1.04792617e-01   5.10570546e-04\n",
      "   3.21934335e-07] 496.9192299\n",
      "[  2.00731223e-02   6.64121235e-03   1.01280198e-01   4.14652112e-03\n",
      "   2.81184314e-07] 157.960273112\n",
      "[  2.00731323e-02   6.64121235e-03   1.01280198e-01   4.14652112e-03\n",
      "   2.81184314e-07] 157.997201065\n",
      "[  2.00731223e-02   6.64122235e-03   1.01280198e-01   4.14652112e-03\n",
      "   2.81184314e-07] 157.960129956\n",
      "[  2.00731223e-02   6.64121235e-03   1.01280208e-01   4.14652112e-03\n",
      "   2.81184314e-07] 157.973004037\n",
      "[  2.00731223e-02   6.64121235e-03   1.01280198e-01   4.14653112e-03\n",
      "   2.81184314e-07] 157.960166063\n",
      "[  2.00731223e-02   6.64121235e-03   1.01280198e-01   4.14652112e-03\n",
      "   2.91184314e-07] 157.960245269\n",
      "[  1.54927836e-02   1.00000000e-04   1.13843034e-01   1.00000000e-04\n",
      "   6.78680071e-07] 3075.08033894\n",
      "[  1.54927936e-02   1.00000000e-04   1.13843034e-01   1.00000000e-04\n",
      "   6.78680071e-07] 3075.06272859\n",
      "[  1.54927836e-02   1.00010000e-04   1.13843034e-01   1.00000000e-04\n",
      "   6.78680071e-07] 3075.08125985\n",
      "[  1.54927836e-02   1.00000000e-04   1.13843044e-01   1.00000000e-04\n",
      "   6.78680071e-07] 3075.07754102\n",
      "[  1.54927836e-02   1.00000000e-04   1.13843034e-01   1.00010000e-04\n",
      "   6.78680071e-07] 3075.0807301\n",
      "[  1.54927836e-02   1.00000000e-04   1.13843034e-01   1.00000000e-04\n",
      "   6.88680071e-07] 3075.08033995\n",
      "[  1.97865624e-02   6.23197420e-03   1.02066168e-01   3.89335844e-03\n",
      "   3.06052859e-07] 216.031042213\n",
      "[  1.97865724e-02   6.23197420e-03   1.02066168e-01   3.89335844e-03\n",
      "   3.06052859e-07] 216.002765336\n",
      "[  1.97865624e-02   6.23198420e-03   1.02066168e-01   3.89335844e-03\n",
      "   3.06052859e-07] 216.032078519\n",
      "[  1.97865624e-02   6.23197420e-03   1.02066178e-01   3.89335844e-03\n",
      "   3.06052859e-07] 216.022866\n",
      "[  1.97865624e-02   6.23197420e-03   1.02066168e-01   3.89336844e-03\n",
      "   3.06052859e-07] 216.031508821\n",
      "[  1.97865624e-02   6.23197420e-03   1.02066168e-01   3.89335844e-03\n",
      "   3.16052859e-07] 216.031059036\n",
      "[  2.00249317e-02   6.57239095e-03   1.01412374e-01   4.10394686e-03\n",
      "   2.85366446e-07] 152.929246482\n",
      "[  2.00249417e-02   6.57239095e-03   1.01412374e-01   4.10394686e-03\n",
      "   2.85366446e-07] 152.928384217\n",
      "[  2.00249317e-02   6.57240095e-03   1.01412374e-01   4.10394686e-03\n",
      "   2.85366446e-07] 152.92928071\n",
      "[  2.00249317e-02   6.57239095e-03   1.01412384e-01   4.10394686e-03\n",
      "   2.85366446e-07] 152.928864487\n",
      "[  2.00249317e-02   6.57239095e-03   1.01412374e-01   4.10395686e-03\n",
      "   2.85366446e-07] 152.929261203\n",
      "[  2.00249317e-02   6.57239095e-03   1.01412374e-01   4.10394686e-03\n",
      "   2.95366446e-07] 152.92924736\n",
      "[  1.93084064e-02   1.83877979e-03   1.03387539e-01   1.42773629e-03\n",
      "   3.40585458e-07] 455.400354509\n",
      "[  1.93084164e-02   1.83877979e-03   1.03387539e-01   1.42773629e-03\n",
      "   3.40585458e-07] 455.382314802\n",
      "[  1.93084064e-02   1.83878979e-03   1.03387539e-01   1.42773629e-03\n",
      "   3.40585458e-07] 455.398717517\n",
      "[  1.93084064e-02   1.83877979e-03   1.03387549e-01   1.42773629e-03\n",
      "   3.40585458e-07] 455.3918137\n",
      "[  1.93084064e-02   1.83877979e-03   1.03387539e-01   1.42774629e-03\n",
      "   3.40585458e-07] 455.399683297\n",
      "[  1.93084064e-02   1.83877979e-03   1.03387539e-01   1.42773629e-03\n",
      "   3.50585458e-07] 455.400370612\n",
      "[  1.99953900e-02   6.37722877e-03   1.01493808e-01   3.99360931e-03\n",
      "   2.87643073e-07] 151.96147282\n",
      "[  1.99954000e-02   6.37722877e-03   1.01493808e-01   3.99360931e-03\n",
      "   2.87643073e-07] 151.966612859\n",
      "[  1.99953900e-02   6.37723877e-03   1.01493808e-01   3.99360931e-03\n",
      "   2.87643073e-07] 151.961446424\n",
      "[  1.99953900e-02   6.37722877e-03   1.01493818e-01   3.99360931e-03\n",
      "   2.87643073e-07] 151.963135779\n",
      "[  1.99953900e-02   6.37722877e-03   1.01493808e-01   3.99361931e-03\n",
      "   2.87643073e-07] 151.961454663\n",
      "[  1.99953900e-02   6.37722877e-03   1.01493808e-01   3.99360931e-03\n",
      "   2.97643073e-07] 151.961469275\n",
      "[  1.97127302e-02   5.18759229e-03   1.02281693e-01   3.30712481e-03\n",
      "   3.05880385e-07] 150.294149202\n",
      "[  1.97127402e-02   5.18759229e-03   1.02281693e-01   3.30712481e-03\n",
      "   3.05880385e-07] 150.29199477\n",
      "[  1.97127302e-02   5.18760229e-03   1.02281693e-01   3.30712481e-03\n",
      "   3.05880385e-07] 150.294134211\n",
      "[  1.97127302e-02   5.18759229e-03   1.02281703e-01   3.30712481e-03\n",
      "   3.05880385e-07] 150.293399995\n",
      "[  1.97127302e-02   5.18759229e-03   1.02281693e-01   3.30713481e-03\n",
      "   3.05880385e-07] 150.294144773\n",
      "[  1.97127302e-02   5.18759229e-03   1.02281693e-01   3.30712481e-03\n",
      "   3.15880385e-07] 150.294150732\n",
      "[  1.97902677e-02   5.56238438e-03   1.02066610e-01   3.52175427e-03\n",
      "   3.00807997e-07] 149.305379946\n",
      "[  1.97902777e-02   5.56238438e-03   1.02066610e-01   3.52175427e-03\n",
      "   3.00807997e-07] 149.304472441\n",
      "[  1.97902677e-02   5.56239438e-03   1.02066610e-01   3.52175427e-03\n",
      "   3.00807997e-07] 149.305379036\n",
      "[  1.97902677e-02   5.56238438e-03   1.02066620e-01   3.52175427e-03\n",
      "   3.00807997e-07] 149.30505374\n",
      "[  1.97902677e-02   5.56238438e-03   1.02066610e-01   3.52176427e-03\n",
      "   3.00807997e-07] 149.305379872\n",
      "[  1.97902677e-02   5.56238438e-03   1.02066610e-01   3.52175427e-03\n",
      "   3.10807997e-07] 149.305380629\n",
      "[  1.97909633e-02   5.58214147e-03   1.02065117e-01   3.53257014e-03\n",
      "   3.01066811e-07] 149.29191813\n",
      "[  1.97909733e-02   5.58214147e-03   1.02065117e-01   3.53257014e-03\n",
      "   3.01066811e-07] 149.290582418\n",
      "[  1.97909633e-02   5.58215147e-03   1.02065117e-01   3.53257014e-03\n",
      "   3.01066811e-07] 149.291926265\n",
      "[  1.97909633e-02   5.58214147e-03   1.02065127e-01   3.53257014e-03\n",
      "   3.01066811e-07] 149.291455116\n",
      "[  1.97909633e-02   5.58214147e-03   1.02065117e-01   3.53258014e-03\n",
      "   3.01066811e-07] 149.291922353\n",
      "[  1.97909633e-02   5.58214147e-03   1.02065117e-01   3.53257014e-03\n",
      "   3.11066811e-07] 149.291919097\n",
      "[  1.97913269e-02   5.59053521e-03   1.02064447e-01   3.53713919e-03\n",
      "   3.01264239e-07] 149.283379387\n",
      "[  1.97913369e-02   5.59053521e-03   1.02064447e-01   3.53713919e-03\n",
      "   3.01264239e-07] 149.282438239\n",
      "[  1.97913269e-02   5.59054521e-03   1.02064447e-01   3.53713919e-03\n",
      "   3.01264239e-07] 149.283386556\n",
      "[  1.97913269e-02   5.59053521e-03   1.02064457e-01   3.53713919e-03\n",
      "   3.01264239e-07] 149.283055104\n",
      "[  1.97913269e-02   5.59053521e-03   1.02064447e-01   3.53714919e-03\n",
      "   3.01264239e-07] 149.283382701\n",
      "[  1.97913269e-02   5.59053521e-03   1.02064447e-01   3.53713919e-03\n",
      "   3.11264239e-07] 149.283380064\n",
      "[  1.97902879e-02   5.59092846e-03   1.02067762e-01   3.53713636e-03\n",
      "   3.01571349e-07] 149.282268459\n",
      "[  1.97902979e-02   5.59092846e-03   1.02067762e-01   3.53713636e-03\n",
      "   3.01571349e-07] 149.282265319\n",
      "[  1.97902879e-02   5.59093846e-03   1.02067762e-01   3.53713636e-03\n",
      "   3.01571349e-07] 149.282267999\n",
      "[  1.97902879e-02   5.59092846e-03   1.02067772e-01   3.53713636e-03\n",
      "   3.01571349e-07] 149.282265524\n",
      "[  1.97902879e-02   5.59092846e-03   1.02067762e-01   3.53714636e-03\n",
      "   3.01571349e-07] 149.282267421\n",
      "[  1.97902879e-02   5.59092846e-03   1.02067762e-01   3.53713636e-03\n",
      "   3.11571349e-07] 149.282268467\n",
      "[  1.97897359e-02   5.59143558e-03   1.02069408e-01   3.53732455e-03\n",
      "   3.01669722e-07] 149.284234358\n",
      "[  1.97897459e-02   5.59143558e-03   1.02069408e-01   3.53732455e-03\n",
      "   3.01669722e-07] 149.284210945\n",
      "[  1.97897359e-02   5.59144558e-03   1.02069408e-01   3.53732455e-03\n",
      "   3.01669722e-07] 149.284235051\n",
      "[  1.97897359e-02   5.59143558e-03   1.02069418e-01   3.53732455e-03\n",
      "   3.01669722e-07] 149.284226616\n",
      "[  1.97897359e-02   5.59143558e-03   1.02069408e-01   3.53733455e-03\n",
      "   3.01669722e-07] 149.284233823\n",
      "[  1.97897359e-02   5.59143558e-03   1.02069408e-01   3.53732455e-03\n",
      "   3.11669722e-07] 149.284234375\n",
      "[  1.97902726e-02   5.59094247e-03   1.02067807e-01   3.53714156e-03\n",
      "   3.01574067e-07] 149.282317743\n",
      "[  1.97902826e-02   5.59094247e-03   1.02067807e-01   3.53714156e-03\n",
      "   3.01574067e-07] 149.282314156\n",
      "[  1.97902726e-02   5.59095247e-03   1.02067807e-01   3.53714156e-03\n",
      "   3.01574067e-07] 149.282317309\n",
      "[  1.97902726e-02   5.59094247e-03   1.02067817e-01   3.53714156e-03\n",
      "   3.01574067e-07] 149.282314712\n",
      "[  1.97902726e-02   5.59094247e-03   1.02067807e-01   3.53715156e-03\n",
      "   3.01574067e-07] 149.282316718\n",
      "[  1.97902726e-02   5.59094247e-03   1.02067807e-01   3.53714156e-03\n",
      "   3.11574067e-07] 149.28231775\n",
      "[  1.97902874e-02   5.59092885e-03   1.02067763e-01   3.53713651e-03\n",
      "   3.01571426e-07] 149.28226985\n",
      "[  1.97902974e-02   5.59092885e-03   1.02067763e-01   3.53713651e-03\n",
      "   3.01571426e-07] 149.282266696\n",
      "[  1.97902874e-02   5.59093885e-03   1.02067763e-01   3.53713651e-03\n",
      "   3.01571426e-07] 149.282269385\n",
      "[  1.97902874e-02   5.59092885e-03   1.02067773e-01   3.53713651e-03\n",
      "   3.01571426e-07] 149.282266912\n",
      "[  1.97902874e-02   5.59092885e-03   1.02067763e-01   3.53714651e-03\n",
      "   3.01571426e-07] 149.282268813\n",
      "[  1.97902874e-02   5.59092885e-03   1.02067763e-01   3.53713651e-03\n",
      "   3.11571426e-07] 149.282269857\n",
      "[  1.97902878e-02   5.59092847e-03   1.02067762e-01   3.53713637e-03\n",
      "   3.01571351e-07] 149.282268496\n",
      "[  1.97902978e-02   5.59092847e-03   1.02067762e-01   3.53713637e-03\n",
      "   3.01571351e-07] 149.282265357\n",
      "[  1.97902878e-02   5.59093847e-03   1.02067762e-01   3.53713637e-03\n",
      "   3.01571351e-07] 149.282268033\n",
      "[  1.97902878e-02   5.59092847e-03   1.02067772e-01   3.53713637e-03\n",
      "   3.01571351e-07] 149.282265561\n",
      "[  1.97902878e-02   5.59092847e-03   1.02067762e-01   3.53714637e-03\n",
      "   3.01571351e-07] 149.282267459\n",
      "[  1.97902878e-02   5.59092847e-03   1.02067762e-01   3.53713637e-03\n",
      "   3.11571351e-07] 149.282268503\n",
      "[  1.97902879e-02   5.59092846e-03   1.02067762e-01   3.53713636e-03\n",
      "   3.01571349e-07] 149.282268458\n",
      "[  1.97902979e-02   5.59092846e-03   1.02067762e-01   3.53713636e-03\n",
      "   3.01571349e-07] 149.28226532\n",
      "[  1.97902879e-02   5.59093846e-03   1.02067762e-01   3.53713636e-03\n",
      "   3.01571349e-07] 149.282267994\n",
      "[  1.97902879e-02   5.59092846e-03   1.02067772e-01   3.53713636e-03\n",
      "   3.01571349e-07] 149.282265523\n",
      "[  1.97902879e-02   5.59092846e-03   1.02067762e-01   3.53714636e-03\n",
      "   3.01571349e-07] 149.28226742\n",
      "[  1.97902879e-02   5.59092846e-03   1.02067762e-01   3.53713636e-03\n",
      "   3.11571349e-07] 149.282268465\n",
      "[  1.97902879e-02   5.59092846e-03   1.02067762e-01   3.53713636e-03\n",
      "   3.01571349e-07] 149.282268458\n",
      "[  1.97902979e-02   5.59092846e-03   1.02067762e-01   3.53713636e-03\n",
      "   3.01571349e-07] 149.282265318\n",
      "[  1.97902879e-02   5.59093846e-03   1.02067762e-01   3.53713636e-03\n",
      "   3.01571349e-07] 149.282268\n",
      "[  1.97902879e-02   5.59092846e-03   1.02067772e-01   3.53713636e-03\n",
      "   3.01571349e-07] 149.282265523\n",
      "[  1.97902879e-02   5.59092846e-03   1.02067762e-01   3.53714636e-03\n",
      "   3.01571349e-07] 149.28226742\n",
      "[  1.97902879e-02   5.59092846e-03   1.02067762e-01   3.53713636e-03\n",
      "   3.11571349e-07] 149.282268466\n",
      "[  1.97902879e-02   5.59092846e-03   1.02067762e-01   3.53713636e-03\n",
      "   3.01571349e-07] 149.282268454\n",
      "[  1.97902979e-02   5.59092846e-03   1.02067762e-01   3.53713636e-03\n",
      "   3.01571349e-07] 149.282265315\n",
      "[  1.97902879e-02   5.59093846e-03   1.02067762e-01   3.53713636e-03\n",
      "   3.01571349e-07] 149.282267993\n",
      "[  1.97902879e-02   5.59092846e-03   1.02067772e-01   3.53713636e-03\n",
      "   3.01571349e-07] 149.282265519\n",
      "[  1.97902879e-02   5.59092846e-03   1.02067762e-01   3.53714636e-03\n",
      "   3.01571349e-07] 149.282267416\n",
      "[  1.97902879e-02   5.59092846e-03   1.02067762e-01   3.53713636e-03\n",
      "   3.11571349e-07] 149.282268461\n",
      "[  1.97902879e-02   5.59092846e-03   1.02067762e-01   3.53713636e-03\n",
      "   3.01571349e-07] 149.28226846\n",
      "[  1.97902979e-02   5.59092846e-03   1.02067762e-01   3.53713636e-03\n",
      "   3.01571349e-07] 149.282265317\n",
      "[  1.97902879e-02   5.59093846e-03   1.02067762e-01   3.53713636e-03\n",
      "   3.01571349e-07] 149.282267994\n",
      "[  1.97902879e-02   5.59092846e-03   1.02067772e-01   3.53713636e-03\n",
      "   3.01571349e-07] 149.282265524\n",
      "[  1.97902879e-02   5.59092846e-03   1.02067762e-01   3.53714636e-03\n",
      "   3.01571349e-07] 149.282267424\n",
      "[  1.97902879e-02   5.59092846e-03   1.02067762e-01   3.53713636e-03\n",
      "   3.11571349e-07] 149.282268467\n",
      "[  1.97902879e-02   5.59092846e-03   1.02067762e-01   3.53713636e-03\n",
      "   3.01571349e-07] 149.282268454\n",
      "[  1.97902979e-02   5.59092846e-03   1.02067762e-01   3.53713636e-03\n",
      "   3.01571349e-07] 149.282265315\n",
      "[  1.97902879e-02   5.59093846e-03   1.02067762e-01   3.53713636e-03\n",
      "   3.01571349e-07] 149.282267993\n",
      "[  1.97902879e-02   5.59092846e-03   1.02067772e-01   3.53713636e-03\n",
      "   3.01571349e-07] 149.282265519\n",
      "[  1.97902879e-02   5.59092846e-03   1.02067762e-01   3.53714636e-03\n",
      "   3.01571349e-07] 149.282267416\n",
      "[  1.97902879e-02   5.59092846e-03   1.02067762e-01   3.53713636e-03\n",
      "   3.11571349e-07] 149.282268461\n"
     ]
    }
   ],
   "source": [
    "opt_res = minimize(optim_fun_impedance, (d_DUT_0, Z_DUT_0, d_CEA_0, Z_CEA_0, d_sstub_0),\n",
    "                  bounds=bounds_pties)"
   ]
  },
  {
   "cell_type": "code",
   "execution_count": 16,
   "metadata": {
    "collapsed": false,
    "scrolled": true
   },
   "outputs": [
    {
     "name": "stdout",
     "output_type": "stream",
     "text": [
      "      fun: 149.28226845409284\n",
      " hess_inv: <5x5 LbfgsInvHessProduct with dtype=float64>\n",
      "      jac: array([-313.9445937 ,  -46.13231965, -293.50170792, -103.76570287,\n",
      "          0.73360411])\n",
      "  message: b'CONVERGENCE: REL_REDUCTION_OF_F_<=_FACTR*EPSMCH'\n",
      "     nfev: 360\n",
      "      nit: 22\n",
      "   status: 0\n",
      "  success: True\n",
      "        x: array([  1.97902879e-02,   5.59092846e-03,   1.02067762e-01,\n",
      "         3.53713636e-03,   3.01571349e-07])\n"
     ]
    }
   ],
   "source": [
    "print(opt_res)\n",
    "d_DUT_opt, Z_DUT_opt, d_CEA_opt, Z_CEA_opt, d_sstub_opt = opt_res.x"
   ]
  },
  {
   "cell_type": "code",
   "execution_count": 17,
   "metadata": {
    "collapsed": false
   },
   "outputs": [
    {
     "data": {
      "text/plain": [
       "<matplotlib.legend.Legend at 0xaaf2358>"
      ]
     },
     "execution_count": 17,
     "metadata": {},
     "output_type": "execute_result"
    },
    {
     "data": {
      "image/png": "[encoded data removed]",
      "text/plain": [
       "<matplotlib.figure.Figure at 0xaaf2b00>"
      ]
     },
     "metadata": {},
     "output_type": "display_data"
    }
   ],
   "source": [
    "resonator_network(d_sc_DUT=d_DUT_opt, d_sc_CEA=d_CEA_opt, \n",
    "                  Z_sc_CEA=Z_CEA_opt, Z_sc_DUT=Z_DUT_opt, \n",
    "                  d_sstub=d_sstub_opt).plot_s_db()\n",
    "plt.plot(exp_freq, exp_mag_dB)\n",
    "plt.xlim(62.5e6, 62.8e6)\n",
    "plt.axvline(exp_freq_match, color='k', ls='--')\n",
    "plt.legend(('Optimized shorts', 'Measurements'))"
   ]
  },
  {
   "cell_type": "markdown",
   "metadata": {},
   "source": [
    "## Map of the short lengths"
   ]
  },
  {
   "cell_type": "code",
   "execution_count": 18,
   "metadata": {
    "collapsed": true
   },
   "outputs": [],
   "source": [
    "# Reduce the network to a single frequency\n",
    "idx_f_match = np.argmin(abs(res.frequency.f - 62.64e6))\n",
    "\n",
    "res_f_match = res[idx_f_match]"
   ]
  },
  {
   "cell_type": "code",
   "execution_count": 19,
   "metadata": {
    "collapsed": false
   },
   "outputs": [],
   "source": [
    "# Creating networks for service stubs and shorts\n",
    "def resonator_network_fmatch(f_match=62.64e6, \n",
    "                      d_sc_CEA = 161e-3, Z_sc_CEA = 10e-3, \n",
    "                      d_sc_DUT = 38e-3, Z_sc_DUT = 10e-3, \n",
    "                      d_sstub = 50e-3):\n",
    "    '''\n",
    "    Create and return the resonator Network from specified short-circuit lengths and resistances\n",
    "    '''\n",
    "    # take the closest frequency to the desired one\n",
    "    idx_f_match = np.argmin(abs(resonator_base.frequency.f - f_match))\n",
    "    freq_obj = resonator_base.frequency[idx_f_match]\n",
    "    \n",
    "    # Coaxial media associated to transmission line for service stub and short circuits\n",
    "    _sc_DUT_media = rf.media.Coaxial(frequency=freq_obj, Dint=127.92e-3, Dout=216e-3, epsilon_r=1)\n",
    "    _sc_CEA_media = rf.media.Coaxial(frequency=freq_obj, Dint=140e-3, Dout=219e-3, epsilon_r=1)\n",
    "    _service_stub_media = rf.media.Coaxial(frequency=freq_obj, Dint=55.5e-3, Dout=152e-3, epsilon_r=1)\n",
    "\n",
    "    # Creating transmission line medias \n",
    "    service_stub = _service_stub_media.line(d_sstub, unit='m') ** _service_stub_media.short()\n",
    "    sc_CEA = _sc_CEA_media.line(d_sc_CEA, unit='m')**_sc_CEA_media.resistor(Z_sc_CEA)**_sc_CEA_media.short()\n",
    "    sc_DUT = _sc_DUT_media.line(d_sc_DUT, unit='m')**_sc_DUT_media.resistor(Z_sc_DUT)**_sc_DUT_media.short()\n",
    "    # Connecting the resonator with its ports. \n",
    "    # Port 1 : resonator input\n",
    "    # Port 2 : DUT\n",
    "    # Port 3 : CEA\n",
    "    # Port 4: service stub\n",
    "    _res = rf.connect(resonator_base[idx_f_match], 3, service_stub, 0) # resonator to service stub \n",
    "    _res = rf.connect(_res, 2, sc_CEA, 0) # resonator to CEA\n",
    "    res = rf.connect(_res, 1, sc_DUT, 0) # resonator to DUT\n",
    "    return res"
   ]
  },
  {
   "cell_type": "code",
   "execution_count": 21,
   "metadata": {
    "collapsed": false
   },
   "outputs": [],
   "source": [
    "d_DUTs = np.linspace(10e-3, 35e-3, 100)\n",
    "d_CEAs = np.linspace(10e-3, 140e-3, 100)\n",
    "\n",
    "dd_DUT, dd_CEA = np.meshgrid(d_DUTs, d_CEAs)"
   ]
  },
  {
   "cell_type": "code",
   "execution_count": 22,
   "metadata": {
    "collapsed": false
   },
   "outputs": [],
   "source": [
    "def S11_f_match(d_DUT, d_CEA):\n",
    "    _res = resonator_network_fmatch(d_sc_DUT=d_DUT, Z_sc_DUT=Z_DUT_opt,\n",
    "                                    d_sc_CEA=d_CEA, Z_sc_CEA=Z_CEA_opt,\n",
    "                                    d_sstub=d_sstub_opt)    \n",
    "    return np.squeeze(_res.s_db[0])\n",
    "\n",
    "vfunc = np.vectorize(S11_f_match)"
   ]
  },
  {
   "cell_type": "code",
   "execution_count": 23,
   "metadata": {
    "collapsed": false
   },
   "outputs": [],
   "source": [
    "S11 = vfunc(dd_DUT, dd_CEA)"
   ]
  },
  {
   "cell_type": "code",
   "execution_count": 24,
   "metadata": {
    "collapsed": false
   },
   "outputs": [
    {
     "data": {
      "text/plain": [
       "<matplotlib.text.Text at 0xa40bda0>"
      ]
     },
     "execution_count": 24,
     "metadata": {},
     "output_type": "execute_result"
    },
    {
     "data": {
      "image/png": "[encoded data removed]",
      "text/plain": [
       "<matplotlib.figure.Figure at 0xa036f98>"
      ]
     },
     "metadata": {},
     "output_type": "display_data"
    }
   ],
   "source": [
    "fig,ax=plt.subplots()\n",
    "c=ax.pcolor(dd_DUT*1e3, dd_CEA*1e3, S11, cmap='Greens_r')\n",
    "fig.colorbar(c)\n",
    "ax.axvline(d_DUT_opt*1e3, ls='--')\n",
    "ax.axhline(d_CEA_opt*1e3, ls='--')\n",
    "\n",
    "ax.set_xlabel('L DUT [mm]')\n",
    "ax.set_ylabel('L CEA [mm]')"
   ]
  }
 ],
 "metadata": {
  "kernelspec": {
   "display_name": "Python [conda root]",
   "language": "python",
   "name": "conda-root-py"
  },
  "language_info": {
   "codemirror_mode": {
    "name": "ipython",
    "version": 3
   },
   "file_extension": ".py",
   "mimetype": "text/x-python",
   "name": "python",
   "nbconvert_exporter": "python",
   "pygments_lexer": "ipython3",
   "version": "3.5.2"
  }
 },
 "nbformat": 4,
 "nbformat_minor": 2
}
